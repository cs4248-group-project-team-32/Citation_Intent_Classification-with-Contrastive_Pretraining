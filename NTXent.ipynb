{
  "cells": [
    {
      "cell_type": "code",
      "source": [
        "%pip install pytorch_metric_learning datasets"
      ],
      "metadata": {
        "colab": {
          "base_uri": "https://localhost:8080/"
        },
        "id": "98fTOhtDXX93",
        "outputId": "f43682f0-5044-4c45-8f3a-e77b7d4eac86"
      },
      "execution_count": 1,
      "outputs": [
        {
          "output_type": "stream",
          "name": "stdout",
          "text": [
            "Requirement already satisfied: pytorch_metric_learning in /usr/local/lib/python3.10/dist-packages (2.5.0)\n",
            "Requirement already satisfied: datasets in /usr/local/lib/python3.10/dist-packages (2.18.0)\n",
            "Requirement already satisfied: numpy in /usr/local/lib/python3.10/dist-packages (from pytorch_metric_learning) (1.25.2)\n",
            "Requirement already satisfied: scikit-learn in /usr/local/lib/python3.10/dist-packages (from pytorch_metric_learning) (1.2.2)\n",
            "Requirement already satisfied: torch>=1.6.0 in /usr/local/lib/python3.10/dist-packages (from pytorch_metric_learning) (2.2.1+cu121)\n",
            "Requirement already satisfied: tqdm in /usr/local/lib/python3.10/dist-packages (from pytorch_metric_learning) (4.66.2)\n",
            "Requirement already satisfied: filelock in /usr/local/lib/python3.10/dist-packages (from datasets) (3.13.3)\n",
            "Requirement already satisfied: pyarrow>=12.0.0 in /usr/local/lib/python3.10/dist-packages (from datasets) (14.0.2)\n",
            "Requirement already satisfied: pyarrow-hotfix in /usr/local/lib/python3.10/dist-packages (from datasets) (0.6)\n",
            "Requirement already satisfied: dill<0.3.9,>=0.3.0 in /usr/local/lib/python3.10/dist-packages (from datasets) (0.3.8)\n",
            "Requirement already satisfied: pandas in /usr/local/lib/python3.10/dist-packages (from datasets) (2.0.3)\n",
            "Requirement already satisfied: requests>=2.19.0 in /usr/local/lib/python3.10/dist-packages (from datasets) (2.31.0)\n",
            "Requirement already satisfied: xxhash in /usr/local/lib/python3.10/dist-packages (from datasets) (3.4.1)\n",
            "Requirement already satisfied: multiprocess in /usr/local/lib/python3.10/dist-packages (from datasets) (0.70.16)\n",
            "Requirement already satisfied: fsspec[http]<=2024.2.0,>=2023.1.0 in /usr/local/lib/python3.10/dist-packages (from datasets) (2023.6.0)\n",
            "Requirement already satisfied: aiohttp in /usr/local/lib/python3.10/dist-packages (from datasets) (3.9.3)\n",
            "Requirement already satisfied: huggingface-hub>=0.19.4 in /usr/local/lib/python3.10/dist-packages (from datasets) (0.20.3)\n",
            "Requirement already satisfied: packaging in /usr/local/lib/python3.10/dist-packages (from datasets) (24.0)\n",
            "Requirement already satisfied: pyyaml>=5.1 in /usr/local/lib/python3.10/dist-packages (from datasets) (6.0.1)\n",
            "Requirement already satisfied: aiosignal>=1.1.2 in /usr/local/lib/python3.10/dist-packages (from aiohttp->datasets) (1.3.1)\n",
            "Requirement already satisfied: attrs>=17.3.0 in /usr/local/lib/python3.10/dist-packages (from aiohttp->datasets) (23.2.0)\n",
            "Requirement already satisfied: frozenlist>=1.1.1 in /usr/local/lib/python3.10/dist-packages (from aiohttp->datasets) (1.4.1)\n",
            "Requirement already satisfied: multidict<7.0,>=4.5 in /usr/local/lib/python3.10/dist-packages (from aiohttp->datasets) (6.0.5)\n",
            "Requirement already satisfied: yarl<2.0,>=1.0 in /usr/local/lib/python3.10/dist-packages (from aiohttp->datasets) (1.9.4)\n",
            "Requirement already satisfied: async-timeout<5.0,>=4.0 in /usr/local/lib/python3.10/dist-packages (from aiohttp->datasets) (4.0.3)\n",
            "Requirement already satisfied: typing-extensions>=3.7.4.3 in /usr/local/lib/python3.10/dist-packages (from huggingface-hub>=0.19.4->datasets) (4.10.0)\n",
            "Requirement already satisfied: charset-normalizer<4,>=2 in /usr/local/lib/python3.10/dist-packages (from requests>=2.19.0->datasets) (3.3.2)\n",
            "Requirement already satisfied: idna<4,>=2.5 in /usr/local/lib/python3.10/dist-packages (from requests>=2.19.0->datasets) (3.6)\n",
            "Requirement already satisfied: urllib3<3,>=1.21.1 in /usr/local/lib/python3.10/dist-packages (from requests>=2.19.0->datasets) (2.0.7)\n",
            "Requirement already satisfied: certifi>=2017.4.17 in /usr/local/lib/python3.10/dist-packages (from requests>=2.19.0->datasets) (2024.2.2)\n",
            "Requirement already satisfied: sympy in /usr/local/lib/python3.10/dist-packages (from torch>=1.6.0->pytorch_metric_learning) (1.12)\n",
            "Requirement already satisfied: networkx in /usr/local/lib/python3.10/dist-packages (from torch>=1.6.0->pytorch_metric_learning) (3.2.1)\n",
            "Requirement already satisfied: jinja2 in /usr/local/lib/python3.10/dist-packages (from torch>=1.6.0->pytorch_metric_learning) (3.1.3)\n",
            "Requirement already satisfied: nvidia-cuda-nvrtc-cu12==12.1.105 in /usr/local/lib/python3.10/dist-packages (from torch>=1.6.0->pytorch_metric_learning) (12.1.105)\n",
            "Requirement already satisfied: nvidia-cuda-runtime-cu12==12.1.105 in /usr/local/lib/python3.10/dist-packages (from torch>=1.6.0->pytorch_metric_learning) (12.1.105)\n",
            "Requirement already satisfied: nvidia-cuda-cupti-cu12==12.1.105 in /usr/local/lib/python3.10/dist-packages (from torch>=1.6.0->pytorch_metric_learning) (12.1.105)\n",
            "Requirement already satisfied: nvidia-cudnn-cu12==8.9.2.26 in /usr/local/lib/python3.10/dist-packages (from torch>=1.6.0->pytorch_metric_learning) (8.9.2.26)\n",
            "Requirement already satisfied: nvidia-cublas-cu12==12.1.3.1 in /usr/local/lib/python3.10/dist-packages (from torch>=1.6.0->pytorch_metric_learning) (12.1.3.1)\n",
            "Requirement already satisfied: nvidia-cufft-cu12==11.0.2.54 in /usr/local/lib/python3.10/dist-packages (from torch>=1.6.0->pytorch_metric_learning) (11.0.2.54)\n",
            "Requirement already satisfied: nvidia-curand-cu12==10.3.2.106 in /usr/local/lib/python3.10/dist-packages (from torch>=1.6.0->pytorch_metric_learning) (10.3.2.106)\n",
            "Requirement already satisfied: nvidia-cusolver-cu12==11.4.5.107 in /usr/local/lib/python3.10/dist-packages (from torch>=1.6.0->pytorch_metric_learning) (11.4.5.107)\n",
            "Requirement already satisfied: nvidia-cusparse-cu12==12.1.0.106 in /usr/local/lib/python3.10/dist-packages (from torch>=1.6.0->pytorch_metric_learning) (12.1.0.106)\n",
            "Requirement already satisfied: nvidia-nccl-cu12==2.19.3 in /usr/local/lib/python3.10/dist-packages (from torch>=1.6.0->pytorch_metric_learning) (2.19.3)\n",
            "Requirement already satisfied: nvidia-nvtx-cu12==12.1.105 in /usr/local/lib/python3.10/dist-packages (from torch>=1.6.0->pytorch_metric_learning) (12.1.105)\n",
            "Requirement already satisfied: triton==2.2.0 in /usr/local/lib/python3.10/dist-packages (from torch>=1.6.0->pytorch_metric_learning) (2.2.0)\n",
            "Requirement already satisfied: nvidia-nvjitlink-cu12 in /usr/local/lib/python3.10/dist-packages (from nvidia-cusolver-cu12==11.4.5.107->torch>=1.6.0->pytorch_metric_learning) (12.4.127)\n",
            "Requirement already satisfied: python-dateutil>=2.8.2 in /usr/local/lib/python3.10/dist-packages (from pandas->datasets) (2.8.2)\n",
            "Requirement already satisfied: pytz>=2020.1 in /usr/local/lib/python3.10/dist-packages (from pandas->datasets) (2023.4)\n",
            "Requirement already satisfied: tzdata>=2022.1 in /usr/local/lib/python3.10/dist-packages (from pandas->datasets) (2024.1)\n",
            "Requirement already satisfied: scipy>=1.3.2 in /usr/local/lib/python3.10/dist-packages (from scikit-learn->pytorch_metric_learning) (1.11.4)\n",
            "Requirement already satisfied: joblib>=1.1.1 in /usr/local/lib/python3.10/dist-packages (from scikit-learn->pytorch_metric_learning) (1.3.2)\n",
            "Requirement already satisfied: threadpoolctl>=2.0.0 in /usr/local/lib/python3.10/dist-packages (from scikit-learn->pytorch_metric_learning) (3.4.0)\n",
            "Requirement already satisfied: six>=1.5 in /usr/local/lib/python3.10/dist-packages (from python-dateutil>=2.8.2->pandas->datasets) (1.16.0)\n",
            "Requirement already satisfied: MarkupSafe>=2.0 in /usr/local/lib/python3.10/dist-packages (from jinja2->torch>=1.6.0->pytorch_metric_learning) (2.1.5)\n",
            "Requirement already satisfied: mpmath>=0.19 in /usr/local/lib/python3.10/dist-packages (from sympy->torch>=1.6.0->pytorch_metric_learning) (1.3.0)\n"
          ]
        }
      ]
    },
    {
      "cell_type": "code",
      "execution_count": 2,
      "metadata": {
        "id": "kfe544PcXFRb"
      },
      "outputs": [],
      "source": [
        "import pandas as pd\n",
        "import json\n",
        "import torch\n",
        "from torch.optim import AdamW\n",
        "from transformers import AutoModel, AutoTokenizer, get_linear_schedule_with_warmup\n",
        "from datasets import load_dataset\n",
        "from torch.utils.data import DataLoader\n",
        "from pytorch_metric_learning import miners, losses\n",
        "from datasets import load_metric\n",
        "import time\n",
        "import torch\n",
        "import math"
      ]
    },
    {
      "cell_type": "code",
      "source": [
        "from google.colab import drive\n",
        "drive.mount('/content/drive')\n",
        "\n",
        "import os\n",
        "os.chdir(\"/content/drive/MyDrive\")"
      ],
      "metadata": {
        "colab": {
          "base_uri": "https://localhost:8080/"
        },
        "id": "YoEtu4Z0Z692",
        "outputId": "d147e6d6-ec61-48b9-b9d0-2adb75789376"
      },
      "execution_count": 3,
      "outputs": [
        {
          "output_type": "stream",
          "name": "stdout",
          "text": [
            "Drive already mounted at /content/drive; to attempt to forcibly remount, call drive.mount(\"/content/drive\", force_remount=True).\n"
          ]
        }
      ]
    },
    {
      "cell_type": "code",
      "source": [
        "if torch.backends.mps.is_available():\n",
        "    device = torch.device('mps')\n",
        "    print(\"Device: mps\")\n",
        "if torch.cuda.is_available():\n",
        "    device = torch.device('cuda')\n",
        "    print(\"Device: cuda\")\n",
        "else:\n",
        "    device = torch.device('cpu')\n",
        "    print(\"Device: cpu\")"
      ],
      "metadata": {
        "id": "ebTQvHRuY2Dc",
        "colab": {
          "base_uri": "https://localhost:8080/"
        },
        "outputId": "907fe2f1-286e-4b94-d8c0-3c9974e75f5c"
      },
      "execution_count": 4,
      "outputs": [
        {
          "output_type": "stream",
          "name": "stdout",
          "text": [
            "Device: cuda\n"
          ]
        }
      ]
    },
    {
      "cell_type": "markdown",
      "metadata": {
        "id": "u70sx112XFRf"
      },
      "source": [
        "#### Tokenise data"
      ]
    },
    {
      "cell_type": "code",
      "execution_count": null,
      "metadata": {
        "id": "1EzgOReaXFRf"
      },
      "outputs": [],
      "source": [
        "class CitationDataSet:\n",
        "    def __init__(self, source, tokenizer_name='allenai/scibert_scivocab_uncased'):\n",
        "        self.dataset = load_dataset(\"csv\", data_files=source)\n",
        "        self.tokenizer = AutoTokenizer.from_pretrained(tokenizer_name)\n",
        "        self.column_names = self.dataset['train'].column_names\n",
        "        self.col_name = self.column_names[0]\n",
        "        self.label_col = self.column_names[-1]\n",
        "\n",
        "    def tokenize(self, examples, max_length=256):\n",
        "        id_masks_all_cols = []\n",
        "        batch_size = len(examples[self.col_name])\n",
        "\n",
        "        # Tokenize examples for each column (ignore last column ie. 'label')\n",
        "        for k in self.column_names[:-1]:\n",
        "            id_mask = self.tokenizer(examples[k], truncation=True, padding='max_length', max_length=max_length)\n",
        "            id_masks_all_cols.append(id_mask)\n",
        "\n",
        "        zipped_id_mask = {}\n",
        "        id_mask_col = id_masks_all_cols[0]\n",
        "\n",
        "        # Zips all columns together for each feature, input_id/attention_mask\n",
        "        for feature in id_mask_col:\n",
        "            zipped_id_mask[feature] = [[id_mask[feature][i] for id_mask in id_masks_all_cols] for i in range(batch_size)]\n",
        "\n",
        "        zipped_id_mask[self.label_col] = examples[self.label_col]\n",
        "        return zipped_id_mask\n",
        "\n",
        "\n",
        "    def get_dataloader(self):\n",
        "        # Shape = [features, batch_size, (anchor, pos)/label]\n",
        "        dataset = self.dataset['train'].map(self.tokenize, batched=True, remove_columns=self.column_names)\n",
        "\n",
        "        dataset.set_format(\"torch\")\n",
        "        train_dataloader = DataLoader(dataset, shuffle=True, batch_size=8)\n",
        "        return train_dataloader"
      ]
    },
    {
      "cell_type": "markdown",
      "metadata": {
        "id": "f8l5q4hoXFRg"
      },
      "source": [
        "#### Fine Tune Model"
      ]
    },
    {
      "cell_type": "code",
      "execution_count": null,
      "metadata": {
        "id": "olaY4dZ4XFRg"
      },
      "outputs": [],
      "source": [
        "# Uses [CLS] token representation\n",
        "def encoder(batch, model):\n",
        "    input_ids = batch['input_ids']\n",
        "    attention_mask = batch['attention_mask']\n",
        "    labels = batch['label']\n",
        "\n",
        "    # Flatten to encode all at once\n",
        "    input_ids = torch.cat((input_ids[:, 0], input_ids[:, 1])).to(device)\n",
        "    attention_mask = torch.cat((attention_mask[:, 0], attention_mask[:, 1])).to(device)\n",
        "    labels = labels.repeat(2).to(device)\n",
        "\n",
        "    # Data augmentation handled by scibert, dropout implemented under the hood\n",
        "    outputs = model(input_ids=input_ids, attention_mask=attention_mask)\n",
        "    embeddings = outputs.last_hidden_state[:, 0]\n",
        "    return embeddings, labels"
      ]
    },
    {
      "cell_type": "code",
      "execution_count": null,
      "metadata": {
        "id": "VG2VXo_ZXFRg"
      },
      "outputs": [],
      "source": [
        "miner = miners.MultiSimilarityMiner()\n",
        "loss_func = losses.NTXentLoss(temperature=0.07)\n",
        "\n",
        "def train_and_save(save_directory, train_dataloader, mining=False, model_name='allenai/scibert_scivocab_uncased'):\n",
        "    model = AutoModel.from_pretrained(model_name).to(device)\n",
        "    model.train()\n",
        "\n",
        "    optimizer = AdamW(model.parameters(), lr=2e-5)\n",
        "    epochs = 2\n",
        "    num_training_steps = len(train_dataloader) * epochs\n",
        "    num_warmup_steps = math.ceil(num_training_steps * 0.1)\n",
        "    scheduler = get_linear_schedule_with_warmup(optimizer, num_warmup_steps=num_warmup_steps, num_training_steps=num_training_steps)\n",
        "\n",
        "    for epoch in range(epochs):\n",
        "        total_loss = 0\n",
        "        # Shape = [#features, #batch_size, #tensor_length]\n",
        "        start = time.time()\n",
        "        for i, batch in enumerate(train_dataloader):\n",
        "            optimizer.zero_grad()\n",
        "\n",
        "            embeddings, labels = encoder(batch, model)\n",
        "            if mining:\n",
        "                hard_pairs = miner(embeddings, labels)\n",
        "                loss = loss_func(embeddings, labels, hard_pairs)\n",
        "            else:\n",
        "                loss = loss_func(embeddings, labels)\n",
        "\n",
        "            loss.backward()\n",
        "            optimizer.step()\n",
        "            scheduler.step()\n",
        "\n",
        "            total_loss += loss.item()\n",
        "\n",
        "            if i % 1000 == 0:\n",
        "                print(f\"Batch: {i+1}/{len(train_dataloader)}\")\n",
        "\n",
        "        print(f\"Epoch {epoch+1}, Loss: {total_loss/len(train_dataloader)}, Time Taken: {(time.time()-start)/60}\")\n",
        "\n",
        "    model.save_pretrained(save_directory)"
      ]
    },
    {
      "cell_type": "code",
      "execution_count": null,
      "metadata": {
        "colab": {
          "base_uri": "https://localhost:8080/"
        },
        "id": "YU-q0PueXFRh",
        "outputId": "c8f16cbe-47f1-4935-cc01-65d4b33a8b20"
      },
      "outputs": [
        {
          "output_type": "stream",
          "name": "stdout",
          "text": [
            "Batch: 1/3868\n",
            "Batch: 1001/3868\n",
            "Batch: 2001/3868\n",
            "Batch: 3001/3868\n",
            "Epoch 1, Loss: 2.2190360916622422, Time Taken: 41.057815817991894\n",
            "Batch: 1/3868\n",
            "Batch: 1001/3868\n",
            "Batch: 2001/3868\n",
            "Batch: 3001/3868\n",
            "Epoch 2, Loss: 2.000316165549432, Time Taken: 41.04714049100876\n"
          ]
        }
      ],
      "source": [
        "train_dataloader = CitationDataSet('for_gcolab/scicite_nodup_section.csv').get_dataloader()\n",
        "#train_and_save('for_gcolab/section_with_hard', train_dataloader, True) # no warmup steps\n",
        "train_and_save('for_gcolab/scicite_section_without_hard_warmup', train_dataloader, False)\n"
      ]
    },
    {
      "cell_type": "code",
      "source": [
        "import math\n",
        "import random\n",
        "import numpy as np\n",
        "import json\n",
        "import torch\n",
        "from torch import nn\n",
        "from collections import defaultdict\n",
        "from torch.utils.data import DataLoader\n",
        "\n",
        "from transformers import AutoTokenizer, AutoModel\n",
        "from datasets import load_dataset\n",
        "from torch.optim import AdamW\n",
        "\n",
        "from sklearn.metrics import f1_score"
      ],
      "metadata": {
        "id": "ZgFB04__YVVN"
      },
      "execution_count": 5,
      "outputs": []
    },
    {
      "cell_type": "code",
      "source": [
        "file_path_train = 'for_gcolab/train.jsonl'\n",
        "file_path_dev = 'for_gcolab/dev.jsonl'\n",
        "file_path_test = 'for_gcolab/test.jsonl'\n",
        "train_data = []\n",
        "dev_data = []\n",
        "test_data = []\n",
        "with open(file_path_train, 'r', encoding='utf-8') as file:\n",
        "    for line in file:\n",
        "        train_data.append(json.loads(line))\n",
        "with open(file_path_dev, 'r', encoding='utf-8') as file:\n",
        "    for line in file:\n",
        "        dev_data.append(json.loads(line))\n",
        "with open(file_path_test, 'r', encoding='utf-8') as file:\n",
        "    for line in file:\n",
        "        test_data.append(json.loads(line))"
      ],
      "metadata": {
        "id": "Z8iVz6K7YUl1"
      },
      "execution_count": 6,
      "outputs": []
    },
    {
      "cell_type": "code",
      "source": [
        "class CitationsDatasetWithoutInputExample():\n",
        "    label_to_id = {'background': 0, 'method': 1, 'result': 2}\n",
        "    def __init__(self, data):\n",
        "        self.data = data\n",
        "\n",
        "    def __len__(self):\n",
        "        return len(self.data)\n",
        "\n",
        "    def __getitem__(self, item):\n",
        "        return self.data[item]['string'], CitationsDatasetWithoutInputExample.label_to_id[self.data[item]['label']]"
      ],
      "metadata": {
        "id": "hvk_3ojrdPUZ"
      },
      "execution_count": 7,
      "outputs": []
    },
    {
      "cell_type": "code",
      "source": [
        "batch_size = 16\n",
        "train_dataset = CitationsDatasetWithoutInputExample(train_data)\n",
        "train_batch_size = batch_size\n",
        "train_dataloader = DataLoader(train_dataset, shuffle=True, batch_size=train_batch_size)"
      ],
      "metadata": {
        "id": "m1POxWfBdRSd"
      },
      "execution_count": 8,
      "outputs": []
    },
    {
      "cell_type": "code",
      "source": [
        "dev_dataset = CitationsDatasetWithoutInputExample(dev_data)\n",
        "dev_batch_size = batch_size\n",
        "dev_dataloader = DataLoader(dev_dataset, shuffle=False, batch_size=dev_batch_size)"
      ],
      "metadata": {
        "id": "urDGH_pEdS6j"
      },
      "execution_count": 9,
      "outputs": []
    },
    {
      "cell_type": "code",
      "source": [
        "class CitationIntentClassifier(nn.Module):\n",
        "    def __init__(self, model_path, num_labels):\n",
        "        super(CitationIntentClassifier, self).__init__()\n",
        "        self.tokenizer = AutoTokenizer.from_pretrained('allenai/scibert_scivocab_uncased')\n",
        "        self.sentence_transformer = AutoModel.from_pretrained(model_path)\n",
        "        self.classifier = nn.Linear(768, num_labels)\n",
        "\n",
        "    def forward(self, input_texts):\n",
        "        tokenised = self.tokenizer(input_texts, return_tensors='pt', truncation=True, padding='max_length', max_length=256)\n",
        "        tokenised = tokenised.to(device)\n",
        "        embeddings = self.sentence_transformer(**tokenised)\n",
        "        cls_representation = embeddings.last_hidden_state[:, 0]\n",
        "        return self.classifier(cls_representation)\n",
        "\n",
        "def train_epoch(model, dataloader, loss_func, optimizer):\n",
        "    model.train()\n",
        "    total_loss = 0\n",
        "    for input_texts, labels in dataloader:\n",
        "        labels = labels.to(device)\n",
        "        optimizer.zero_grad()\n",
        "        output = model(input_texts)\n",
        "        loss = loss_func(output, labels)\n",
        "        loss.backward()\n",
        "        optimizer.step()\n",
        "        total_loss += loss.item()\n",
        "\n",
        "    print(f\"Training loss: {total_loss / len(dataloader)}\")\n",
        "\n",
        "def evaluate(model, dataloader, loss_func):\n",
        "    model.eval()\n",
        "    total_loss = 0\n",
        "    total_correct = 0\n",
        "    with torch.no_grad():\n",
        "        for input_texts, labels in dataloader:\n",
        "            labels = labels.to(device)\n",
        "            output = model(input_texts)\n",
        "            loss = loss_func(output, labels)\n",
        "            total_loss += loss.item()\n",
        "            total_correct += (output.argmax(1) == labels).sum().item()\n",
        "\n",
        "    print(f\"Evaluation loss: {total_loss / len(dataloader)}\")\n",
        "    print(f\"Evaluation accuracy: {total_correct / len(dataloader.dataset)}\")"
      ],
      "metadata": {
        "id": "CHYPZAZtdVUe"
      },
      "execution_count": 10,
      "outputs": []
    },
    {
      "cell_type": "code",
      "source": [
        "test_dataset = CitationsDatasetWithoutInputExample(test_data)\n",
        "test_batch_size = batch_size\n",
        "test_dataloader = DataLoader(test_dataset, shuffle=False, batch_size=test_batch_size)"
      ],
      "metadata": {
        "id": "xairgL6mdV92"
      },
      "execution_count": 11,
      "outputs": []
    },
    {
      "cell_type": "code",
      "source": [
        "def test(model, dataloader):\n",
        "    model.eval()\n",
        "    predictions = []\n",
        "    true_labels = []\n",
        "\n",
        "    with torch.no_grad():\n",
        "        for input_texts, labels in dataloader:\n",
        "            labels = labels.to(device)\n",
        "            output = model(input_texts)\n",
        "            _, predicted_labels = torch.max(output, dim=1)\n",
        "            predictions.extend(predicted_labels.cpu().numpy())\n",
        "            true_labels.extend(labels.cpu().numpy())\n",
        "    return predictions, true_labels\n",
        "\n",
        "\n",
        "def train_test_loop(model_name, num_epochs=5, learning_rate=2e-5):\n",
        "    num_labels = 3\n",
        "    citation_intent_classifier = CitationIntentClassifier(model_name, num_labels).to(device)\n",
        "\n",
        "    optimizer = torch.optim.Adam(citation_intent_classifier.parameters(), lr=learning_rate)\n",
        "    loss_func = torch.nn.CrossEntropyLoss()\n",
        "\n",
        "    for epoch in range(num_epochs):\n",
        "        print(f\"Epoch {epoch+1}/{num_epochs}\")\n",
        "        train_epoch(citation_intent_classifier, train_dataloader, loss_func, optimizer)\n",
        "        evaluate(citation_intent_classifier, dev_dataloader, loss_func)\n",
        "\n",
        "    predictions, true_labels = test(citation_intent_classifier, test_dataloader)\n",
        "    f1 = f1_score(true_labels, predictions, average='macro')\n",
        "    print(f\"F1 Score for {model_name}: {f1}\")"
      ],
      "metadata": {
        "id": "R-ETbDM7dXbL"
      },
      "execution_count": 12,
      "outputs": []
    },
    {
      "cell_type": "code",
      "source": [
        "train_test_loop('allenai/scibert_scivocab_uncased')"
      ],
      "metadata": {
        "colab": {
          "base_uri": "https://localhost:8080/",
          "height": 602,
          "referenced_widgets": [
            "8ef9a18dc8b74ce0836811fbdd53a36a",
            "b5a2f3d915934a3b974b919c619c5894",
            "e1af265a72b4430ab7dc62304e092b7a",
            "a0a47ef93f3e4a72ae5033e9323b8cdc",
            "829dba647aff4a68b449e36587967d86",
            "a74c321109dc41fc9a276bb51b7b8c56",
            "c2668bccb9da4c4dae49046239622158",
            "0a400472f785403ab2070c08f9fa9b49",
            "eeadb46f7330431c921d0ab055a3733f",
            "b3ce45d560484c4d8470aa684fb30576",
            "1419d66d8daa4cdc9807eefe29306d9b",
            "3eb64b9e42f4421ebc41b86a24be7f7b",
            "e5013df0fcf746b09c38e86b6041a726",
            "49e01ce532404174a794c9306354f1b4",
            "231d7143bf1e4f34a2b87da1d8668240",
            "566bf533870345a681712e53d926eed0",
            "c43265e031c5434c82cd2003a9a99cfb",
            "d9ba4dc55df1491a93a445e449cf2711",
            "0a25c7b232d1480bbdbf1a568e19ff01",
            "b12add0eae1b432babf061019bb9d647",
            "ce7be9e5fce14d7298b5f7548e36d941",
            "00067e15b8e34f7ab0a150dfe585ee37",
            "1a8e895e2f4846b3a0244dcc807dce4f",
            "a09eb9dbfd5c4243b295f928070f1171",
            "8831fb13dd294d69ab4d54986c68c97b",
            "88146866c0db48b78fce50e965a41765",
            "1052a35454c94f4c8483369ec41724c5",
            "50d4f53eaaa84acfab7e82c338baf8c1",
            "afea1af7bd604d65b661f41224093bea",
            "9bcb7b6276f8495495ea68ec9b611805",
            "db6671314fd34c8daa986382378abdcc",
            "6504ac1043cb440e8eb1e01bc5b39879",
            "a2f22e7040bc4d279faec86b63febd8c"
          ]
        },
        "id": "qdFrboz3mgQz",
        "outputId": "d2a1308a-0169-47ea-bac8-98bf1d4e313d"
      },
      "execution_count": null,
      "outputs": [
        {
          "output_type": "stream",
          "name": "stderr",
          "text": [
            "/usr/local/lib/python3.10/dist-packages/huggingface_hub/utils/_token.py:88: UserWarning: \n",
            "The secret `HF_TOKEN` does not exist in your Colab secrets.\n",
            "To authenticate with the Hugging Face Hub, create a token in your settings tab (https://huggingface.co/settings/tokens), set it as secret in your Google Colab and restart your session.\n",
            "You will be able to reuse this secret in all of your notebooks.\n",
            "Please note that authentication is recommended but still optional to access public models or datasets.\n",
            "  warnings.warn(\n"
          ]
        },
        {
          "output_type": "display_data",
          "data": {
            "text/plain": [
              "config.json:   0%|          | 0.00/385 [00:00<?, ?B/s]"
            ],
            "application/vnd.jupyter.widget-view+json": {
              "version_major": 2,
              "version_minor": 0,
              "model_id": "8ef9a18dc8b74ce0836811fbdd53a36a"
            }
          },
          "metadata": {}
        },
        {
          "output_type": "display_data",
          "data": {
            "text/plain": [
              "vocab.txt:   0%|          | 0.00/228k [00:00<?, ?B/s]"
            ],
            "application/vnd.jupyter.widget-view+json": {
              "version_major": 2,
              "version_minor": 0,
              "model_id": "3eb64b9e42f4421ebc41b86a24be7f7b"
            }
          },
          "metadata": {}
        },
        {
          "output_type": "display_data",
          "data": {
            "text/plain": [
              "pytorch_model.bin:   0%|          | 0.00/442M [00:00<?, ?B/s]"
            ],
            "application/vnd.jupyter.widget-view+json": {
              "version_major": 2,
              "version_minor": 0,
              "model_id": "1a8e895e2f4846b3a0244dcc807dce4f"
            }
          },
          "metadata": {}
        },
        {
          "output_type": "stream",
          "name": "stdout",
          "text": [
            "Epoch 1/5\n",
            "Training loss: 0.4096578717260629\n",
            "Evaluation loss: 0.42965070736305466\n",
            "Evaluation accuracy: 0.8449781659388647\n",
            "Epoch 2/5\n",
            "Training loss: 0.2614443693959782\n",
            "Evaluation loss: 0.43242182980837496\n",
            "Evaluation accuracy: 0.8406113537117904\n",
            "Epoch 3/5\n",
            "Training loss: 0.14280616639492413\n",
            "Evaluation loss: 0.5636075658659483\n",
            "Evaluation accuracy: 0.834061135371179\n",
            "Epoch 4/5\n",
            "Training loss: 0.06569968351348422\n",
            "Evaluation loss: 0.7417600516165639\n",
            "Evaluation accuracy: 0.8384279475982532\n",
            "Epoch 5/5\n",
            "Training loss: 0.0426638760390085\n",
            "Evaluation loss: 0.7984709703074447\n",
            "Evaluation accuracy: 0.8307860262008734\n",
            "F1 Score: 0.852946306743048\n"
          ]
        }
      ]
    },
    {
      "cell_type": "code",
      "source": [
        "# Fine-BatchSize: 32, Pre-LR: 5e-5\n",
        "train_test_loop('for_gcolab/section_with_hard')"
      ],
      "metadata": {
        "id": "l-JRVdZ9daQL",
        "colab": {
          "base_uri": "https://localhost:8080/"
        },
        "outputId": "ce2ce94d-e8ab-4c20-a478-a969d9224ce6"
      },
      "execution_count": null,
      "outputs": [
        {
          "output_type": "stream",
          "name": "stdout",
          "text": [
            "Epoch 1/5\n",
            "Training loss: 0.5484766691576602\n",
            "Evaluation loss: 0.4548608301014736\n",
            "Evaluation accuracy: 0.8329694323144105\n",
            "Epoch 2/5\n",
            "Training loss: 0.34377770642786065\n",
            "Evaluation loss: 0.4483630610951062\n",
            "Evaluation accuracy: 0.8460698689956332\n",
            "Epoch 3/5\n",
            "Training loss: 0.23769038635515427\n",
            "Evaluation loss: 0.49048513893423407\n",
            "Evaluation accuracy: 0.8406113537117904\n",
            "Epoch 4/5\n",
            "Training loss: 0.1534410563275911\n",
            "Evaluation loss: 0.5846135433891724\n",
            "Evaluation accuracy: 0.8384279475982532\n",
            "Epoch 5/5\n",
            "Training loss: 0.08914406673419614\n",
            "Evaluation loss: 0.687878583011956\n",
            "Evaluation accuracy: 0.8296943231441049\n",
            "F1 Score: 0.8162177211044165\n"
          ]
        }
      ]
    },
    {
      "cell_type": "code",
      "source": [
        "# Fine-BatchSize: 32, Pre-LR: 2e-5\n",
        "train_test_loop('for_gcolab/section_without_hard')"
      ],
      "metadata": {
        "colab": {
          "base_uri": "https://localhost:8080/"
        },
        "id": "ha4fZt0avck0",
        "outputId": "b5a6b0d2-c193-4081-f663-9bb734074916"
      },
      "execution_count": null,
      "outputs": [
        {
          "output_type": "stream",
          "name": "stderr",
          "text": [
            "/usr/local/lib/python3.10/dist-packages/huggingface_hub/utils/_token.py:88: UserWarning: \n",
            "The secret `HF_TOKEN` does not exist in your Colab secrets.\n",
            "To authenticate with the Hugging Face Hub, create a token in your settings tab (https://huggingface.co/settings/tokens), set it as secret in your Google Colab and restart your session.\n",
            "You will be able to reuse this secret in all of your notebooks.\n",
            "Please note that authentication is recommended but still optional to access public models or datasets.\n",
            "  warnings.warn(\n"
          ]
        },
        {
          "output_type": "stream",
          "name": "stdout",
          "text": [
            "Epoch 1/5\n",
            "Training loss: 0.4523975432727688\n",
            "Evaluation loss: 0.4239066243171692\n",
            "Evaluation accuracy: 0.8329694323144105\n",
            "Epoch 2/5\n",
            "Training loss: 0.2531581413318483\n",
            "Evaluation loss: 0.46768848443853445\n",
            "Evaluation accuracy: 0.8395196506550219\n",
            "Epoch 3/5\n",
            "Training loss: 0.126963294098558\n",
            "Evaluation loss: 0.5451935015875717\n",
            "Evaluation accuracy: 0.834061135371179\n",
            "Epoch 4/5\n",
            "Training loss: 0.055823071306578584\n",
            "Evaluation loss: 0.6518451201504675\n",
            "Evaluation accuracy: 0.8471615720524017\n",
            "Epoch 5/5\n",
            "Training loss: 0.031220848735714287\n",
            "Evaluation loss: 0.8292831377736454\n",
            "Evaluation accuracy: 0.8362445414847162\n",
            "F1 Score: 0.8357675287569054\n"
          ]
        }
      ]
    },
    {
      "cell_type": "code",
      "source": [
        "# Fine-BatchSize: 16, Pre-LR: 2e-5, 4 epochs\n",
        "train_test_loop('for_gcolab/section_without_hard')"
      ],
      "metadata": {
        "colab": {
          "base_uri": "https://localhost:8080/"
        },
        "id": "w8OHkZQUYYt2",
        "outputId": "a623dc1b-b2eb-4261-e874-f6fb1254c9af"
      },
      "execution_count": null,
      "outputs": [
        {
          "output_type": "stream",
          "name": "stderr",
          "text": [
            "/usr/local/lib/python3.10/dist-packages/huggingface_hub/utils/_token.py:88: UserWarning: \n",
            "The secret `HF_TOKEN` does not exist in your Colab secrets.\n",
            "To authenticate with the Hugging Face Hub, create a token in your settings tab (https://huggingface.co/settings/tokens), set it as secret in your Google Colab and restart your session.\n",
            "You will be able to reuse this secret in all of your notebooks.\n",
            "Please note that authentication is recommended but still optional to access public models or datasets.\n",
            "  warnings.warn(\n"
          ]
        },
        {
          "output_type": "stream",
          "name": "stdout",
          "text": [
            "Epoch 1/5\n",
            "Training loss: 0.43868237657313663\n",
            "Evaluation loss: 0.42730324381384355\n",
            "Evaluation accuracy: 0.8384279475982532\n",
            "Epoch 2/5\n",
            "Training loss: 0.2420807163584833\n",
            "Evaluation loss: 0.4624652760424491\n",
            "Evaluation accuracy: 0.8548034934497817\n",
            "Epoch 3/5\n",
            "Training loss: 0.10921322188859936\n",
            "Evaluation loss: 0.6053152700629214\n",
            "Evaluation accuracy: 0.8449781659388647\n",
            "Epoch 4/5\n",
            "Training loss: 0.0529089880539348\n",
            "Evaluation loss: 0.7270640227140794\n",
            "Evaluation accuracy: 0.8406113537117904\n",
            "Epoch 5/5\n",
            "Training loss: 0.036261926282794205\n",
            "Evaluation loss: 0.91127725550102\n",
            "Evaluation accuracy: 0.8460698689956332\n",
            "F1 Score: 0.840044137165776\n"
          ]
        }
      ]
    },
    {
      "cell_type": "code",
      "source": [
        "# Fine-BatchSize: 16, Pre-LR: 2e-5, 4 epochs\n",
        "train_test_loop('for_gcolab/section_without_hard_warmup')"
      ],
      "metadata": {
        "colab": {
          "base_uri": "https://localhost:8080/"
        },
        "id": "jbXE9SKz9OXh",
        "outputId": "f81a424e-d099-4c06-d4de-6efadbeffc04"
      },
      "execution_count": null,
      "outputs": [
        {
          "output_type": "stream",
          "name": "stdout",
          "text": [
            "Epoch 1/5\n",
            "Training loss: 0.4233064498145913\n",
            "Evaluation loss: 0.4304370592380392\n",
            "Evaluation accuracy: 0.8395196506550219\n",
            "Epoch 2/5\n",
            "Training loss: 0.24185827332584894\n",
            "Evaluation loss: 0.47118923736029655\n",
            "Evaluation accuracy: 0.8395196506550219\n",
            "Epoch 3/5\n",
            "Training loss: 0.11935387288000031\n",
            "Evaluation loss: 0.6031839823799914\n",
            "Evaluation accuracy: 0.8362445414847162\n",
            "Epoch 4/5\n",
            "Training loss: 0.05759026855140087\n",
            "Evaluation loss: 0.6985285966817675\n",
            "Evaluation accuracy: 0.8329694323144105\n",
            "Epoch 5/5\n",
            "Training loss: 0.039147372554110944\n",
            "Evaluation loss: 0.8427344234981413\n",
            "Evaluation accuracy: 0.8395196506550219\n",
            "F1 Score for for_gcolab/section_without_hard_warmup: 0.8420409052746064\n"
          ]
        }
      ]
    },
    {
      "cell_type": "code",
      "source": [
        "# Fine-BatchSize: 16, Pre-LR: 2e-5, 4 epochs\n",
        "train_test_loop('for_gcolab/section_without_hard_warmup_2epoch')"
      ],
      "metadata": {
        "colab": {
          "base_uri": "https://localhost:8080/",
          "height": 584,
          "referenced_widgets": [
            "741a8f0ef5684cfc97094877747a2c6c",
            "8e46bb788bad42dbbe63f1b439a0f57a",
            "aeed9133c2074400be8f785b6ff48d3d",
            "80f5cb35cc604e2785caca1949219242",
            "fc235774dda845a489c9a36d0807d0cf",
            "391d7e804dce497d8d741852bea85bd0",
            "73a2eab05ab74f1e997e232faaadfe92",
            "6cca74122e774293b39c589eeb640440",
            "2cc808057bdf47d6b7630857f401448e",
            "51e5eaa5d744417d9916675db1ca4df4",
            "29ed95d2375d4628b88180d34273736a",
            "296d8019b1054ed68e101438815334b3",
            "a66802b4b98a4c2d8a01051eedf88e24",
            "7094c63d750c4b58a1b67d2c766379f6",
            "59ea6161729840a9af75f86765b57d0c",
            "faca948cfce74a008f05e9592230e78d",
            "34e60ad8021b4debad7ccb239169912f",
            "7e0d608874674f2bb8e9a6ab74d1aea4",
            "ca9cbb326d2d42508a0e7075865bbd58",
            "90e43ff560a24da188f10362d9a6f0e0",
            "e13c133091504b5d9ce03f87b1ce43dd",
            "8a30ed79124247949b531d5f233fb78d"
          ]
        },
        "id": "_heSdc3Qe8qt",
        "outputId": "df717e81-8b6a-4de4-d819-62b4c4a76d01"
      },
      "execution_count": null,
      "outputs": [
        {
          "output_type": "stream",
          "name": "stderr",
          "text": [
            "/usr/local/lib/python3.10/dist-packages/huggingface_hub/utils/_token.py:88: UserWarning: \n",
            "The secret `HF_TOKEN` does not exist in your Colab secrets.\n",
            "To authenticate with the Hugging Face Hub, create a token in your settings tab (https://huggingface.co/settings/tokens), set it as secret in your Google Colab and restart your session.\n",
            "You will be able to reuse this secret in all of your notebooks.\n",
            "Please note that authentication is recommended but still optional to access public models or datasets.\n",
            "  warnings.warn(\n"
          ]
        },
        {
          "output_type": "display_data",
          "data": {
            "text/plain": [
              "config.json:   0%|          | 0.00/385 [00:00<?, ?B/s]"
            ],
            "application/vnd.jupyter.widget-view+json": {
              "version_major": 2,
              "version_minor": 0,
              "model_id": "741a8f0ef5684cfc97094877747a2c6c"
            }
          },
          "metadata": {}
        },
        {
          "output_type": "display_data",
          "data": {
            "text/plain": [
              "vocab.txt:   0%|          | 0.00/228k [00:00<?, ?B/s]"
            ],
            "application/vnd.jupyter.widget-view+json": {
              "version_major": 2,
              "version_minor": 0,
              "model_id": "296d8019b1054ed68e101438815334b3"
            }
          },
          "metadata": {}
        },
        {
          "output_type": "stream",
          "name": "stdout",
          "text": [
            "Epoch 1/5\n",
            "Training loss: 0.41384257838967464\n",
            "Evaluation loss: 0.41382220798525315\n",
            "Evaluation accuracy: 0.8537117903930131\n",
            "Epoch 2/5\n",
            "Training loss: 0.24409778983974756\n",
            "Evaluation loss: 0.44852032910647066\n",
            "Evaluation accuracy: 0.851528384279476\n",
            "Epoch 3/5\n",
            "Training loss: 0.12740369594941103\n",
            "Evaluation loss: 0.5723868770332172\n",
            "Evaluation accuracy: 0.8417030567685589\n",
            "Epoch 4/5\n",
            "Training loss: 0.05987485089670287\n",
            "Evaluation loss: 0.7946388977258627\n",
            "Evaluation accuracy: 0.834061135371179\n",
            "Epoch 5/5\n",
            "Training loss: 0.037455960778646304\n",
            "Evaluation loss: 0.8821846289833173\n",
            "Evaluation accuracy: 0.8482532751091703\n",
            "F1 Score for for_gcolab/section_without_hard_warmup_2epoch: 0.8457944756861631\n"
          ]
        }
      ]
    },
    {
      "cell_type": "code",
      "source": [
        "# Fine-BatchSize: 16, Pre-LR: 2e-5, 4 epochs\n",
        "train_test_loop('for_gcolab/scicite_nodup_section_without_hard_warmup_2epoch')"
      ],
      "metadata": {
        "colab": {
          "base_uri": "https://localhost:8080/"
        },
        "id": "7CTqeSeDnMRn",
        "outputId": "462d4a8f-ce12-4825-f2b0-01174f57d849"
      },
      "execution_count": 14,
      "outputs": [
        {
          "output_type": "stream",
          "name": "stdout",
          "text": [
            "Epoch 1/5\n",
            "Training loss: 0.41318123559503594\n",
            "Evaluation loss: 0.4203477072818526\n",
            "Evaluation accuracy: 0.8537117903930131\n",
            "Epoch 2/5\n",
            "Training loss: 0.25415029966041386\n",
            "Evaluation loss: 0.47177086770534515\n",
            "Evaluation accuracy: 0.8351528384279476\n",
            "Epoch 3/5\n",
            "Training loss: 0.1343837882303669\n",
            "Evaluation loss: 0.6279653115840308\n",
            "Evaluation accuracy: 0.8417030567685589\n",
            "Epoch 4/5\n",
            "Training loss: 0.07060656344040672\n",
            "Evaluation loss: 0.7080998621431405\n",
            "Evaluation accuracy: 0.8362445414847162\n",
            "Epoch 5/5\n",
            "Training loss: 0.045066840957278066\n",
            "Evaluation loss: 0.782965902110626\n",
            "Evaluation accuracy: 0.8231441048034934\n",
            "F1 Score for for_gcolab/scicite_nodup_section_without_hard_warmup_2epoch: 0.8281101800153098\n"
          ]
        }
      ]
    }
  ],
  "metadata": {
    "kernelspec": {
      "display_name": "Python 3",
      "name": "python3"
    },
    "language_info": {
      "codemirror_mode": {
        "name": "ipython",
        "version": 3
      },
      "file_extension": ".py",
      "mimetype": "text/x-python",
      "name": "python",
      "nbconvert_exporter": "python",
      "pygments_lexer": "ipython3",
      "version": "3.10.10"
    },
    "colab": {
      "provenance": [],
      "gpuType": "T4"
    },
    "accelerator": "GPU",
    "widgets": {
      "application/vnd.jupyter.widget-state+json": {
        "741a8f0ef5684cfc97094877747a2c6c": {
          "model_module": "@jupyter-widgets/controls",
          "model_name": "HBoxModel",
          "model_module_version": "1.5.0",
          "state": {
            "_dom_classes": [],
            "_model_module": "@jupyter-widgets/controls",
            "_model_module_version": "1.5.0",
            "_model_name": "HBoxModel",
            "_view_count": null,
            "_view_module": "@jupyter-widgets/controls",
            "_view_module_version": "1.5.0",
            "_view_name": "HBoxView",
            "box_style": "",
            "children": [
              "IPY_MODEL_8e46bb788bad42dbbe63f1b439a0f57a",
              "IPY_MODEL_aeed9133c2074400be8f785b6ff48d3d",
              "IPY_MODEL_80f5cb35cc604e2785caca1949219242"
            ],
            "layout": "IPY_MODEL_fc235774dda845a489c9a36d0807d0cf"
          }
        },
        "8e46bb788bad42dbbe63f1b439a0f57a": {
          "model_module": "@jupyter-widgets/controls",
          "model_name": "HTMLModel",
          "model_module_version": "1.5.0",
          "state": {
            "_dom_classes": [],
            "_model_module": "@jupyter-widgets/controls",
            "_model_module_version": "1.5.0",
            "_model_name": "HTMLModel",
            "_view_count": null,
            "_view_module": "@jupyter-widgets/controls",
            "_view_module_version": "1.5.0",
            "_view_name": "HTMLView",
            "description": "",
            "description_tooltip": null,
            "layout": "IPY_MODEL_391d7e804dce497d8d741852bea85bd0",
            "placeholder": "​",
            "style": "IPY_MODEL_73a2eab05ab74f1e997e232faaadfe92",
            "value": "config.json: 100%"
          }
        },
        "aeed9133c2074400be8f785b6ff48d3d": {
          "model_module": "@jupyter-widgets/controls",
          "model_name": "FloatProgressModel",
          "model_module_version": "1.5.0",
          "state": {
            "_dom_classes": [],
            "_model_module": "@jupyter-widgets/controls",
            "_model_module_version": "1.5.0",
            "_model_name": "FloatProgressModel",
            "_view_count": null,
            "_view_module": "@jupyter-widgets/controls",
            "_view_module_version": "1.5.0",
            "_view_name": "ProgressView",
            "bar_style": "success",
            "description": "",
            "description_tooltip": null,
            "layout": "IPY_MODEL_6cca74122e774293b39c589eeb640440",
            "max": 385,
            "min": 0,
            "orientation": "horizontal",
            "style": "IPY_MODEL_2cc808057bdf47d6b7630857f401448e",
            "value": 385
          }
        },
        "80f5cb35cc604e2785caca1949219242": {
          "model_module": "@jupyter-widgets/controls",
          "model_name": "HTMLModel",
          "model_module_version": "1.5.0",
          "state": {
            "_dom_classes": [],
            "_model_module": "@jupyter-widgets/controls",
            "_model_module_version": "1.5.0",
            "_model_name": "HTMLModel",
            "_view_count": null,
            "_view_module": "@jupyter-widgets/controls",
            "_view_module_version": "1.5.0",
            "_view_name": "HTMLView",
            "description": "",
            "description_tooltip": null,
            "layout": "IPY_MODEL_51e5eaa5d744417d9916675db1ca4df4",
            "placeholder": "​",
            "style": "IPY_MODEL_29ed95d2375d4628b88180d34273736a",
            "value": " 385/385 [00:00&lt;00:00, 13.3kB/s]"
          }
        },
        "fc235774dda845a489c9a36d0807d0cf": {
          "model_module": "@jupyter-widgets/base",
          "model_name": "LayoutModel",
          "model_module_version": "1.2.0",
          "state": {
            "_model_module": "@jupyter-widgets/base",
            "_model_module_version": "1.2.0",
            "_model_name": "LayoutModel",
            "_view_count": null,
            "_view_module": "@jupyter-widgets/base",
            "_view_module_version": "1.2.0",
            "_view_name": "LayoutView",
            "align_content": null,
            "align_items": null,
            "align_self": null,
            "border": null,
            "bottom": null,
            "display": null,
            "flex": null,
            "flex_flow": null,
            "grid_area": null,
            "grid_auto_columns": null,
            "grid_auto_flow": null,
            "grid_auto_rows": null,
            "grid_column": null,
            "grid_gap": null,
            "grid_row": null,
            "grid_template_areas": null,
            "grid_template_columns": null,
            "grid_template_rows": null,
            "height": null,
            "justify_content": null,
            "justify_items": null,
            "left": null,
            "margin": null,
            "max_height": null,
            "max_width": null,
            "min_height": null,
            "min_width": null,
            "object_fit": null,
            "object_position": null,
            "order": null,
            "overflow": null,
            "overflow_x": null,
            "overflow_y": null,
            "padding": null,
            "right": null,
            "top": null,
            "visibility": null,
            "width": null
          }
        },
        "391d7e804dce497d8d741852bea85bd0": {
          "model_module": "@jupyter-widgets/base",
          "model_name": "LayoutModel",
          "model_module_version": "1.2.0",
          "state": {
            "_model_module": "@jupyter-widgets/base",
            "_model_module_version": "1.2.0",
            "_model_name": "LayoutModel",
            "_view_count": null,
            "_view_module": "@jupyter-widgets/base",
            "_view_module_version": "1.2.0",
            "_view_name": "LayoutView",
            "align_content": null,
            "align_items": null,
            "align_self": null,
            "border": null,
            "bottom": null,
            "display": null,
            "flex": null,
            "flex_flow": null,
            "grid_area": null,
            "grid_auto_columns": null,
            "grid_auto_flow": null,
            "grid_auto_rows": null,
            "grid_column": null,
            "grid_gap": null,
            "grid_row": null,
            "grid_template_areas": null,
            "grid_template_columns": null,
            "grid_template_rows": null,
            "height": null,
            "justify_content": null,
            "justify_items": null,
            "left": null,
            "margin": null,
            "max_height": null,
            "max_width": null,
            "min_height": null,
            "min_width": null,
            "object_fit": null,
            "object_position": null,
            "order": null,
            "overflow": null,
            "overflow_x": null,
            "overflow_y": null,
            "padding": null,
            "right": null,
            "top": null,
            "visibility": null,
            "width": null
          }
        },
        "73a2eab05ab74f1e997e232faaadfe92": {
          "model_module": "@jupyter-widgets/controls",
          "model_name": "DescriptionStyleModel",
          "model_module_version": "1.5.0",
          "state": {
            "_model_module": "@jupyter-widgets/controls",
            "_model_module_version": "1.5.0",
            "_model_name": "DescriptionStyleModel",
            "_view_count": null,
            "_view_module": "@jupyter-widgets/base",
            "_view_module_version": "1.2.0",
            "_view_name": "StyleView",
            "description_width": ""
          }
        },
        "6cca74122e774293b39c589eeb640440": {
          "model_module": "@jupyter-widgets/base",
          "model_name": "LayoutModel",
          "model_module_version": "1.2.0",
          "state": {
            "_model_module": "@jupyter-widgets/base",
            "_model_module_version": "1.2.0",
            "_model_name": "LayoutModel",
            "_view_count": null,
            "_view_module": "@jupyter-widgets/base",
            "_view_module_version": "1.2.0",
            "_view_name": "LayoutView",
            "align_content": null,
            "align_items": null,
            "align_self": null,
            "border": null,
            "bottom": null,
            "display": null,
            "flex": null,
            "flex_flow": null,
            "grid_area": null,
            "grid_auto_columns": null,
            "grid_auto_flow": null,
            "grid_auto_rows": null,
            "grid_column": null,
            "grid_gap": null,
            "grid_row": null,
            "grid_template_areas": null,
            "grid_template_columns": null,
            "grid_template_rows": null,
            "height": null,
            "justify_content": null,
            "justify_items": null,
            "left": null,
            "margin": null,
            "max_height": null,
            "max_width": null,
            "min_height": null,
            "min_width": null,
            "object_fit": null,
            "object_position": null,
            "order": null,
            "overflow": null,
            "overflow_x": null,
            "overflow_y": null,
            "padding": null,
            "right": null,
            "top": null,
            "visibility": null,
            "width": null
          }
        },
        "2cc808057bdf47d6b7630857f401448e": {
          "model_module": "@jupyter-widgets/controls",
          "model_name": "ProgressStyleModel",
          "model_module_version": "1.5.0",
          "state": {
            "_model_module": "@jupyter-widgets/controls",
            "_model_module_version": "1.5.0",
            "_model_name": "ProgressStyleModel",
            "_view_count": null,
            "_view_module": "@jupyter-widgets/base",
            "_view_module_version": "1.2.0",
            "_view_name": "StyleView",
            "bar_color": null,
            "description_width": ""
          }
        },
        "51e5eaa5d744417d9916675db1ca4df4": {
          "model_module": "@jupyter-widgets/base",
          "model_name": "LayoutModel",
          "model_module_version": "1.2.0",
          "state": {
            "_model_module": "@jupyter-widgets/base",
            "_model_module_version": "1.2.0",
            "_model_name": "LayoutModel",
            "_view_count": null,
            "_view_module": "@jupyter-widgets/base",
            "_view_module_version": "1.2.0",
            "_view_name": "LayoutView",
            "align_content": null,
            "align_items": null,
            "align_self": null,
            "border": null,
            "bottom": null,
            "display": null,
            "flex": null,
            "flex_flow": null,
            "grid_area": null,
            "grid_auto_columns": null,
            "grid_auto_flow": null,
            "grid_auto_rows": null,
            "grid_column": null,
            "grid_gap": null,
            "grid_row": null,
            "grid_template_areas": null,
            "grid_template_columns": null,
            "grid_template_rows": null,
            "height": null,
            "justify_content": null,
            "justify_items": null,
            "left": null,
            "margin": null,
            "max_height": null,
            "max_width": null,
            "min_height": null,
            "min_width": null,
            "object_fit": null,
            "object_position": null,
            "order": null,
            "overflow": null,
            "overflow_x": null,
            "overflow_y": null,
            "padding": null,
            "right": null,
            "top": null,
            "visibility": null,
            "width": null
          }
        },
        "29ed95d2375d4628b88180d34273736a": {
          "model_module": "@jupyter-widgets/controls",
          "model_name": "DescriptionStyleModel",
          "model_module_version": "1.5.0",
          "state": {
            "_model_module": "@jupyter-widgets/controls",
            "_model_module_version": "1.5.0",
            "_model_name": "DescriptionStyleModel",
            "_view_count": null,
            "_view_module": "@jupyter-widgets/base",
            "_view_module_version": "1.2.0",
            "_view_name": "StyleView",
            "description_width": ""
          }
        },
        "296d8019b1054ed68e101438815334b3": {
          "model_module": "@jupyter-widgets/controls",
          "model_name": "HBoxModel",
          "model_module_version": "1.5.0",
          "state": {
            "_dom_classes": [],
            "_model_module": "@jupyter-widgets/controls",
            "_model_module_version": "1.5.0",
            "_model_name": "HBoxModel",
            "_view_count": null,
            "_view_module": "@jupyter-widgets/controls",
            "_view_module_version": "1.5.0",
            "_view_name": "HBoxView",
            "box_style": "",
            "children": [
              "IPY_MODEL_a66802b4b98a4c2d8a01051eedf88e24",
              "IPY_MODEL_7094c63d750c4b58a1b67d2c766379f6",
              "IPY_MODEL_59ea6161729840a9af75f86765b57d0c"
            ],
            "layout": "IPY_MODEL_faca948cfce74a008f05e9592230e78d"
          }
        },
        "a66802b4b98a4c2d8a01051eedf88e24": {
          "model_module": "@jupyter-widgets/controls",
          "model_name": "HTMLModel",
          "model_module_version": "1.5.0",
          "state": {
            "_dom_classes": [],
            "_model_module": "@jupyter-widgets/controls",
            "_model_module_version": "1.5.0",
            "_model_name": "HTMLModel",
            "_view_count": null,
            "_view_module": "@jupyter-widgets/controls",
            "_view_module_version": "1.5.0",
            "_view_name": "HTMLView",
            "description": "",
            "description_tooltip": null,
            "layout": "IPY_MODEL_34e60ad8021b4debad7ccb239169912f",
            "placeholder": "​",
            "style": "IPY_MODEL_7e0d608874674f2bb8e9a6ab74d1aea4",
            "value": "vocab.txt: 100%"
          }
        },
        "7094c63d750c4b58a1b67d2c766379f6": {
          "model_module": "@jupyter-widgets/controls",
          "model_name": "FloatProgressModel",
          "model_module_version": "1.5.0",
          "state": {
            "_dom_classes": [],
            "_model_module": "@jupyter-widgets/controls",
            "_model_module_version": "1.5.0",
            "_model_name": "FloatProgressModel",
            "_view_count": null,
            "_view_module": "@jupyter-widgets/controls",
            "_view_module_version": "1.5.0",
            "_view_name": "ProgressView",
            "bar_style": "success",
            "description": "",
            "description_tooltip": null,
            "layout": "IPY_MODEL_ca9cbb326d2d42508a0e7075865bbd58",
            "max": 227845,
            "min": 0,
            "orientation": "horizontal",
            "style": "IPY_MODEL_90e43ff560a24da188f10362d9a6f0e0",
            "value": 227845
          }
        },
        "59ea6161729840a9af75f86765b57d0c": {
          "model_module": "@jupyter-widgets/controls",
          "model_name": "HTMLModel",
          "model_module_version": "1.5.0",
          "state": {
            "_dom_classes": [],
            "_model_module": "@jupyter-widgets/controls",
            "_model_module_version": "1.5.0",
            "_model_name": "HTMLModel",
            "_view_count": null,
            "_view_module": "@jupyter-widgets/controls",
            "_view_module_version": "1.5.0",
            "_view_name": "HTMLView",
            "description": "",
            "description_tooltip": null,
            "layout": "IPY_MODEL_e13c133091504b5d9ce03f87b1ce43dd",
            "placeholder": "​",
            "style": "IPY_MODEL_8a30ed79124247949b531d5f233fb78d",
            "value": " 228k/228k [00:00&lt;00:00, 2.07MB/s]"
          }
        },
        "faca948cfce74a008f05e9592230e78d": {
          "model_module": "@jupyter-widgets/base",
          "model_name": "LayoutModel",
          "model_module_version": "1.2.0",
          "state": {
            "_model_module": "@jupyter-widgets/base",
            "_model_module_version": "1.2.0",
            "_model_name": "LayoutModel",
            "_view_count": null,
            "_view_module": "@jupyter-widgets/base",
            "_view_module_version": "1.2.0",
            "_view_name": "LayoutView",
            "align_content": null,
            "align_items": null,
            "align_self": null,
            "border": null,
            "bottom": null,
            "display": null,
            "flex": null,
            "flex_flow": null,
            "grid_area": null,
            "grid_auto_columns": null,
            "grid_auto_flow": null,
            "grid_auto_rows": null,
            "grid_column": null,
            "grid_gap": null,
            "grid_row": null,
            "grid_template_areas": null,
            "grid_template_columns": null,
            "grid_template_rows": null,
            "height": null,
            "justify_content": null,
            "justify_items": null,
            "left": null,
            "margin": null,
            "max_height": null,
            "max_width": null,
            "min_height": null,
            "min_width": null,
            "object_fit": null,
            "object_position": null,
            "order": null,
            "overflow": null,
            "overflow_x": null,
            "overflow_y": null,
            "padding": null,
            "right": null,
            "top": null,
            "visibility": null,
            "width": null
          }
        },
        "34e60ad8021b4debad7ccb239169912f": {
          "model_module": "@jupyter-widgets/base",
          "model_name": "LayoutModel",
          "model_module_version": "1.2.0",
          "state": {
            "_model_module": "@jupyter-widgets/base",
            "_model_module_version": "1.2.0",
            "_model_name": "LayoutModel",
            "_view_count": null,
            "_view_module": "@jupyter-widgets/base",
            "_view_module_version": "1.2.0",
            "_view_name": "LayoutView",
            "align_content": null,
            "align_items": null,
            "align_self": null,
            "border": null,
            "bottom": null,
            "display": null,
            "flex": null,
            "flex_flow": null,
            "grid_area": null,
            "grid_auto_columns": null,
            "grid_auto_flow": null,
            "grid_auto_rows": null,
            "grid_column": null,
            "grid_gap": null,
            "grid_row": null,
            "grid_template_areas": null,
            "grid_template_columns": null,
            "grid_template_rows": null,
            "height": null,
            "justify_content": null,
            "justify_items": null,
            "left": null,
            "margin": null,
            "max_height": null,
            "max_width": null,
            "min_height": null,
            "min_width": null,
            "object_fit": null,
            "object_position": null,
            "order": null,
            "overflow": null,
            "overflow_x": null,
            "overflow_y": null,
            "padding": null,
            "right": null,
            "top": null,
            "visibility": null,
            "width": null
          }
        },
        "7e0d608874674f2bb8e9a6ab74d1aea4": {
          "model_module": "@jupyter-widgets/controls",
          "model_name": "DescriptionStyleModel",
          "model_module_version": "1.5.0",
          "state": {
            "_model_module": "@jupyter-widgets/controls",
            "_model_module_version": "1.5.0",
            "_model_name": "DescriptionStyleModel",
            "_view_count": null,
            "_view_module": "@jupyter-widgets/base",
            "_view_module_version": "1.2.0",
            "_view_name": "StyleView",
            "description_width": ""
          }
        },
        "ca9cbb326d2d42508a0e7075865bbd58": {
          "model_module": "@jupyter-widgets/base",
          "model_name": "LayoutModel",
          "model_module_version": "1.2.0",
          "state": {
            "_model_module": "@jupyter-widgets/base",
            "_model_module_version": "1.2.0",
            "_model_name": "LayoutModel",
            "_view_count": null,
            "_view_module": "@jupyter-widgets/base",
            "_view_module_version": "1.2.0",
            "_view_name": "LayoutView",
            "align_content": null,
            "align_items": null,
            "align_self": null,
            "border": null,
            "bottom": null,
            "display": null,
            "flex": null,
            "flex_flow": null,
            "grid_area": null,
            "grid_auto_columns": null,
            "grid_auto_flow": null,
            "grid_auto_rows": null,
            "grid_column": null,
            "grid_gap": null,
            "grid_row": null,
            "grid_template_areas": null,
            "grid_template_columns": null,
            "grid_template_rows": null,
            "height": null,
            "justify_content": null,
            "justify_items": null,
            "left": null,
            "margin": null,
            "max_height": null,
            "max_width": null,
            "min_height": null,
            "min_width": null,
            "object_fit": null,
            "object_position": null,
            "order": null,
            "overflow": null,
            "overflow_x": null,
            "overflow_y": null,
            "padding": null,
            "right": null,
            "top": null,
            "visibility": null,
            "width": null
          }
        },
        "90e43ff560a24da188f10362d9a6f0e0": {
          "model_module": "@jupyter-widgets/controls",
          "model_name": "ProgressStyleModel",
          "model_module_version": "1.5.0",
          "state": {
            "_model_module": "@jupyter-widgets/controls",
            "_model_module_version": "1.5.0",
            "_model_name": "ProgressStyleModel",
            "_view_count": null,
            "_view_module": "@jupyter-widgets/base",
            "_view_module_version": "1.2.0",
            "_view_name": "StyleView",
            "bar_color": null,
            "description_width": ""
          }
        },
        "e13c133091504b5d9ce03f87b1ce43dd": {
          "model_module": "@jupyter-widgets/base",
          "model_name": "LayoutModel",
          "model_module_version": "1.2.0",
          "state": {
            "_model_module": "@jupyter-widgets/base",
            "_model_module_version": "1.2.0",
            "_model_name": "LayoutModel",
            "_view_count": null,
            "_view_module": "@jupyter-widgets/base",
            "_view_module_version": "1.2.0",
            "_view_name": "LayoutView",
            "align_content": null,
            "align_items": null,
            "align_self": null,
            "border": null,
            "bottom": null,
            "display": null,
            "flex": null,
            "flex_flow": null,
            "grid_area": null,
            "grid_auto_columns": null,
            "grid_auto_flow": null,
            "grid_auto_rows": null,
            "grid_column": null,
            "grid_gap": null,
            "grid_row": null,
            "grid_template_areas": null,
            "grid_template_columns": null,
            "grid_template_rows": null,
            "height": null,
            "justify_content": null,
            "justify_items": null,
            "left": null,
            "margin": null,
            "max_height": null,
            "max_width": null,
            "min_height": null,
            "min_width": null,
            "object_fit": null,
            "object_position": null,
            "order": null,
            "overflow": null,
            "overflow_x": null,
            "overflow_y": null,
            "padding": null,
            "right": null,
            "top": null,
            "visibility": null,
            "width": null
          }
        },
        "8a30ed79124247949b531d5f233fb78d": {
          "model_module": "@jupyter-widgets/controls",
          "model_name": "DescriptionStyleModel",
          "model_module_version": "1.5.0",
          "state": {
            "_model_module": "@jupyter-widgets/controls",
            "_model_module_version": "1.5.0",
            "_model_name": "DescriptionStyleModel",
            "_view_count": null,
            "_view_module": "@jupyter-widgets/base",
            "_view_module_version": "1.2.0",
            "_view_name": "StyleView",
            "description_width": ""
          }
        }
      }
    }
  },
  "nbformat": 4,
  "nbformat_minor": 0
}