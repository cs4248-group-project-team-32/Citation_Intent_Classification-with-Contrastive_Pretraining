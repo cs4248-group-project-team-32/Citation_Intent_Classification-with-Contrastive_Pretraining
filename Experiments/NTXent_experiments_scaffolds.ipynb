{
  "cells": [
    {
      "cell_type": "code",
      "source": [
        "%pip install pytorch_metric_learning datasets"
      ],
      "metadata": {
        "colab": {
          "base_uri": "https://localhost:8080/"
        },
        "id": "98fTOhtDXX93",
        "outputId": "a47de723-d3d3-46ce-ce5c-686ffd6cbcc5"
      },
      "execution_count": null,
      "outputs": [
        {
          "output_type": "stream",
          "name": "stdout",
          "text": [
            "Collecting pytorch_metric_learning\n",
            "  Downloading pytorch_metric_learning-2.5.0-py3-none-any.whl (119 kB)\n",
            "\u001b[2K     \u001b[90m━━━━━━━━━━━━━━━━━━━━━━━━━━━━━━━━━━━━━━━━\u001b[0m \u001b[32m119.1/119.1 kB\u001b[0m \u001b[31m1.3 MB/s\u001b[0m eta \u001b[36m0:00:00\u001b[0m\n",
            "\u001b[?25hCollecting datasets\n",
            "  Downloading datasets-2.18.0-py3-none-any.whl (510 kB)\n",
            "\u001b[2K     \u001b[90m━━━━━━━━━━━━━━━━━━━━━━━━━━━━━━━━━━━━━━━━\u001b[0m \u001b[32m510.5/510.5 kB\u001b[0m \u001b[31m4.8 MB/s\u001b[0m eta \u001b[36m0:00:00\u001b[0m\n",
            "\u001b[?25hRequirement already satisfied: numpy in /usr/local/lib/python3.10/dist-packages (from pytorch_metric_learning) (1.25.2)\n",
            "Requirement already satisfied: scikit-learn in /usr/local/lib/python3.10/dist-packages (from pytorch_metric_learning) (1.2.2)\n",
            "Requirement already satisfied: torch>=1.6.0 in /usr/local/lib/python3.10/dist-packages (from pytorch_metric_learning) (2.2.1+cu121)\n",
            "Requirement already satisfied: tqdm in /usr/local/lib/python3.10/dist-packages (from pytorch_metric_learning) (4.66.2)\n",
            "Requirement already satisfied: filelock in /usr/local/lib/python3.10/dist-packages (from datasets) (3.13.4)\n",
            "Requirement already satisfied: pyarrow>=12.0.0 in /usr/local/lib/python3.10/dist-packages (from datasets) (14.0.2)\n",
            "Requirement already satisfied: pyarrow-hotfix in /usr/local/lib/python3.10/dist-packages (from datasets) (0.6)\n",
            "Collecting dill<0.3.9,>=0.3.0 (from datasets)\n",
            "  Downloading dill-0.3.8-py3-none-any.whl (116 kB)\n",
            "\u001b[2K     \u001b[90m━━━━━━━━━━━━━━━━━━━━━━━━━━━━━━━━━━━━━━━━\u001b[0m \u001b[32m116.3/116.3 kB\u001b[0m \u001b[31m6.4 MB/s\u001b[0m eta \u001b[36m0:00:00\u001b[0m\n",
            "\u001b[?25hRequirement already satisfied: pandas in /usr/local/lib/python3.10/dist-packages (from datasets) (2.0.3)\n",
            "Requirement already satisfied: requests>=2.19.0 in /usr/local/lib/python3.10/dist-packages (from datasets) (2.31.0)\n",
            "Collecting xxhash (from datasets)\n",
            "  Downloading xxhash-3.4.1-cp310-cp310-manylinux_2_17_x86_64.manylinux2014_x86_64.whl (194 kB)\n",
            "\u001b[2K     \u001b[90m━━━━━━━━━━━━━━━━━━━━━━━━━━━━━━━━━━━━━━━━\u001b[0m \u001b[32m194.1/194.1 kB\u001b[0m \u001b[31m6.8 MB/s\u001b[0m eta \u001b[36m0:00:00\u001b[0m\n",
            "\u001b[?25hCollecting multiprocess (from datasets)\n",
            "  Downloading multiprocess-0.70.16-py310-none-any.whl (134 kB)\n",
            "\u001b[2K     \u001b[90m━━━━━━━━━━━━━━━━━━━━━━━━━━━━━━━━━━━━━━━━\u001b[0m \u001b[32m134.8/134.8 kB\u001b[0m \u001b[31m6.8 MB/s\u001b[0m eta \u001b[36m0:00:00\u001b[0m\n",
            "\u001b[?25hRequirement already satisfied: fsspec[http]<=2024.2.0,>=2023.1.0 in /usr/local/lib/python3.10/dist-packages (from datasets) (2023.6.0)\n",
            "Requirement already satisfied: aiohttp in /usr/local/lib/python3.10/dist-packages (from datasets) (3.9.3)\n",
            "Requirement already satisfied: huggingface-hub>=0.19.4 in /usr/local/lib/python3.10/dist-packages (from datasets) (0.20.3)\n",
            "Requirement already satisfied: packaging in /usr/local/lib/python3.10/dist-packages (from datasets) (24.0)\n",
            "Requirement already satisfied: pyyaml>=5.1 in /usr/local/lib/python3.10/dist-packages (from datasets) (6.0.1)\n",
            "Requirement already satisfied: aiosignal>=1.1.2 in /usr/local/lib/python3.10/dist-packages (from aiohttp->datasets) (1.3.1)\n",
            "Requirement already satisfied: attrs>=17.3.0 in /usr/local/lib/python3.10/dist-packages (from aiohttp->datasets) (23.2.0)\n",
            "Requirement already satisfied: frozenlist>=1.1.1 in /usr/local/lib/python3.10/dist-packages (from aiohttp->datasets) (1.4.1)\n",
            "Requirement already satisfied: multidict<7.0,>=4.5 in /usr/local/lib/python3.10/dist-packages (from aiohttp->datasets) (6.0.5)\n",
            "Requirement already satisfied: yarl<2.0,>=1.0 in /usr/local/lib/python3.10/dist-packages (from aiohttp->datasets) (1.9.4)\n",
            "Requirement already satisfied: async-timeout<5.0,>=4.0 in /usr/local/lib/python3.10/dist-packages (from aiohttp->datasets) (4.0.3)\n",
            "Requirement already satisfied: typing-extensions>=3.7.4.3 in /usr/local/lib/python3.10/dist-packages (from huggingface-hub>=0.19.4->datasets) (4.11.0)\n",
            "Requirement already satisfied: charset-normalizer<4,>=2 in /usr/local/lib/python3.10/dist-packages (from requests>=2.19.0->datasets) (3.3.2)\n",
            "Requirement already satisfied: idna<4,>=2.5 in /usr/local/lib/python3.10/dist-packages (from requests>=2.19.0->datasets) (3.6)\n",
            "Requirement already satisfied: urllib3<3,>=1.21.1 in /usr/local/lib/python3.10/dist-packages (from requests>=2.19.0->datasets) (2.0.7)\n",
            "Requirement already satisfied: certifi>=2017.4.17 in /usr/local/lib/python3.10/dist-packages (from requests>=2.19.0->datasets) (2024.2.2)\n",
            "Requirement already satisfied: sympy in /usr/local/lib/python3.10/dist-packages (from torch>=1.6.0->pytorch_metric_learning) (1.12)\n",
            "Requirement already satisfied: networkx in /usr/local/lib/python3.10/dist-packages (from torch>=1.6.0->pytorch_metric_learning) (3.3)\n",
            "Requirement already satisfied: jinja2 in /usr/local/lib/python3.10/dist-packages (from torch>=1.6.0->pytorch_metric_learning) (3.1.3)\n",
            "Collecting nvidia-cuda-nvrtc-cu12==12.1.105 (from torch>=1.6.0->pytorch_metric_learning)\n",
            "  Using cached nvidia_cuda_nvrtc_cu12-12.1.105-py3-none-manylinux1_x86_64.whl (23.7 MB)\n",
            "Collecting nvidia-cuda-runtime-cu12==12.1.105 (from torch>=1.6.0->pytorch_metric_learning)\n",
            "  Using cached nvidia_cuda_runtime_cu12-12.1.105-py3-none-manylinux1_x86_64.whl (823 kB)\n",
            "Collecting nvidia-cuda-cupti-cu12==12.1.105 (from torch>=1.6.0->pytorch_metric_learning)\n",
            "  Using cached nvidia_cuda_cupti_cu12-12.1.105-py3-none-manylinux1_x86_64.whl (14.1 MB)\n",
            "Collecting nvidia-cudnn-cu12==8.9.2.26 (from torch>=1.6.0->pytorch_metric_learning)\n",
            "  Using cached nvidia_cudnn_cu12-8.9.2.26-py3-none-manylinux1_x86_64.whl (731.7 MB)\n",
            "Collecting nvidia-cublas-cu12==12.1.3.1 (from torch>=1.6.0->pytorch_metric_learning)\n",
            "  Using cached nvidia_cublas_cu12-12.1.3.1-py3-none-manylinux1_x86_64.whl (410.6 MB)\n",
            "Collecting nvidia-cufft-cu12==11.0.2.54 (from torch>=1.6.0->pytorch_metric_learning)\n",
            "  Using cached nvidia_cufft_cu12-11.0.2.54-py3-none-manylinux1_x86_64.whl (121.6 MB)\n",
            "Collecting nvidia-curand-cu12==10.3.2.106 (from torch>=1.6.0->pytorch_metric_learning)\n",
            "  Using cached nvidia_curand_cu12-10.3.2.106-py3-none-manylinux1_x86_64.whl (56.5 MB)\n",
            "Collecting nvidia-cusolver-cu12==11.4.5.107 (from torch>=1.6.0->pytorch_metric_learning)\n",
            "  Using cached nvidia_cusolver_cu12-11.4.5.107-py3-none-manylinux1_x86_64.whl (124.2 MB)\n",
            "Collecting nvidia-cusparse-cu12==12.1.0.106 (from torch>=1.6.0->pytorch_metric_learning)\n",
            "  Using cached nvidia_cusparse_cu12-12.1.0.106-py3-none-manylinux1_x86_64.whl (196.0 MB)\n",
            "Collecting nvidia-nccl-cu12==2.19.3 (from torch>=1.6.0->pytorch_metric_learning)\n",
            "  Using cached nvidia_nccl_cu12-2.19.3-py3-none-manylinux1_x86_64.whl (166.0 MB)\n",
            "Collecting nvidia-nvtx-cu12==12.1.105 (from torch>=1.6.0->pytorch_metric_learning)\n",
            "  Using cached nvidia_nvtx_cu12-12.1.105-py3-none-manylinux1_x86_64.whl (99 kB)\n",
            "Requirement already satisfied: triton==2.2.0 in /usr/local/lib/python3.10/dist-packages (from torch>=1.6.0->pytorch_metric_learning) (2.2.0)\n",
            "Collecting nvidia-nvjitlink-cu12 (from nvidia-cusolver-cu12==11.4.5.107->torch>=1.6.0->pytorch_metric_learning)\n",
            "  Using cached nvidia_nvjitlink_cu12-12.4.127-py3-none-manylinux2014_x86_64.whl (21.1 MB)\n",
            "Requirement already satisfied: python-dateutil>=2.8.2 in /usr/local/lib/python3.10/dist-packages (from pandas->datasets) (2.8.2)\n",
            "Requirement already satisfied: pytz>=2020.1 in /usr/local/lib/python3.10/dist-packages (from pandas->datasets) (2023.4)\n",
            "Requirement already satisfied: tzdata>=2022.1 in /usr/local/lib/python3.10/dist-packages (from pandas->datasets) (2024.1)\n",
            "Requirement already satisfied: scipy>=1.3.2 in /usr/local/lib/python3.10/dist-packages (from scikit-learn->pytorch_metric_learning) (1.11.4)\n",
            "Requirement already satisfied: joblib>=1.1.1 in /usr/local/lib/python3.10/dist-packages (from scikit-learn->pytorch_metric_learning) (1.4.0)\n",
            "Requirement already satisfied: threadpoolctl>=2.0.0 in /usr/local/lib/python3.10/dist-packages (from scikit-learn->pytorch_metric_learning) (3.4.0)\n",
            "Requirement already satisfied: six>=1.5 in /usr/local/lib/python3.10/dist-packages (from python-dateutil>=2.8.2->pandas->datasets) (1.16.0)\n",
            "Requirement already satisfied: MarkupSafe>=2.0 in /usr/local/lib/python3.10/dist-packages (from jinja2->torch>=1.6.0->pytorch_metric_learning) (2.1.5)\n",
            "Requirement already satisfied: mpmath>=0.19 in /usr/local/lib/python3.10/dist-packages (from sympy->torch>=1.6.0->pytorch_metric_learning) (1.3.0)\n",
            "Installing collected packages: xxhash, nvidia-nvtx-cu12, nvidia-nvjitlink-cu12, nvidia-nccl-cu12, nvidia-curand-cu12, nvidia-cufft-cu12, nvidia-cuda-runtime-cu12, nvidia-cuda-nvrtc-cu12, nvidia-cuda-cupti-cu12, nvidia-cublas-cu12, dill, nvidia-cusparse-cu12, nvidia-cudnn-cu12, multiprocess, nvidia-cusolver-cu12, datasets, pytorch_metric_learning\n",
            "Successfully installed datasets-2.18.0 dill-0.3.8 multiprocess-0.70.16 nvidia-cublas-cu12-12.1.3.1 nvidia-cuda-cupti-cu12-12.1.105 nvidia-cuda-nvrtc-cu12-12.1.105 nvidia-cuda-runtime-cu12-12.1.105 nvidia-cudnn-cu12-8.9.2.26 nvidia-cufft-cu12-11.0.2.54 nvidia-curand-cu12-10.3.2.106 nvidia-cusolver-cu12-11.4.5.107 nvidia-cusparse-cu12-12.1.0.106 nvidia-nccl-cu12-2.19.3 nvidia-nvjitlink-cu12-12.4.127 nvidia-nvtx-cu12-12.1.105 pytorch_metric_learning-2.5.0 xxhash-3.4.1\n"
          ]
        }
      ]
    },
    {
      "cell_type": "code",
      "execution_count": null,
      "metadata": {
        "id": "kfe544PcXFRb"
      },
      "outputs": [],
      "source": [
        "import pandas as pd\n",
        "import numpy as np\n",
        "import json\n",
        "import torch\n",
        "from torch.optim import AdamW\n",
        "from transformers import AutoModel, AutoTokenizer, get_linear_schedule_with_warmup\n",
        "#from datasets import load_dataset, load_metric\n",
        "from torch.utils.data import DataLoader, WeightedRandomSampler\n",
        "#from pytorch_metric_learning import miners, losses\n",
        "import time\n",
        "import torch\n",
        "import math"
      ]
    },
    {
      "cell_type": "code",
      "source": [
        "from google.colab import drive\n",
        "drive.mount('/content/drive')\n",
        "\n",
        "import os\n",
        "os.chdir(\"/content/drive/MyDrive\")"
      ],
      "metadata": {
        "colab": {
          "base_uri": "https://localhost:8080/",
          "height": 372
        },
        "id": "YoEtu4Z0Z692",
        "outputId": "bb72663d-44c6-40ed-fd89-76b2ba868554"
      },
      "execution_count": null,
      "outputs": [
        {
          "output_type": "error",
          "ename": "MessageError",
          "evalue": "Error: credential propagation was unsuccessful",
          "traceback": [
            "\u001b[0;31m---------------------------------------------------------------------------\u001b[0m",
            "\u001b[0;31mMessageError\u001b[0m                              Traceback (most recent call last)",
            "\u001b[0;32m<ipython-input-2-ce9d80a247a6>\u001b[0m in \u001b[0;36m<cell line: 2>\u001b[0;34m()\u001b[0m\n\u001b[1;32m      1\u001b[0m \u001b[0;32mfrom\u001b[0m \u001b[0mgoogle\u001b[0m\u001b[0;34m.\u001b[0m\u001b[0mcolab\u001b[0m \u001b[0;32mimport\u001b[0m \u001b[0mdrive\u001b[0m\u001b[0;34m\u001b[0m\u001b[0;34m\u001b[0m\u001b[0m\n\u001b[0;32m----> 2\u001b[0;31m \u001b[0mdrive\u001b[0m\u001b[0;34m.\u001b[0m\u001b[0mmount\u001b[0m\u001b[0;34m(\u001b[0m\u001b[0;34m'/content/drive'\u001b[0m\u001b[0;34m)\u001b[0m\u001b[0;34m\u001b[0m\u001b[0;34m\u001b[0m\u001b[0m\n\u001b[0m\u001b[1;32m      3\u001b[0m \u001b[0;34m\u001b[0m\u001b[0m\n\u001b[1;32m      4\u001b[0m \u001b[0;32mimport\u001b[0m \u001b[0mos\u001b[0m\u001b[0;34m\u001b[0m\u001b[0;34m\u001b[0m\u001b[0m\n\u001b[1;32m      5\u001b[0m \u001b[0mos\u001b[0m\u001b[0;34m.\u001b[0m\u001b[0mchdir\u001b[0m\u001b[0;34m(\u001b[0m\u001b[0;34m\"/content/drive/MyDrive\"\u001b[0m\u001b[0;34m)\u001b[0m\u001b[0;34m\u001b[0m\u001b[0;34m\u001b[0m\u001b[0m\n",
            "\u001b[0;32m/usr/local/lib/python3.10/dist-packages/google/colab/drive.py\u001b[0m in \u001b[0;36mmount\u001b[0;34m(mountpoint, force_remount, timeout_ms, readonly)\u001b[0m\n\u001b[1;32m     98\u001b[0m \u001b[0;32mdef\u001b[0m \u001b[0mmount\u001b[0m\u001b[0;34m(\u001b[0m\u001b[0mmountpoint\u001b[0m\u001b[0;34m,\u001b[0m \u001b[0mforce_remount\u001b[0m\u001b[0;34m=\u001b[0m\u001b[0;32mFalse\u001b[0m\u001b[0;34m,\u001b[0m \u001b[0mtimeout_ms\u001b[0m\u001b[0;34m=\u001b[0m\u001b[0;36m120000\u001b[0m\u001b[0;34m,\u001b[0m \u001b[0mreadonly\u001b[0m\u001b[0;34m=\u001b[0m\u001b[0;32mFalse\u001b[0m\u001b[0;34m)\u001b[0m\u001b[0;34m:\u001b[0m\u001b[0;34m\u001b[0m\u001b[0;34m\u001b[0m\u001b[0m\n\u001b[1;32m     99\u001b[0m   \u001b[0;34m\"\"\"Mount your Google Drive at the specified mountpoint path.\"\"\"\u001b[0m\u001b[0;34m\u001b[0m\u001b[0;34m\u001b[0m\u001b[0m\n\u001b[0;32m--> 100\u001b[0;31m   return _mount(\n\u001b[0m\u001b[1;32m    101\u001b[0m       \u001b[0mmountpoint\u001b[0m\u001b[0;34m,\u001b[0m\u001b[0;34m\u001b[0m\u001b[0;34m\u001b[0m\u001b[0m\n\u001b[1;32m    102\u001b[0m       \u001b[0mforce_remount\u001b[0m\u001b[0;34m=\u001b[0m\u001b[0mforce_remount\u001b[0m\u001b[0;34m,\u001b[0m\u001b[0;34m\u001b[0m\u001b[0;34m\u001b[0m\u001b[0m\n",
            "\u001b[0;32m/usr/local/lib/python3.10/dist-packages/google/colab/drive.py\u001b[0m in \u001b[0;36m_mount\u001b[0;34m(mountpoint, force_remount, timeout_ms, ephemeral, readonly)\u001b[0m\n\u001b[1;32m    131\u001b[0m   )\n\u001b[1;32m    132\u001b[0m   \u001b[0;32mif\u001b[0m \u001b[0mephemeral\u001b[0m\u001b[0;34m:\u001b[0m\u001b[0;34m\u001b[0m\u001b[0;34m\u001b[0m\u001b[0m\n\u001b[0;32m--> 133\u001b[0;31m     _message.blocking_request(\n\u001b[0m\u001b[1;32m    134\u001b[0m         \u001b[0;34m'request_auth'\u001b[0m\u001b[0;34m,\u001b[0m \u001b[0mrequest\u001b[0m\u001b[0;34m=\u001b[0m\u001b[0;34m{\u001b[0m\u001b[0;34m'authType'\u001b[0m\u001b[0;34m:\u001b[0m \u001b[0;34m'dfs_ephemeral'\u001b[0m\u001b[0;34m}\u001b[0m\u001b[0;34m,\u001b[0m \u001b[0mtimeout_sec\u001b[0m\u001b[0;34m=\u001b[0m\u001b[0;32mNone\u001b[0m\u001b[0;34m\u001b[0m\u001b[0;34m\u001b[0m\u001b[0m\n\u001b[1;32m    135\u001b[0m     )\n",
            "\u001b[0;32m/usr/local/lib/python3.10/dist-packages/google/colab/_message.py\u001b[0m in \u001b[0;36mblocking_request\u001b[0;34m(request_type, request, timeout_sec, parent)\u001b[0m\n\u001b[1;32m    174\u001b[0m       \u001b[0mrequest_type\u001b[0m\u001b[0;34m,\u001b[0m \u001b[0mrequest\u001b[0m\u001b[0;34m,\u001b[0m \u001b[0mparent\u001b[0m\u001b[0;34m=\u001b[0m\u001b[0mparent\u001b[0m\u001b[0;34m,\u001b[0m \u001b[0mexpect_reply\u001b[0m\u001b[0;34m=\u001b[0m\u001b[0;32mTrue\u001b[0m\u001b[0;34m\u001b[0m\u001b[0;34m\u001b[0m\u001b[0m\n\u001b[1;32m    175\u001b[0m   )\n\u001b[0;32m--> 176\u001b[0;31m   \u001b[0;32mreturn\u001b[0m \u001b[0mread_reply_from_input\u001b[0m\u001b[0;34m(\u001b[0m\u001b[0mrequest_id\u001b[0m\u001b[0;34m,\u001b[0m \u001b[0mtimeout_sec\u001b[0m\u001b[0;34m)\u001b[0m\u001b[0;34m\u001b[0m\u001b[0;34m\u001b[0m\u001b[0m\n\u001b[0m",
            "\u001b[0;32m/usr/local/lib/python3.10/dist-packages/google/colab/_message.py\u001b[0m in \u001b[0;36mread_reply_from_input\u001b[0;34m(message_id, timeout_sec)\u001b[0m\n\u001b[1;32m    101\u001b[0m     ):\n\u001b[1;32m    102\u001b[0m       \u001b[0;32mif\u001b[0m \u001b[0;34m'error'\u001b[0m \u001b[0;32min\u001b[0m \u001b[0mreply\u001b[0m\u001b[0;34m:\u001b[0m\u001b[0;34m\u001b[0m\u001b[0;34m\u001b[0m\u001b[0m\n\u001b[0;32m--> 103\u001b[0;31m         \u001b[0;32mraise\u001b[0m \u001b[0mMessageError\u001b[0m\u001b[0;34m(\u001b[0m\u001b[0mreply\u001b[0m\u001b[0;34m[\u001b[0m\u001b[0;34m'error'\u001b[0m\u001b[0;34m]\u001b[0m\u001b[0;34m)\u001b[0m\u001b[0;34m\u001b[0m\u001b[0;34m\u001b[0m\u001b[0m\n\u001b[0m\u001b[1;32m    104\u001b[0m       \u001b[0;32mreturn\u001b[0m \u001b[0mreply\u001b[0m\u001b[0;34m.\u001b[0m\u001b[0mget\u001b[0m\u001b[0;34m(\u001b[0m\u001b[0;34m'data'\u001b[0m\u001b[0;34m,\u001b[0m \u001b[0;32mNone\u001b[0m\u001b[0;34m)\u001b[0m\u001b[0;34m\u001b[0m\u001b[0;34m\u001b[0m\u001b[0m\n\u001b[1;32m    105\u001b[0m \u001b[0;34m\u001b[0m\u001b[0m\n",
            "\u001b[0;31mMessageError\u001b[0m: Error: credential propagation was unsuccessful"
          ]
        }
      ]
    },
    {
      "cell_type": "code",
      "source": [
        "if torch.backends.mps.is_available():\n",
        "    device = torch.device('mps')\n",
        "    print(\"Device: mps\")\n",
        "if torch.cuda.is_available():\n",
        "    device = torch.device('cuda')\n",
        "    print(\"Device: cuda\")\n",
        "else:\n",
        "    device = torch.device('cpu')\n",
        "    print(\"Device: cpu\")"
      ],
      "metadata": {
        "id": "ebTQvHRuY2Dc"
      },
      "execution_count": null,
      "outputs": []
    },
    {
      "cell_type": "markdown",
      "metadata": {
        "id": "u70sx112XFRf"
      },
      "source": [
        "#### Tokenise data"
      ]
    },
    {
      "cell_type": "code",
      "execution_count": null,
      "metadata": {
        "id": "1EzgOReaXFRf"
      },
      "outputs": [],
      "source": [
        "class CitationDataSet:\n",
        "    def __init__(self, source, tokenizer_name='allenai/scibert_scivocab_uncased'):\n",
        "        self.dataset = load_dataset(\"csv\", data_files=source)\n",
        "        self.tokenizer = AutoTokenizer.from_pretrained(tokenizer_name)\n",
        "        self.column_names = self.dataset['train'].column_names\n",
        "        self.col_name = self.column_names[0]\n",
        "        self.label_col = self.column_names[-1]\n",
        "\n",
        "    def tokenize(self, examples, max_length=256):\n",
        "        id_masks_all_cols = []\n",
        "        batch_size = len(examples[self.col_name])\n",
        "\n",
        "        # Tokenize examples for each column (ignore last column ie. 'label')\n",
        "        for k in self.column_names[:-1]:\n",
        "            id_mask = self.tokenizer(examples[k], truncation=True, padding='max_length', max_length=max_length)\n",
        "            id_masks_all_cols.append(id_mask)\n",
        "\n",
        "        zipped_id_mask = {}\n",
        "        id_mask_col = id_masks_all_cols[0]\n",
        "\n",
        "        # Zips all columns together for each feature, input_id/attention_mask\n",
        "        for feature in id_mask_col:\n",
        "            zipped_id_mask[feature] = [[id_mask[feature][i] for id_mask in id_masks_all_cols] for i in range(batch_size)]\n",
        "\n",
        "        zipped_id_mask[self.label_col] = examples[self.label_col]\n",
        "        return zipped_id_mask\n",
        "\n",
        "    def get_sample_weights(self):\n",
        "        # Calculate the class counts and weights\n",
        "        class_counts = np.bincount(self.dataset['train'][self.label_col])\n",
        "        class_weights = 1. / (class_counts*2)\n",
        "        sample_weights = class_weights[self.dataset['train'][self.label_col]]\n",
        "        return sample_weights\n",
        "\n",
        "    def get_dataloader(self, weighted=False, batch_size=8):\n",
        "        # Tokenize and set format for the dataset\n",
        "        dataset = self.dataset['train'].map(self.tokenize, batched=True, remove_columns=self.column_names)\n",
        "        dataset.set_format(type='torch')\n",
        "\n",
        "        # Get sample weights for stratified sampling\n",
        "        if weighted:\n",
        "          sample_weights = self.get_sample_weights()\n",
        "          sampler = WeightedRandomSampler(weights=sample_weights, num_samples=len(sample_weights), replacement=True)\n",
        "\n",
        "          # Create DataLoader with the sampler\n",
        "          train_dataloader = DataLoader(dataset, batch_size=batch_size, sampler=sampler)\n",
        "        else:\n",
        "          train_dataloader = DataLoader(dataset, batch_size=batch_size)\n",
        "        return train_dataloader"
      ]
    },
    {
      "cell_type": "markdown",
      "metadata": {
        "id": "f8l5q4hoXFRg"
      },
      "source": [
        "#### Fine Tune Model"
      ]
    },
    {
      "cell_type": "code",
      "execution_count": null,
      "metadata": {
        "id": "olaY4dZ4XFRg"
      },
      "outputs": [],
      "source": [
        "# Uses [CLS] token representation\n",
        "def encoder(batch, model):\n",
        "    input_ids = batch['input_ids']\n",
        "    attention_mask = batch['attention_mask']\n",
        "    labels = batch['label']\n",
        "\n",
        "    # Flatten to encode all at once\n",
        "    input_ids = torch.cat((input_ids[:, 0], input_ids[:, 1])).to(device)\n",
        "    attention_mask = torch.cat((attention_mask[:, 0], attention_mask[:, 1])).to(device)\n",
        "    labels = labels.repeat(2).to(device)\n",
        "\n",
        "    # Data augmentation handled by scibert, dropout implemented under the hood\n",
        "    outputs = model(input_ids=input_ids, attention_mask=attention_mask)\n",
        "    embeddings = outputs.last_hidden_state[:, 0]\n",
        "    return embeddings, labels"
      ]
    },
    {
      "cell_type": "code",
      "execution_count": null,
      "metadata": {
        "id": "VG2VXo_ZXFRg"
      },
      "outputs": [],
      "source": [
        "miner = miners.MultiSimilarityMiner()\n",
        "loss_func = losses.NTXentLoss(temperature=0.07)\n",
        "\n",
        "def train_and_save(save_directory, train_dataloader, mining=False, warmup=True, epochs=4, model_name='allenai/scibert_scivocab_uncased'):\n",
        "    model = AutoModel.from_pretrained(model_name).to(device)\n",
        "    model.train()\n",
        "\n",
        "    optimizer = AdamW(model.parameters(), lr=2e-5)\n",
        "    num_training_steps = len(train_dataloader) * epochs\n",
        "    num_warmup_steps = math.ceil(num_training_steps * 0.1)\n",
        "    if warmup:\n",
        "      scheduler = get_linear_schedule_with_warmup(optimizer, num_warmup_steps=num_warmup_steps, num_training_steps=num_training_steps)\n",
        "\n",
        "    for epoch in range(epochs):\n",
        "        total_loss = 0\n",
        "        # Shape = [#features, #batch_size, #tensor_length]\n",
        "        start = time.time()\n",
        "        for i, batch in enumerate(train_dataloader):\n",
        "            optimizer.zero_grad()\n",
        "\n",
        "            embeddings, labels = encoder(batch, model)\n",
        "            if mining:\n",
        "                hard_pairs = miner(embeddings, labels)\n",
        "                loss = loss_func(embeddings, labels, hard_pairs)\n",
        "            else:\n",
        "                loss = loss_func(embeddings, labels)\n",
        "\n",
        "            loss.backward()\n",
        "            optimizer.step()\n",
        "            if warmup:\n",
        "              scheduler.step()\n",
        "\n",
        "            total_loss += loss.item()\n",
        "\n",
        "            if i % 1000 == 0:\n",
        "                print(f\"Batch: {i+1}/{len(train_dataloader)}\")\n",
        "\n",
        "        print(f\"Epoch {epoch+1}, Loss: {total_loss/len(train_dataloader)}, Time Taken: {(time.time()-start)/60}\")\n",
        "\n",
        "    model.save_pretrained(save_directory)"
      ]
    },
    {
      "cell_type": "code",
      "execution_count": null,
      "metadata": {
        "colab": {
          "base_uri": "https://localhost:8080/"
        },
        "id": "YU-q0PueXFRh",
        "outputId": "ea2a7f00-d63a-4a23-cf80-3b34be3b030b"
      },
      "outputs": [
        {
          "output_type": "stream",
          "name": "stderr",
          "text": [
            "/usr/local/lib/python3.10/dist-packages/huggingface_hub/utils/_token.py:88: UserWarning: \n",
            "The secret `HF_TOKEN` does not exist in your Colab secrets.\n",
            "To authenticate with the Hugging Face Hub, create a token in your settings tab (https://huggingface.co/settings/tokens), set it as secret in your Google Colab and restart your session.\n",
            "You will be able to reuse this secret in all of your notebooks.\n",
            "Please note that authentication is recommended but still optional to access public models or datasets.\n",
            "  warnings.warn(\n"
          ]
        },
        {
          "output_type": "stream",
          "name": "stdout",
          "text": [
            "Batch: 1/1461\n",
            "Batch: 1001/1461\n",
            "Epoch 1, Loss: 1.9787524344372798, Time Taken: 30.953862881660463\n",
            "Batch: 1/1461\n",
            "Batch: 1001/1461\n",
            "Epoch 2, Loss: 1.5958941659541428, Time Taken: 30.93162048657735\n"
          ]
        }
      ],
      "source": [
        "train_dataloader = CitationDataSet('for_gcolab/data_file_section.csv').get_dataloader(weighted=True, batch_size=16)\n",
        "\n",
        "train_and_save('for_gcolab/section_warmup_4epoch_sampler_16batch', train_dataloader, epochs=2, warmup=False, model_name='for_gcolab/section_warmup_2epoch_sampler_16batch')"
      ]
    },
    {
      "cell_type": "code",
      "source": [
        "import math\n",
        "import random\n",
        "import numpy as np\n",
        "import json\n",
        "import torch\n",
        "from torch import nn\n",
        "from collections import defaultdict\n",
        "from torch.utils.data import DataLoader\n",
        "\n",
        "from transformers import AutoTokenizer, AutoModel\n",
        "from datasets import load_dataset\n",
        "from torch.optim import AdamW\n",
        "\n",
        "from sklearn.metrics import f1_score"
      ],
      "metadata": {
        "id": "ZgFB04__YVVN"
      },
      "execution_count": null,
      "outputs": []
    },
    {
      "cell_type": "code",
      "source": [
        "file_path_train = 'for_gcolab/train.jsonl'\n",
        "file_path_dev = 'for_gcolab/dev.jsonl'\n",
        "file_path_test = 'for_gcolab/test.jsonl'\n",
        "train_data = []\n",
        "dev_data = []\n",
        "test_data = []\n",
        "with open(file_path_train, 'r', encoding='utf-8') as file:\n",
        "    for line in file:\n",
        "        train_data.append(json.loads(line))\n",
        "with open(file_path_dev, 'r', encoding='utf-8') as file:\n",
        "    for line in file:\n",
        "        dev_data.append(json.loads(line))\n",
        "with open(file_path_test, 'r', encoding='utf-8') as file:\n",
        "    for line in file:\n",
        "        test_data.append(json.loads(line))"
      ],
      "metadata": {
        "id": "Z8iVz6K7YUl1"
      },
      "execution_count": null,
      "outputs": []
    },
    {
      "cell_type": "code",
      "source": [
        "class CitationsDatasetWithoutInputExample():\n",
        "    label_to_id = {'background': 0, 'method': 1, 'result': 2}\n",
        "    def __init__(self, data):\n",
        "        self.data = data\n",
        "\n",
        "    def __len__(self):\n",
        "        return len(self.data)\n",
        "\n",
        "    def __getitem__(self, item):\n",
        "        return self.data[item]['string'], CitationsDatasetWithoutInputExample.label_to_id[self.data[item]['label']]"
      ],
      "metadata": {
        "id": "hvk_3ojrdPUZ"
      },
      "execution_count": null,
      "outputs": []
    },
    {
      "cell_type": "code",
      "source": [
        "batch_size = 16\n",
        "train_dataset = CitationsDatasetWithoutInputExample(train_data)\n",
        "train_batch_size = batch_size\n",
        "train_dataloader = DataLoader(train_dataset, shuffle=True, batch_size=train_batch_size)"
      ],
      "metadata": {
        "id": "m1POxWfBdRSd"
      },
      "execution_count": null,
      "outputs": []
    },
    {
      "cell_type": "code",
      "source": [
        "dev_dataset = CitationsDatasetWithoutInputExample(dev_data)\n",
        "dev_batch_size = batch_size\n",
        "dev_dataloader = DataLoader(dev_dataset, shuffle=False, batch_size=dev_batch_size)"
      ],
      "metadata": {
        "id": "urDGH_pEdS6j"
      },
      "execution_count": null,
      "outputs": []
    },
    {
      "cell_type": "code",
      "source": [
        "class CitationIntentClassifier(nn.Module):\n",
        "    def __init__(self, model_path, num_labels):\n",
        "        super(CitationIntentClassifier, self).__init__()\n",
        "        self.tokenizer = AutoTokenizer.from_pretrained('allenai/scibert_scivocab_uncased')\n",
        "        self.sentence_transformer = AutoModel.from_pretrained(model_path)\n",
        "        self.classifier = nn.Linear(768, num_labels)\n",
        "\n",
        "    def forward(self, input_texts):\n",
        "        tokenised = self.tokenizer(input_texts, return_tensors='pt', truncation=True, padding='max_length', max_length=256)\n",
        "        tokenised = tokenised.to(device)\n",
        "        embeddings = self.sentence_transformer(**tokenised)\n",
        "        cls_representation = embeddings.last_hidden_state[:, 0]\n",
        "        return self.classifier(cls_representation)\n",
        "\n",
        "def train_epoch(model, dataloader, loss_func, optimizer):\n",
        "    model.train()\n",
        "    total_loss = 0\n",
        "    for input_texts, labels in dataloader:\n",
        "        labels = labels.to(device)\n",
        "        optimizer.zero_grad()\n",
        "        output = model(input_texts)\n",
        "        loss = loss_func(output, labels)\n",
        "        loss.backward()\n",
        "        optimizer.step()\n",
        "        total_loss += loss.item()\n",
        "\n",
        "    print(f\"Training loss: {total_loss / len(dataloader)}\")\n",
        "\n",
        "def evaluate(model, dataloader, loss_func):\n",
        "    model.eval()\n",
        "    total_loss = 0\n",
        "    total_correct = 0\n",
        "    with torch.no_grad():\n",
        "        for input_texts, labels in dataloader:\n",
        "            labels = labels.to(device)\n",
        "            output = model(input_texts)\n",
        "            loss = loss_func(output, labels)\n",
        "            total_loss += loss.item()\n",
        "            total_correct += (output.argmax(1) == labels).sum().item()\n",
        "\n",
        "    print(f\"Evaluation loss: {total_loss / len(dataloader)}\")\n",
        "    print(f\"Evaluation accuracy: {total_correct / len(dataloader.dataset)}\")"
      ],
      "metadata": {
        "id": "CHYPZAZtdVUe"
      },
      "execution_count": null,
      "outputs": []
    },
    {
      "cell_type": "code",
      "source": [
        "test_dataset = CitationsDatasetWithoutInputExample(test_data)\n",
        "test_batch_size = batch_size\n",
        "test_dataloader = DataLoader(test_dataset, shuffle=False, batch_size=test_batch_size)"
      ],
      "metadata": {
        "id": "xairgL6mdV92"
      },
      "execution_count": null,
      "outputs": []
    },
    {
      "cell_type": "code",
      "source": [
        "def test(model, dataloader):\n",
        "    model.eval()\n",
        "    predictions = []\n",
        "    true_labels = []\n",
        "\n",
        "    with torch.no_grad():\n",
        "        for input_texts, labels in dataloader:\n",
        "            labels = labels.to(device)\n",
        "            output = model(input_texts)\n",
        "            _, predicted_labels = torch.max(output, dim=1)\n",
        "            predictions.extend(predicted_labels.cpu().numpy())\n",
        "            true_labels.extend(labels.cpu().numpy())\n",
        "    return predictions, true_labels\n",
        "\n",
        "def train_test_loop(model_name, num_epochs=5, learning_rate=2e-5):\n",
        "    num_labels = 3\n",
        "    citation_intent_classifier = CitationIntentClassifier(model_name, num_labels).to(device)\n",
        "\n",
        "    optimizer = torch.optim.Adam(citation_intent_classifier.parameters(), lr=learning_rate)\n",
        "    loss_func = torch.nn.CrossEntropyLoss()\n",
        "\n",
        "    for epoch in range(num_epochs):\n",
        "        print(f\"Epoch {epoch+1}/{num_epochs}\")\n",
        "        train_epoch(citation_intent_classifier, train_dataloader, loss_func, optimizer)\n",
        "        evaluate(citation_intent_classifier, dev_dataloader, loss_func)\n",
        "\n",
        "    predictions, true_labels = test(citation_intent_classifier, test_dataloader)\n",
        "    f1 = f1_score(true_labels, predictions, average='macro')\n",
        "    print(f\"F1 Score for {model_name}: {f1}\")"
      ],
      "metadata": {
        "id": "R-ETbDM7dXbL"
      },
      "execution_count": null,
      "outputs": []
    },
    {
      "cell_type": "code",
      "source": [
        "# Dataset: scicite scaffolds, group by: section label\n",
        "train_test_loop('for_gcolab/unsupervised_sciciteSection_2epoch')"
      ],
      "metadata": {
        "colab": {
          "base_uri": "https://localhost:8080/",
          "height": 570,
          "referenced_widgets": [
            "bc86ae68ba654224aa9b91181f4f8e17",
            "b544daecb2a8416581c50701c740bf09",
            "9dfab003c0ee4ec9b9ac592e995b5512",
            "de822f9d1ec34796b35673c1445b6d1d",
            "d6742e380caa4a5fb660b5e597aa57e3",
            "1f51ce4ef8b74009b86065ddbf41034a",
            "83228fc3af7544db80fe4405ea4ed10b",
            "656b6a4cbb4c4f258eb204167ac030a4",
            "5683f4393aa848debc24c10068844705",
            "24440bfa7b9f470e9a88acdc48e2e456",
            "8ac6c8d001f34084a51eec292022d2ce",
            "bc444e8f7f1c4582877afc9f027297fb",
            "223f8a036d324473b50c19517782c833",
            "acfa0b8257154b85b6e2a5607b8fbd5b",
            "7483bc55ef69427a8c2fdb9fb49058df",
            "66e44572a2044c94a14aeee3c1384a4d",
            "67eb4b855bea43f1b9bbd7738125792f",
            "f2abf8f17f734d25b125644e55aae201",
            "97773fc9eb894032a4e22e125581b117",
            "5bc5520f70e14738a301e61ecfe2e322",
            "2a8aba84ad444fc1ad9545ebb2c7ebab",
            "c041a680b6154645b258cc393fe3675b"
          ]
        },
        "id": "nO18j-Gp2g_p",
        "outputId": "ad4d04e3-0e5d-4812-8da8-12bd1a1e3f86"
      },
      "execution_count": null,
      "outputs": [
        {
          "output_type": "stream",
          "name": "stderr",
          "text": [
            "/usr/local/lib/python3.10/dist-packages/huggingface_hub/utils/_token.py:88: UserWarning: \n",
            "The secret `HF_TOKEN` does not exist in your Colab secrets.\n",
            "To authenticate with the Hugging Face Hub, create a token in your settings tab (https://huggingface.co/settings/tokens), set it as secret in your Google Colab and restart your session.\n",
            "You will be able to reuse this secret in all of your notebooks.\n",
            "Please note that authentication is recommended but still optional to access public models or datasets.\n",
            "  warnings.warn(\n"
          ]
        },
        {
          "output_type": "display_data",
          "data": {
            "text/plain": [
              "config.json:   0%|          | 0.00/385 [00:00<?, ?B/s]"
            ],
            "application/vnd.jupyter.widget-view+json": {
              "version_major": 2,
              "version_minor": 0,
              "model_id": "bc86ae68ba654224aa9b91181f4f8e17"
            }
          },
          "metadata": {}
        },
        {
          "output_type": "display_data",
          "data": {
            "text/plain": [
              "vocab.txt:   0%|          | 0.00/228k [00:00<?, ?B/s]"
            ],
            "application/vnd.jupyter.widget-view+json": {
              "version_major": 2,
              "version_minor": 0,
              "model_id": "bc444e8f7f1c4582877afc9f027297fb"
            }
          },
          "metadata": {}
        },
        {
          "output_type": "stream",
          "name": "stdout",
          "text": [
            "Epoch 1/5\n",
            "Training loss: 0.41637289860509624\n",
            "Evaluation loss: 0.45025860723750344\n",
            "Evaluation accuracy: 0.8296943231441049\n",
            "Epoch 2/5\n",
            "Training loss: 0.25601864342447805\n",
            "Evaluation loss: 0.4345348645643941\n",
            "Evaluation accuracy: 0.8406113537117904\n",
            "Epoch 3/5\n",
            "Training loss: 0.13702917243931587\n",
            "Evaluation loss: 0.594312275824105\n",
            "Evaluation accuracy: 0.8307860262008734\n",
            "Epoch 4/5\n",
            "Training loss: 0.06699775345826543\n",
            "Evaluation loss: 0.7700992603465144\n",
            "Evaluation accuracy: 0.8406113537117904\n",
            "Epoch 5/5\n",
            "Training loss: 0.04317285361896719\n",
            "Evaluation loss: 0.76519097663976\n",
            "Evaluation accuracy: 0.8318777292576419\n",
            "F1 Score for for_gcolab/unsupervised_sciciteSection_2epoch: 0.8461203088210124\n"
          ]
        }
      ]
    },
    {
      "cell_type": "code",
      "source": [
        "# Dataset: scicite scaffolds, group by: section label\n",
        "train_test_loop('for_gcolab/section_warmup_2epoch_sampler_16batch')"
      ],
      "metadata": {
        "colab": {
          "base_uri": "https://localhost:8080/",
          "height": 584,
          "referenced_widgets": [
            "ef9648b4d4444b16b01baecd1fcd5bd0",
            "3cac61b1d0a9404ca91170aa33d2ad95",
            "0b07b6faea70429da51c40370d6f414f",
            "de4619be42fa43c190a617d6bbab9e05",
            "5ac41ec633a74cc0b02e022f1455c9c6",
            "6ec6f7e3d85044c682f706d6be6603cf",
            "f515f923c9144ef584eec64102529060",
            "e00731d2b46a42679e67663f4dd16d65",
            "fdd25cbcd477437f8f1d4b1d54a3312b",
            "c866215b02374dfbbec53337b0806f82",
            "853aaf052773435a8a26c6cd3387c1b6",
            "a0f5dd49750d4525894399989d365637",
            "5b397432c1554c25860822324a83d764",
            "99a097a8ffea488a9aaa77843205a4ed",
            "cf53936eeafc4fe687f87528b6f3b768",
            "a07cecb8f0ed407a83b82bab6f637394",
            "349c9cc46dc443a485bbcaacf22212be",
            "128eae598b154d00995f243f13f951f1",
            "cb7310d75d154ebb93389a89f6fe1250",
            "5c6964388b954909ab104e19a96fa3a0",
            "5f54fc01c69d443094ede47966c96b21",
            "5033f0e6e8504eb1a82dc12c41bfa205"
          ]
        },
        "id": "sgBdMWoI3WNF",
        "outputId": "41222adb-df55-411c-9fc6-7e2645da5057"
      },
      "execution_count": null,
      "outputs": [
        {
          "output_type": "stream",
          "name": "stderr",
          "text": [
            "/usr/local/lib/python3.10/dist-packages/huggingface_hub/utils/_token.py:88: UserWarning: \n",
            "The secret `HF_TOKEN` does not exist in your Colab secrets.\n",
            "To authenticate with the Hugging Face Hub, create a token in your settings tab (https://huggingface.co/settings/tokens), set it as secret in your Google Colab and restart your session.\n",
            "You will be able to reuse this secret in all of your notebooks.\n",
            "Please note that authentication is recommended but still optional to access public models or datasets.\n",
            "  warnings.warn(\n"
          ]
        },
        {
          "output_type": "display_data",
          "data": {
            "text/plain": [
              "config.json:   0%|          | 0.00/385 [00:00<?, ?B/s]"
            ],
            "application/vnd.jupyter.widget-view+json": {
              "version_major": 2,
              "version_minor": 0,
              "model_id": "ef9648b4d4444b16b01baecd1fcd5bd0"
            }
          },
          "metadata": {}
        },
        {
          "output_type": "display_data",
          "data": {
            "text/plain": [
              "vocab.txt:   0%|          | 0.00/228k [00:00<?, ?B/s]"
            ],
            "application/vnd.jupyter.widget-view+json": {
              "version_major": 2,
              "version_minor": 0,
              "model_id": "a0f5dd49750d4525894399989d365637"
            }
          },
          "metadata": {}
        },
        {
          "output_type": "stream",
          "name": "stdout",
          "text": [
            "Epoch 1/5\n",
            "Training loss: 0.4163207432269588\n",
            "Evaluation loss: 0.41160864627052995\n",
            "Evaluation accuracy: 0.8504366812227074\n",
            "Epoch 2/5\n",
            "Training loss: 0.25108819500933033\n",
            "Evaluation loss: 0.4898615171811704\n",
            "Evaluation accuracy: 0.8307860262008734\n",
            "Epoch 3/5\n",
            "Training loss: 0.12728658069896173\n",
            "Evaluation loss: 0.6270064872143597\n",
            "Evaluation accuracy: 0.8493449781659389\n",
            "Epoch 4/5\n",
            "Training loss: 0.06901954493948796\n",
            "Evaluation loss: 0.7734248925899637\n",
            "Evaluation accuracy: 0.834061135371179\n",
            "Epoch 5/5\n",
            "Training loss: 0.04702361831427985\n",
            "Evaluation loss: 0.8025843382267088\n",
            "Evaluation accuracy: 0.8373362445414847\n",
            "F1 Score for for_gcolab/section_warmup_2epoch_sampler_16batch: 0.8486094912422967\n"
          ]
        }
      ]
    },
    {
      "cell_type": "code",
      "source": [
        "# Dataset: scicite scaffolds, group by: section label\n",
        "train_test_loop('for_gcolab/section_warmup_4epoch_sampler_16batch')"
      ],
      "metadata": {
        "colab": {
          "base_uri": "https://localhost:8080/"
        },
        "id": "OiiWZ8y5g-KP",
        "outputId": "e1b46352-5f4c-4b7b-cf8a-452a3dfba520"
      },
      "execution_count": null,
      "outputs": [
        {
          "output_type": "stream",
          "name": "stdout",
          "text": [
            "Epoch 1/5\n",
            "Training loss: 0.4281196247555258\n",
            "Evaluation loss: 0.4432018960601297\n",
            "Evaluation accuracy: 0.8395196506550219\n",
            "Epoch 2/5\n",
            "Training loss: 0.25239642225783465\n",
            "Evaluation loss: 0.49359232688258436\n",
            "Evaluation accuracy: 0.8373362445414847\n",
            "Epoch 3/5\n",
            "Training loss: 0.13253194069699203\n",
            "Evaluation loss: 0.6671294099008985\n",
            "Evaluation accuracy: 0.8307860262008734\n",
            "Epoch 4/5\n",
            "Training loss: 0.07469968918269652\n",
            "Evaluation loss: 0.6889928739261011\n",
            "Evaluation accuracy: 0.8351528384279476\n",
            "Epoch 5/5\n",
            "Training loss: 0.04733224013372904\n",
            "Evaluation loss: 0.793656421279342\n",
            "Evaluation accuracy: 0.8406113537117904\n",
            "F1 Score for for_gcolab/section_warmup_4epoch_sampler_16batch: 0.842917720451863\n"
          ]
        }
      ]
    },
    {
      "cell_type": "code",
      "source": [
        "# Baseline model\n",
        "train_test_loop('allenai/scibert_scivocab_uncased')"
      ],
      "metadata": {
        "colab": {
          "base_uri": "https://localhost:8080/",
          "height": 602,
          "referenced_widgets": [
            "8ef9a18dc8b74ce0836811fbdd53a36a",
            "b5a2f3d915934a3b974b919c619c5894",
            "e1af265a72b4430ab7dc62304e092b7a",
            "a0a47ef93f3e4a72ae5033e9323b8cdc",
            "829dba647aff4a68b449e36587967d86",
            "a74c321109dc41fc9a276bb51b7b8c56",
            "c2668bccb9da4c4dae49046239622158",
            "0a400472f785403ab2070c08f9fa9b49",
            "eeadb46f7330431c921d0ab055a3733f",
            "b3ce45d560484c4d8470aa684fb30576",
            "1419d66d8daa4cdc9807eefe29306d9b",
            "3eb64b9e42f4421ebc41b86a24be7f7b",
            "e5013df0fcf746b09c38e86b6041a726",
            "49e01ce532404174a794c9306354f1b4",
            "231d7143bf1e4f34a2b87da1d8668240",
            "566bf533870345a681712e53d926eed0",
            "c43265e031c5434c82cd2003a9a99cfb",
            "d9ba4dc55df1491a93a445e449cf2711",
            "0a25c7b232d1480bbdbf1a568e19ff01",
            "b12add0eae1b432babf061019bb9d647",
            "ce7be9e5fce14d7298b5f7548e36d941",
            "00067e15b8e34f7ab0a150dfe585ee37",
            "1a8e895e2f4846b3a0244dcc807dce4f",
            "a09eb9dbfd5c4243b295f928070f1171",
            "8831fb13dd294d69ab4d54986c68c97b",
            "88146866c0db48b78fce50e965a41765",
            "1052a35454c94f4c8483369ec41724c5",
            "50d4f53eaaa84acfab7e82c338baf8c1",
            "afea1af7bd604d65b661f41224093bea",
            "9bcb7b6276f8495495ea68ec9b611805",
            "db6671314fd34c8daa986382378abdcc",
            "6504ac1043cb440e8eb1e01bc5b39879",
            "a2f22e7040bc4d279faec86b63febd8c"
          ]
        },
        "id": "qdFrboz3mgQz",
        "outputId": "d2a1308a-0169-47ea-bac8-98bf1d4e313d"
      },
      "execution_count": null,
      "outputs": [
        {
          "output_type": "stream",
          "name": "stderr",
          "text": [
            "/usr/local/lib/python3.10/dist-packages/huggingface_hub/utils/_token.py:88: UserWarning: \n",
            "The secret `HF_TOKEN` does not exist in your Colab secrets.\n",
            "To authenticate with the Hugging Face Hub, create a token in your settings tab (https://huggingface.co/settings/tokens), set it as secret in your Google Colab and restart your session.\n",
            "You will be able to reuse this secret in all of your notebooks.\n",
            "Please note that authentication is recommended but still optional to access public models or datasets.\n",
            "  warnings.warn(\n"
          ]
        },
        {
          "output_type": "display_data",
          "data": {
            "text/plain": [
              "config.json:   0%|          | 0.00/385 [00:00<?, ?B/s]"
            ],
            "application/vnd.jupyter.widget-view+json": {
              "version_major": 2,
              "version_minor": 0,
              "model_id": "8ef9a18dc8b74ce0836811fbdd53a36a"
            }
          },
          "metadata": {}
        },
        {
          "output_type": "display_data",
          "data": {
            "text/plain": [
              "vocab.txt:   0%|          | 0.00/228k [00:00<?, ?B/s]"
            ],
            "application/vnd.jupyter.widget-view+json": {
              "version_major": 2,
              "version_minor": 0,
              "model_id": "3eb64b9e42f4421ebc41b86a24be7f7b"
            }
          },
          "metadata": {}
        },
        {
          "output_type": "display_data",
          "data": {
            "text/plain": [
              "pytorch_model.bin:   0%|          | 0.00/442M [00:00<?, ?B/s]"
            ],
            "application/vnd.jupyter.widget-view+json": {
              "version_major": 2,
              "version_minor": 0,
              "model_id": "1a8e895e2f4846b3a0244dcc807dce4f"
            }
          },
          "metadata": {}
        },
        {
          "output_type": "stream",
          "name": "stdout",
          "text": [
            "Epoch 1/5\n",
            "Training loss: 0.4096578717260629\n",
            "Evaluation loss: 0.42965070736305466\n",
            "Evaluation accuracy: 0.8449781659388647\n",
            "Epoch 2/5\n",
            "Training loss: 0.2614443693959782\n",
            "Evaluation loss: 0.43242182980837496\n",
            "Evaluation accuracy: 0.8406113537117904\n",
            "Epoch 3/5\n",
            "Training loss: 0.14280616639492413\n",
            "Evaluation loss: 0.5636075658659483\n",
            "Evaluation accuracy: 0.834061135371179\n",
            "Epoch 4/5\n",
            "Training loss: 0.06569968351348422\n",
            "Evaluation loss: 0.7417600516165639\n",
            "Evaluation accuracy: 0.8384279475982532\n",
            "Epoch 5/5\n",
            "Training loss: 0.0426638760390085\n",
            "Evaluation loss: 0.7984709703074447\n",
            "Evaluation accuracy: 0.8307860262008734\n",
            "F1 Score: 0.852946306743048\n"
          ]
        }
      ]
    },
    {
      "cell_type": "code",
      "execution_count": null,
      "metadata": {
        "colab": {
          "base_uri": "https://localhost:8080/"
        },
        "id": "EIYPaeAvqQQ_",
        "outputId": "fb869589-37db-4bd5-a309-a654376ca4c8"
      },
      "outputs": [
        {
          "output_type": "stream",
          "name": "stdout",
          "text": [
            "Epoch 1/5\n",
            "Training loss: 0.422156289840738\n",
            "Evaluation loss: 0.4426012387306526\n",
            "Evaluation accuracy: 0.8329694323144105\n",
            "Epoch 2/5\n",
            "Training loss: 0.2429525272184333\n",
            "Evaluation loss: 0.46889097179318295\n",
            "Evaluation accuracy: 0.8362445414847162\n",
            "Epoch 3/5\n",
            "Training loss: 0.1265475457063118\n",
            "Evaluation loss: 0.5680098733704152\n",
            "Evaluation accuracy: 0.8318777292576419\n",
            "Epoch 4/5\n",
            "Training loss: 0.06999246556990484\n",
            "Evaluation loss: 0.6401608727735885\n",
            "Evaluation accuracy: 0.8384279475982532\n",
            "Epoch 5/5\n",
            "Training loss: 0.04620533810659197\n",
            "Evaluation loss: 0.7118694637580936\n",
            "Evaluation accuracy: 0.8449781659388647\n",
            "F1 Score for for_gcolab/section_without_hard_warmup_2epoch_sampler: 0.8543557841490171\n"
          ]
        }
      ],
      "source": [
        "# Dataset: scicite scaffolds, group by: section label\n",
        "train_test_loop('for_gcolab/section_without_hard_warmup_2epoch_sampler')"
      ]
    },
    {
      "cell_type": "code",
      "source": [
        "# Dataset: scicite scaffolds, group by: section label\n",
        "train_test_loop('for_gcolab/section_without_hard_warmup_4epoch_sampler')"
      ],
      "metadata": {
        "colab": {
          "base_uri": "https://localhost:8080/"
        },
        "id": "TVjxtKADDKP2",
        "outputId": "ee19ab62-0132-4394-dc60-d6fd14fd9b44"
      },
      "execution_count": null,
      "outputs": [
        {
          "output_type": "stream",
          "name": "stdout",
          "text": [
            "Epoch 1/5\n",
            "Training loss: 0.4224126022922727\n",
            "Evaluation loss: 0.41904387545996696\n",
            "Evaluation accuracy: 0.851528384279476\n",
            "Epoch 2/5\n",
            "Training loss: 0.24526965122511105\n",
            "Evaluation loss: 0.4806625947741599\n",
            "Evaluation accuracy: 0.8438864628820961\n",
            "Epoch 3/5\n",
            "Training loss: 0.11968215880735034\n",
            "Evaluation loss: 0.6211651617596889\n",
            "Evaluation accuracy: 0.851528384279476\n",
            "Epoch 4/5\n",
            "Training loss: 0.06134218775566628\n",
            "Evaluation loss: 0.7432366765007891\n",
            "Evaluation accuracy: 0.8275109170305677\n",
            "Epoch 5/5\n",
            "Training loss: 0.03681135550000328\n",
            "Evaluation loss: 0.844197102404874\n",
            "Evaluation accuracy: 0.8406113537117904\n",
            "F1 Score for for_gcolab/section_without_hard_warmup_4epoch_sampler: 0.8391123939730335\n"
          ]
        }
      ]
    },
    {
      "cell_type": "code",
      "source": [
        "# Dataset: scicite scaffolds, group by: section label\n",
        "train_test_loop('for_gcolab/section_with_hard')"
      ],
      "metadata": {
        "id": "l-JRVdZ9daQL",
        "colab": {
          "base_uri": "https://localhost:8080/"
        },
        "outputId": "ce2ce94d-e8ab-4c20-a478-a969d9224ce6"
      },
      "execution_count": null,
      "outputs": [
        {
          "output_type": "stream",
          "name": "stdout",
          "text": [
            "Epoch 1/5\n",
            "Training loss: 0.5484766691576602\n",
            "Evaluation loss: 0.4548608301014736\n",
            "Evaluation accuracy: 0.8329694323144105\n",
            "Epoch 2/5\n",
            "Training loss: 0.34377770642786065\n",
            "Evaluation loss: 0.4483630610951062\n",
            "Evaluation accuracy: 0.8460698689956332\n",
            "Epoch 3/5\n",
            "Training loss: 0.23769038635515427\n",
            "Evaluation loss: 0.49048513893423407\n",
            "Evaluation accuracy: 0.8406113537117904\n",
            "Epoch 4/5\n",
            "Training loss: 0.1534410563275911\n",
            "Evaluation loss: 0.5846135433891724\n",
            "Evaluation accuracy: 0.8384279475982532\n",
            "Epoch 5/5\n",
            "Training loss: 0.08914406673419614\n",
            "Evaluation loss: 0.687878583011956\n",
            "Evaluation accuracy: 0.8296943231441049\n",
            "F1 Score: 0.8162177211044165\n"
          ]
        }
      ]
    },
    {
      "cell_type": "code",
      "source": [
        "# Dataset: scicite scaffolds, group by: section label\n",
        "# Fine-BatchSize: 32, Pre-LR: 2e-5\n",
        "train_test_loop('for_gcolab/section_without_hard')"
      ],
      "metadata": {
        "colab": {
          "base_uri": "https://localhost:8080/"
        },
        "id": "ha4fZt0avck0",
        "outputId": "b5a6b0d2-c193-4081-f663-9bb734074916"
      },
      "execution_count": null,
      "outputs": [
        {
          "output_type": "stream",
          "name": "stderr",
          "text": [
            "/usr/local/lib/python3.10/dist-packages/huggingface_hub/utils/_token.py:88: UserWarning: \n",
            "The secret `HF_TOKEN` does not exist in your Colab secrets.\n",
            "To authenticate with the Hugging Face Hub, create a token in your settings tab (https://huggingface.co/settings/tokens), set it as secret in your Google Colab and restart your session.\n",
            "You will be able to reuse this secret in all of your notebooks.\n",
            "Please note that authentication is recommended but still optional to access public models or datasets.\n",
            "  warnings.warn(\n"
          ]
        },
        {
          "output_type": "stream",
          "name": "stdout",
          "text": [
            "Epoch 1/5\n",
            "Training loss: 0.4523975432727688\n",
            "Evaluation loss: 0.4239066243171692\n",
            "Evaluation accuracy: 0.8329694323144105\n",
            "Epoch 2/5\n",
            "Training loss: 0.2531581413318483\n",
            "Evaluation loss: 0.46768848443853445\n",
            "Evaluation accuracy: 0.8395196506550219\n",
            "Epoch 3/5\n",
            "Training loss: 0.126963294098558\n",
            "Evaluation loss: 0.5451935015875717\n",
            "Evaluation accuracy: 0.834061135371179\n",
            "Epoch 4/5\n",
            "Training loss: 0.055823071306578584\n",
            "Evaluation loss: 0.6518451201504675\n",
            "Evaluation accuracy: 0.8471615720524017\n",
            "Epoch 5/5\n",
            "Training loss: 0.031220848735714287\n",
            "Evaluation loss: 0.8292831377736454\n",
            "Evaluation accuracy: 0.8362445414847162\n",
            "F1 Score: 0.8357675287569054\n"
          ]
        }
      ]
    },
    {
      "cell_type": "code",
      "source": [
        "# Dataset: scicite scaffolds, group by: section label\n",
        "# Fine-BatchSize: 16, Pre-LR: 2e-5, 4 epochs\n",
        "train_test_loop('for_gcolab/section_without_hard')"
      ],
      "metadata": {
        "colab": {
          "base_uri": "https://localhost:8080/"
        },
        "id": "w8OHkZQUYYt2",
        "outputId": "a623dc1b-b2eb-4261-e874-f6fb1254c9af"
      },
      "execution_count": null,
      "outputs": [
        {
          "output_type": "stream",
          "name": "stderr",
          "text": [
            "/usr/local/lib/python3.10/dist-packages/huggingface_hub/utils/_token.py:88: UserWarning: \n",
            "The secret `HF_TOKEN` does not exist in your Colab secrets.\n",
            "To authenticate with the Hugging Face Hub, create a token in your settings tab (https://huggingface.co/settings/tokens), set it as secret in your Google Colab and restart your session.\n",
            "You will be able to reuse this secret in all of your notebooks.\n",
            "Please note that authentication is recommended but still optional to access public models or datasets.\n",
            "  warnings.warn(\n"
          ]
        },
        {
          "output_type": "stream",
          "name": "stdout",
          "text": [
            "Epoch 1/5\n",
            "Training loss: 0.43868237657313663\n",
            "Evaluation loss: 0.42730324381384355\n",
            "Evaluation accuracy: 0.8384279475982532\n",
            "Epoch 2/5\n",
            "Training loss: 0.2420807163584833\n",
            "Evaluation loss: 0.4624652760424491\n",
            "Evaluation accuracy: 0.8548034934497817\n",
            "Epoch 3/5\n",
            "Training loss: 0.10921322188859936\n",
            "Evaluation loss: 0.6053152700629214\n",
            "Evaluation accuracy: 0.8449781659388647\n",
            "Epoch 4/5\n",
            "Training loss: 0.0529089880539348\n",
            "Evaluation loss: 0.7270640227140794\n",
            "Evaluation accuracy: 0.8406113537117904\n",
            "Epoch 5/5\n",
            "Training loss: 0.036261926282794205\n",
            "Evaluation loss: 0.91127725550102\n",
            "Evaluation accuracy: 0.8460698689956332\n",
            "F1 Score: 0.840044137165776\n"
          ]
        }
      ]
    },
    {
      "cell_type": "code",
      "source": [
        "# Dataset: scicite scaffolds, group by: section label\n",
        "# Fine-BatchSize: 16, Pre-LR: 2e-5, 4 epochs\n",
        "train_test_loop('for_gcolab/section_without_hard_warmup')"
      ],
      "metadata": {
        "colab": {
          "base_uri": "https://localhost:8080/"
        },
        "id": "jbXE9SKz9OXh",
        "outputId": "f81a424e-d099-4c06-d4de-6efadbeffc04"
      },
      "execution_count": null,
      "outputs": [
        {
          "output_type": "stream",
          "name": "stdout",
          "text": [
            "Epoch 1/5\n",
            "Training loss: 0.4233064498145913\n",
            "Evaluation loss: 0.4304370592380392\n",
            "Evaluation accuracy: 0.8395196506550219\n",
            "Epoch 2/5\n",
            "Training loss: 0.24185827332584894\n",
            "Evaluation loss: 0.47118923736029655\n",
            "Evaluation accuracy: 0.8395196506550219\n",
            "Epoch 3/5\n",
            "Training loss: 0.11935387288000031\n",
            "Evaluation loss: 0.6031839823799914\n",
            "Evaluation accuracy: 0.8362445414847162\n",
            "Epoch 4/5\n",
            "Training loss: 0.05759026855140087\n",
            "Evaluation loss: 0.6985285966817675\n",
            "Evaluation accuracy: 0.8329694323144105\n",
            "Epoch 5/5\n",
            "Training loss: 0.039147372554110944\n",
            "Evaluation loss: 0.8427344234981413\n",
            "Evaluation accuracy: 0.8395196506550219\n",
            "F1 Score for for_gcolab/section_without_hard_warmup: 0.8420409052746064\n"
          ]
        }
      ]
    },
    {
      "cell_type": "code",
      "source": [
        "# Dataset: scicite scaffolds, group by: section label\n",
        "# Fine-BatchSize: 16, Pre-LR: 2e-5, 4 epochs\n",
        "train_test_loop('for_gcolab/section_without_hard_warmup_2epoch')"
      ],
      "metadata": {
        "colab": {
          "base_uri": "https://localhost:8080/",
          "height": 584,
          "referenced_widgets": [
            "741a8f0ef5684cfc97094877747a2c6c",
            "8e46bb788bad42dbbe63f1b439a0f57a",
            "aeed9133c2074400be8f785b6ff48d3d",
            "80f5cb35cc604e2785caca1949219242",
            "fc235774dda845a489c9a36d0807d0cf",
            "391d7e804dce497d8d741852bea85bd0",
            "73a2eab05ab74f1e997e232faaadfe92",
            "6cca74122e774293b39c589eeb640440",
            "2cc808057bdf47d6b7630857f401448e",
            "51e5eaa5d744417d9916675db1ca4df4",
            "29ed95d2375d4628b88180d34273736a",
            "296d8019b1054ed68e101438815334b3",
            "a66802b4b98a4c2d8a01051eedf88e24",
            "7094c63d750c4b58a1b67d2c766379f6",
            "59ea6161729840a9af75f86765b57d0c",
            "faca948cfce74a008f05e9592230e78d",
            "34e60ad8021b4debad7ccb239169912f",
            "7e0d608874674f2bb8e9a6ab74d1aea4",
            "ca9cbb326d2d42508a0e7075865bbd58",
            "90e43ff560a24da188f10362d9a6f0e0",
            "e13c133091504b5d9ce03f87b1ce43dd",
            "8a30ed79124247949b531d5f233fb78d"
          ]
        },
        "id": "_heSdc3Qe8qt",
        "outputId": "df717e81-8b6a-4de4-d819-62b4c4a76d01"
      },
      "execution_count": null,
      "outputs": [
        {
          "output_type": "stream",
          "name": "stderr",
          "text": [
            "/usr/local/lib/python3.10/dist-packages/huggingface_hub/utils/_token.py:88: UserWarning: \n",
            "The secret `HF_TOKEN` does not exist in your Colab secrets.\n",
            "To authenticate with the Hugging Face Hub, create a token in your settings tab (https://huggingface.co/settings/tokens), set it as secret in your Google Colab and restart your session.\n",
            "You will be able to reuse this secret in all of your notebooks.\n",
            "Please note that authentication is recommended but still optional to access public models or datasets.\n",
            "  warnings.warn(\n"
          ]
        },
        {
          "output_type": "display_data",
          "data": {
            "text/plain": [
              "config.json:   0%|          | 0.00/385 [00:00<?, ?B/s]"
            ],
            "application/vnd.jupyter.widget-view+json": {
              "version_major": 2,
              "version_minor": 0,
              "model_id": "741a8f0ef5684cfc97094877747a2c6c"
            }
          },
          "metadata": {}
        },
        {
          "output_type": "display_data",
          "data": {
            "text/plain": [
              "vocab.txt:   0%|          | 0.00/228k [00:00<?, ?B/s]"
            ],
            "application/vnd.jupyter.widget-view+json": {
              "version_major": 2,
              "version_minor": 0,
              "model_id": "296d8019b1054ed68e101438815334b3"
            }
          },
          "metadata": {}
        },
        {
          "output_type": "stream",
          "name": "stdout",
          "text": [
            "Epoch 1/5\n",
            "Training loss: 0.41384257838967464\n",
            "Evaluation loss: 0.41382220798525315\n",
            "Evaluation accuracy: 0.8537117903930131\n",
            "Epoch 2/5\n",
            "Training loss: 0.24409778983974756\n",
            "Evaluation loss: 0.44852032910647066\n",
            "Evaluation accuracy: 0.851528384279476\n",
            "Epoch 3/5\n",
            "Training loss: 0.12740369594941103\n",
            "Evaluation loss: 0.5723868770332172\n",
            "Evaluation accuracy: 0.8417030567685589\n",
            "Epoch 4/5\n",
            "Training loss: 0.05987485089670287\n",
            "Evaluation loss: 0.7946388977258627\n",
            "Evaluation accuracy: 0.834061135371179\n",
            "Epoch 5/5\n",
            "Training loss: 0.037455960778646304\n",
            "Evaluation loss: 0.8821846289833173\n",
            "Evaluation accuracy: 0.8482532751091703\n",
            "F1 Score for for_gcolab/section_without_hard_warmup_2epoch: 0.8457944756861631\n"
          ]
        }
      ]
    },
    {
      "cell_type": "code",
      "source": [
        "# Dataset: scicite scaffolds, group by: section label, preprocessing: Dropped duplicates\n",
        "# Fine-BatchSize: 16, Pre-LR: 2e-5, 2 epochs\n",
        "train_test_loop('for_gcolab/scicite_nodup_section_without_hard_warmup_2epoch')"
      ],
      "metadata": {
        "colab": {
          "base_uri": "https://localhost:8080/"
        },
        "id": "7CTqeSeDnMRn",
        "outputId": "462d4a8f-ce12-4825-f2b0-01174f57d849"
      },
      "execution_count": null,
      "outputs": [
        {
          "output_type": "stream",
          "name": "stdout",
          "text": [
            "Epoch 1/5\n",
            "Training loss: 0.41318123559503594\n",
            "Evaluation loss: 0.4203477072818526\n",
            "Evaluation accuracy: 0.8537117903930131\n",
            "Epoch 2/5\n",
            "Training loss: 0.25415029966041386\n",
            "Evaluation loss: 0.47177086770534515\n",
            "Evaluation accuracy: 0.8351528384279476\n",
            "Epoch 3/5\n",
            "Training loss: 0.1343837882303669\n",
            "Evaluation loss: 0.6279653115840308\n",
            "Evaluation accuracy: 0.8417030567685589\n",
            "Epoch 4/5\n",
            "Training loss: 0.07060656344040672\n",
            "Evaluation loss: 0.7080998621431405\n",
            "Evaluation accuracy: 0.8362445414847162\n",
            "Epoch 5/5\n",
            "Training loss: 0.045066840957278066\n",
            "Evaluation loss: 0.782965902110626\n",
            "Evaluation accuracy: 0.8231441048034934\n",
            "F1 Score for for_gcolab/scicite_nodup_section_without_hard_warmup_2epoch: 0.8281101800153098\n"
          ]
        }
      ]
    },
    {
      "cell_type": "code",
      "execution_count": null,
      "metadata": {
        "colab": {
          "background_save": true,
          "base_uri": "https://localhost:8080/"
        },
        "id": "RjUJhCAkFQ6n",
        "outputId": "abfc7987-8466-43be-ab55-b10bc0ee5309"
      },
      "outputs": [
        {
          "name": "stdout",
          "output_type": "stream",
          "text": [
            "Epoch 1/5\n",
            "Training loss: 0.46436375365123267\n",
            "Evaluation loss: 0.43889380143634205\n",
            "Evaluation accuracy: 0.8449781659388647\n",
            "Epoch 2/5\n",
            "Training loss: 0.2683184451113145\n",
            "Evaluation loss: 0.4329023822371302\n",
            "Evaluation accuracy: 0.851528384279476\n",
            "Epoch 3/5\n",
            "Training loss: 0.15839769999052636\n",
            "Evaluation loss: 0.5383444760508579\n",
            "Evaluation accuracy: 0.8362445414847162\n",
            "Epoch 4/5\n",
            "Training loss: 0.0984772814098428\n",
            "Evaluation loss: 0.6176487565811338\n",
            "Evaluation accuracy: 0.8395196506550219\n",
            "Epoch 5/5\n",
            "Training loss: 0.04716472454637997\n",
            "Evaluation loss: 0.7750557830942602\n",
            "Evaluation accuracy: 0.8373362445414847\n",
            "F1 Score: 0.8361720319781112\n"
          ]
        }
      ],
      "source": [
        "# Dataset: scicite scaffolds, group by: section label, Additional layer: MLP with dropout\n",
        "train_test_loop('./sectionPaper_mlp_dropout')"
      ]
    }
  ],
  "metadata": {
    "kernelspec": {
      "display_name": "Python 3",
      "name": "python3"
    },
    "language_info": {
      "codemirror_mode": {
        "name": "ipython",
        "version": 3
      },
      "file_extension": ".py",
      "mimetype": "text/x-python",
      "name": "python",
      "nbconvert_exporter": "python",
      "pygments_lexer": "ipython3",
      "version": "3.10.10"
    },
    "colab": {
      "provenance": []
    },
    "widgets": {
      "application/vnd.jupyter.widget-state+json": {
        "741a8f0ef5684cfc97094877747a2c6c": {
          "model_module": "@jupyter-widgets/controls",
          "model_name": "HBoxModel",
          "model_module_version": "1.5.0",
          "state": {
            "_dom_classes": [],
            "_model_module": "@jupyter-widgets/controls",
            "_model_module_version": "1.5.0",
            "_model_name": "HBoxModel",
            "_view_count": null,
            "_view_module": "@jupyter-widgets/controls",
            "_view_module_version": "1.5.0",
            "_view_name": "HBoxView",
            "box_style": "",
            "children": [
              "IPY_MODEL_8e46bb788bad42dbbe63f1b439a0f57a",
              "IPY_MODEL_aeed9133c2074400be8f785b6ff48d3d",
              "IPY_MODEL_80f5cb35cc604e2785caca1949219242"
            ],
            "layout": "IPY_MODEL_fc235774dda845a489c9a36d0807d0cf"
          }
        },
        "8e46bb788bad42dbbe63f1b439a0f57a": {
          "model_module": "@jupyter-widgets/controls",
          "model_name": "HTMLModel",
          "model_module_version": "1.5.0",
          "state": {
            "_dom_classes": [],
            "_model_module": "@jupyter-widgets/controls",
            "_model_module_version": "1.5.0",
            "_model_name": "HTMLModel",
            "_view_count": null,
            "_view_module": "@jupyter-widgets/controls",
            "_view_module_version": "1.5.0",
            "_view_name": "HTMLView",
            "description": "",
            "description_tooltip": null,
            "layout": "IPY_MODEL_391d7e804dce497d8d741852bea85bd0",
            "placeholder": "​",
            "style": "IPY_MODEL_73a2eab05ab74f1e997e232faaadfe92",
            "value": "config.json: 100%"
          }
        },
        "aeed9133c2074400be8f785b6ff48d3d": {
          "model_module": "@jupyter-widgets/controls",
          "model_name": "FloatProgressModel",
          "model_module_version": "1.5.0",
          "state": {
            "_dom_classes": [],
            "_model_module": "@jupyter-widgets/controls",
            "_model_module_version": "1.5.0",
            "_model_name": "FloatProgressModel",
            "_view_count": null,
            "_view_module": "@jupyter-widgets/controls",
            "_view_module_version": "1.5.0",
            "_view_name": "ProgressView",
            "bar_style": "success",
            "description": "",
            "description_tooltip": null,
            "layout": "IPY_MODEL_6cca74122e774293b39c589eeb640440",
            "max": 385,
            "min": 0,
            "orientation": "horizontal",
            "style": "IPY_MODEL_2cc808057bdf47d6b7630857f401448e",
            "value": 385
          }
        },
        "80f5cb35cc604e2785caca1949219242": {
          "model_module": "@jupyter-widgets/controls",
          "model_name": "HTMLModel",
          "model_module_version": "1.5.0",
          "state": {
            "_dom_classes": [],
            "_model_module": "@jupyter-widgets/controls",
            "_model_module_version": "1.5.0",
            "_model_name": "HTMLModel",
            "_view_count": null,
            "_view_module": "@jupyter-widgets/controls",
            "_view_module_version": "1.5.0",
            "_view_name": "HTMLView",
            "description": "",
            "description_tooltip": null,
            "layout": "IPY_MODEL_51e5eaa5d744417d9916675db1ca4df4",
            "placeholder": "​",
            "style": "IPY_MODEL_29ed95d2375d4628b88180d34273736a",
            "value": " 385/385 [00:00&lt;00:00, 13.3kB/s]"
          }
        },
        "fc235774dda845a489c9a36d0807d0cf": {
          "model_module": "@jupyter-widgets/base",
          "model_name": "LayoutModel",
          "model_module_version": "1.2.0",
          "state": {
            "_model_module": "@jupyter-widgets/base",
            "_model_module_version": "1.2.0",
            "_model_name": "LayoutModel",
            "_view_count": null,
            "_view_module": "@jupyter-widgets/base",
            "_view_module_version": "1.2.0",
            "_view_name": "LayoutView",
            "align_content": null,
            "align_items": null,
            "align_self": null,
            "border": null,
            "bottom": null,
            "display": null,
            "flex": null,
            "flex_flow": null,
            "grid_area": null,
            "grid_auto_columns": null,
            "grid_auto_flow": null,
            "grid_auto_rows": null,
            "grid_column": null,
            "grid_gap": null,
            "grid_row": null,
            "grid_template_areas": null,
            "grid_template_columns": null,
            "grid_template_rows": null,
            "height": null,
            "justify_content": null,
            "justify_items": null,
            "left": null,
            "margin": null,
            "max_height": null,
            "max_width": null,
            "min_height": null,
            "min_width": null,
            "object_fit": null,
            "object_position": null,
            "order": null,
            "overflow": null,
            "overflow_x": null,
            "overflow_y": null,
            "padding": null,
            "right": null,
            "top": null,
            "visibility": null,
            "width": null
          }
        },
        "391d7e804dce497d8d741852bea85bd0": {
          "model_module": "@jupyter-widgets/base",
          "model_name": "LayoutModel",
          "model_module_version": "1.2.0",
          "state": {
            "_model_module": "@jupyter-widgets/base",
            "_model_module_version": "1.2.0",
            "_model_name": "LayoutModel",
            "_view_count": null,
            "_view_module": "@jupyter-widgets/base",
            "_view_module_version": "1.2.0",
            "_view_name": "LayoutView",
            "align_content": null,
            "align_items": null,
            "align_self": null,
            "border": null,
            "bottom": null,
            "display": null,
            "flex": null,
            "flex_flow": null,
            "grid_area": null,
            "grid_auto_columns": null,
            "grid_auto_flow": null,
            "grid_auto_rows": null,
            "grid_column": null,
            "grid_gap": null,
            "grid_row": null,
            "grid_template_areas": null,
            "grid_template_columns": null,
            "grid_template_rows": null,
            "height": null,
            "justify_content": null,
            "justify_items": null,
            "left": null,
            "margin": null,
            "max_height": null,
            "max_width": null,
            "min_height": null,
            "min_width": null,
            "object_fit": null,
            "object_position": null,
            "order": null,
            "overflow": null,
            "overflow_x": null,
            "overflow_y": null,
            "padding": null,
            "right": null,
            "top": null,
            "visibility": null,
            "width": null
          }
        },
        "73a2eab05ab74f1e997e232faaadfe92": {
          "model_module": "@jupyter-widgets/controls",
          "model_name": "DescriptionStyleModel",
          "model_module_version": "1.5.0",
          "state": {
            "_model_module": "@jupyter-widgets/controls",
            "_model_module_version": "1.5.0",
            "_model_name": "DescriptionStyleModel",
            "_view_count": null,
            "_view_module": "@jupyter-widgets/base",
            "_view_module_version": "1.2.0",
            "_view_name": "StyleView",
            "description_width": ""
          }
        },
        "6cca74122e774293b39c589eeb640440": {
          "model_module": "@jupyter-widgets/base",
          "model_name": "LayoutModel",
          "model_module_version": "1.2.0",
          "state": {
            "_model_module": "@jupyter-widgets/base",
            "_model_module_version": "1.2.0",
            "_model_name": "LayoutModel",
            "_view_count": null,
            "_view_module": "@jupyter-widgets/base",
            "_view_module_version": "1.2.0",
            "_view_name": "LayoutView",
            "align_content": null,
            "align_items": null,
            "align_self": null,
            "border": null,
            "bottom": null,
            "display": null,
            "flex": null,
            "flex_flow": null,
            "grid_area": null,
            "grid_auto_columns": null,
            "grid_auto_flow": null,
            "grid_auto_rows": null,
            "grid_column": null,
            "grid_gap": null,
            "grid_row": null,
            "grid_template_areas": null,
            "grid_template_columns": null,
            "grid_template_rows": null,
            "height": null,
            "justify_content": null,
            "justify_items": null,
            "left": null,
            "margin": null,
            "max_height": null,
            "max_width": null,
            "min_height": null,
            "min_width": null,
            "object_fit": null,
            "object_position": null,
            "order": null,
            "overflow": null,
            "overflow_x": null,
            "overflow_y": null,
            "padding": null,
            "right": null,
            "top": null,
            "visibility": null,
            "width": null
          }
        },
        "2cc808057bdf47d6b7630857f401448e": {
          "model_module": "@jupyter-widgets/controls",
          "model_name": "ProgressStyleModel",
          "model_module_version": "1.5.0",
          "state": {
            "_model_module": "@jupyter-widgets/controls",
            "_model_module_version": "1.5.0",
            "_model_name": "ProgressStyleModel",
            "_view_count": null,
            "_view_module": "@jupyter-widgets/base",
            "_view_module_version": "1.2.0",
            "_view_name": "StyleView",
            "bar_color": null,
            "description_width": ""
          }
        },
        "51e5eaa5d744417d9916675db1ca4df4": {
          "model_module": "@jupyter-widgets/base",
          "model_name": "LayoutModel",
          "model_module_version": "1.2.0",
          "state": {
            "_model_module": "@jupyter-widgets/base",
            "_model_module_version": "1.2.0",
            "_model_name": "LayoutModel",
            "_view_count": null,
            "_view_module": "@jupyter-widgets/base",
            "_view_module_version": "1.2.0",
            "_view_name": "LayoutView",
            "align_content": null,
            "align_items": null,
            "align_self": null,
            "border": null,
            "bottom": null,
            "display": null,
            "flex": null,
            "flex_flow": null,
            "grid_area": null,
            "grid_auto_columns": null,
            "grid_auto_flow": null,
            "grid_auto_rows": null,
            "grid_column": null,
            "grid_gap": null,
            "grid_row": null,
            "grid_template_areas": null,
            "grid_template_columns": null,
            "grid_template_rows": null,
            "height": null,
            "justify_content": null,
            "justify_items": null,
            "left": null,
            "margin": null,
            "max_height": null,
            "max_width": null,
            "min_height": null,
            "min_width": null,
            "object_fit": null,
            "object_position": null,
            "order": null,
            "overflow": null,
            "overflow_x": null,
            "overflow_y": null,
            "padding": null,
            "right": null,
            "top": null,
            "visibility": null,
            "width": null
          }
        },
        "29ed95d2375d4628b88180d34273736a": {
          "model_module": "@jupyter-widgets/controls",
          "model_name": "DescriptionStyleModel",
          "model_module_version": "1.5.0",
          "state": {
            "_model_module": "@jupyter-widgets/controls",
            "_model_module_version": "1.5.0",
            "_model_name": "DescriptionStyleModel",
            "_view_count": null,
            "_view_module": "@jupyter-widgets/base",
            "_view_module_version": "1.2.0",
            "_view_name": "StyleView",
            "description_width": ""
          }
        },
        "296d8019b1054ed68e101438815334b3": {
          "model_module": "@jupyter-widgets/controls",
          "model_name": "HBoxModel",
          "model_module_version": "1.5.0",
          "state": {
            "_dom_classes": [],
            "_model_module": "@jupyter-widgets/controls",
            "_model_module_version": "1.5.0",
            "_model_name": "HBoxModel",
            "_view_count": null,
            "_view_module": "@jupyter-widgets/controls",
            "_view_module_version": "1.5.0",
            "_view_name": "HBoxView",
            "box_style": "",
            "children": [
              "IPY_MODEL_a66802b4b98a4c2d8a01051eedf88e24",
              "IPY_MODEL_7094c63d750c4b58a1b67d2c766379f6",
              "IPY_MODEL_59ea6161729840a9af75f86765b57d0c"
            ],
            "layout": "IPY_MODEL_faca948cfce74a008f05e9592230e78d"
          }
        },
        "a66802b4b98a4c2d8a01051eedf88e24": {
          "model_module": "@jupyter-widgets/controls",
          "model_name": "HTMLModel",
          "model_module_version": "1.5.0",
          "state": {
            "_dom_classes": [],
            "_model_module": "@jupyter-widgets/controls",
            "_model_module_version": "1.5.0",
            "_model_name": "HTMLModel",
            "_view_count": null,
            "_view_module": "@jupyter-widgets/controls",
            "_view_module_version": "1.5.0",
            "_view_name": "HTMLView",
            "description": "",
            "description_tooltip": null,
            "layout": "IPY_MODEL_34e60ad8021b4debad7ccb239169912f",
            "placeholder": "​",
            "style": "IPY_MODEL_7e0d608874674f2bb8e9a6ab74d1aea4",
            "value": "vocab.txt: 100%"
          }
        },
        "7094c63d750c4b58a1b67d2c766379f6": {
          "model_module": "@jupyter-widgets/controls",
          "model_name": "FloatProgressModel",
          "model_module_version": "1.5.0",
          "state": {
            "_dom_classes": [],
            "_model_module": "@jupyter-widgets/controls",
            "_model_module_version": "1.5.0",
            "_model_name": "FloatProgressModel",
            "_view_count": null,
            "_view_module": "@jupyter-widgets/controls",
            "_view_module_version": "1.5.0",
            "_view_name": "ProgressView",
            "bar_style": "success",
            "description": "",
            "description_tooltip": null,
            "layout": "IPY_MODEL_ca9cbb326d2d42508a0e7075865bbd58",
            "max": 227845,
            "min": 0,
            "orientation": "horizontal",
            "style": "IPY_MODEL_90e43ff560a24da188f10362d9a6f0e0",
            "value": 227845
          }
        },
        "59ea6161729840a9af75f86765b57d0c": {
          "model_module": "@jupyter-widgets/controls",
          "model_name": "HTMLModel",
          "model_module_version": "1.5.0",
          "state": {
            "_dom_classes": [],
            "_model_module": "@jupyter-widgets/controls",
            "_model_module_version": "1.5.0",
            "_model_name": "HTMLModel",
            "_view_count": null,
            "_view_module": "@jupyter-widgets/controls",
            "_view_module_version": "1.5.0",
            "_view_name": "HTMLView",
            "description": "",
            "description_tooltip": null,
            "layout": "IPY_MODEL_e13c133091504b5d9ce03f87b1ce43dd",
            "placeholder": "​",
            "style": "IPY_MODEL_8a30ed79124247949b531d5f233fb78d",
            "value": " 228k/228k [00:00&lt;00:00, 2.07MB/s]"
          }
        },
        "faca948cfce74a008f05e9592230e78d": {
          "model_module": "@jupyter-widgets/base",
          "model_name": "LayoutModel",
          "model_module_version": "1.2.0",
          "state": {
            "_model_module": "@jupyter-widgets/base",
            "_model_module_version": "1.2.0",
            "_model_name": "LayoutModel",
            "_view_count": null,
            "_view_module": "@jupyter-widgets/base",
            "_view_module_version": "1.2.0",
            "_view_name": "LayoutView",
            "align_content": null,
            "align_items": null,
            "align_self": null,
            "border": null,
            "bottom": null,
            "display": null,
            "flex": null,
            "flex_flow": null,
            "grid_area": null,
            "grid_auto_columns": null,
            "grid_auto_flow": null,
            "grid_auto_rows": null,
            "grid_column": null,
            "grid_gap": null,
            "grid_row": null,
            "grid_template_areas": null,
            "grid_template_columns": null,
            "grid_template_rows": null,
            "height": null,
            "justify_content": null,
            "justify_items": null,
            "left": null,
            "margin": null,
            "max_height": null,
            "max_width": null,
            "min_height": null,
            "min_width": null,
            "object_fit": null,
            "object_position": null,
            "order": null,
            "overflow": null,
            "overflow_x": null,
            "overflow_y": null,
            "padding": null,
            "right": null,
            "top": null,
            "visibility": null,
            "width": null
          }
        },
        "34e60ad8021b4debad7ccb239169912f": {
          "model_module": "@jupyter-widgets/base",
          "model_name": "LayoutModel",
          "model_module_version": "1.2.0",
          "state": {
            "_model_module": "@jupyter-widgets/base",
            "_model_module_version": "1.2.0",
            "_model_name": "LayoutModel",
            "_view_count": null,
            "_view_module": "@jupyter-widgets/base",
            "_view_module_version": "1.2.0",
            "_view_name": "LayoutView",
            "align_content": null,
            "align_items": null,
            "align_self": null,
            "border": null,
            "bottom": null,
            "display": null,
            "flex": null,
            "flex_flow": null,
            "grid_area": null,
            "grid_auto_columns": null,
            "grid_auto_flow": null,
            "grid_auto_rows": null,
            "grid_column": null,
            "grid_gap": null,
            "grid_row": null,
            "grid_template_areas": null,
            "grid_template_columns": null,
            "grid_template_rows": null,
            "height": null,
            "justify_content": null,
            "justify_items": null,
            "left": null,
            "margin": null,
            "max_height": null,
            "max_width": null,
            "min_height": null,
            "min_width": null,
            "object_fit": null,
            "object_position": null,
            "order": null,
            "overflow": null,
            "overflow_x": null,
            "overflow_y": null,
            "padding": null,
            "right": null,
            "top": null,
            "visibility": null,
            "width": null
          }
        },
        "7e0d608874674f2bb8e9a6ab74d1aea4": {
          "model_module": "@jupyter-widgets/controls",
          "model_name": "DescriptionStyleModel",
          "model_module_version": "1.5.0",
          "state": {
            "_model_module": "@jupyter-widgets/controls",
            "_model_module_version": "1.5.0",
            "_model_name": "DescriptionStyleModel",
            "_view_count": null,
            "_view_module": "@jupyter-widgets/base",
            "_view_module_version": "1.2.0",
            "_view_name": "StyleView",
            "description_width": ""
          }
        },
        "ca9cbb326d2d42508a0e7075865bbd58": {
          "model_module": "@jupyter-widgets/base",
          "model_name": "LayoutModel",
          "model_module_version": "1.2.0",
          "state": {
            "_model_module": "@jupyter-widgets/base",
            "_model_module_version": "1.2.0",
            "_model_name": "LayoutModel",
            "_view_count": null,
            "_view_module": "@jupyter-widgets/base",
            "_view_module_version": "1.2.0",
            "_view_name": "LayoutView",
            "align_content": null,
            "align_items": null,
            "align_self": null,
            "border": null,
            "bottom": null,
            "display": null,
            "flex": null,
            "flex_flow": null,
            "grid_area": null,
            "grid_auto_columns": null,
            "grid_auto_flow": null,
            "grid_auto_rows": null,
            "grid_column": null,
            "grid_gap": null,
            "grid_row": null,
            "grid_template_areas": null,
            "grid_template_columns": null,
            "grid_template_rows": null,
            "height": null,
            "justify_content": null,
            "justify_items": null,
            "left": null,
            "margin": null,
            "max_height": null,
            "max_width": null,
            "min_height": null,
            "min_width": null,
            "object_fit": null,
            "object_position": null,
            "order": null,
            "overflow": null,
            "overflow_x": null,
            "overflow_y": null,
            "padding": null,
            "right": null,
            "top": null,
            "visibility": null,
            "width": null
          }
        },
        "90e43ff560a24da188f10362d9a6f0e0": {
          "model_module": "@jupyter-widgets/controls",
          "model_name": "ProgressStyleModel",
          "model_module_version": "1.5.0",
          "state": {
            "_model_module": "@jupyter-widgets/controls",
            "_model_module_version": "1.5.0",
            "_model_name": "ProgressStyleModel",
            "_view_count": null,
            "_view_module": "@jupyter-widgets/base",
            "_view_module_version": "1.2.0",
            "_view_name": "StyleView",
            "bar_color": null,
            "description_width": ""
          }
        },
        "e13c133091504b5d9ce03f87b1ce43dd": {
          "model_module": "@jupyter-widgets/base",
          "model_name": "LayoutModel",
          "model_module_version": "1.2.0",
          "state": {
            "_model_module": "@jupyter-widgets/base",
            "_model_module_version": "1.2.0",
            "_model_name": "LayoutModel",
            "_view_count": null,
            "_view_module": "@jupyter-widgets/base",
            "_view_module_version": "1.2.0",
            "_view_name": "LayoutView",
            "align_content": null,
            "align_items": null,
            "align_self": null,
            "border": null,
            "bottom": null,
            "display": null,
            "flex": null,
            "flex_flow": null,
            "grid_area": null,
            "grid_auto_columns": null,
            "grid_auto_flow": null,
            "grid_auto_rows": null,
            "grid_column": null,
            "grid_gap": null,
            "grid_row": null,
            "grid_template_areas": null,
            "grid_template_columns": null,
            "grid_template_rows": null,
            "height": null,
            "justify_content": null,
            "justify_items": null,
            "left": null,
            "margin": null,
            "max_height": null,
            "max_width": null,
            "min_height": null,
            "min_width": null,
            "object_fit": null,
            "object_position": null,
            "order": null,
            "overflow": null,
            "overflow_x": null,
            "overflow_y": null,
            "padding": null,
            "right": null,
            "top": null,
            "visibility": null,
            "width": null
          }
        },
        "8a30ed79124247949b531d5f233fb78d": {
          "model_module": "@jupyter-widgets/controls",
          "model_name": "DescriptionStyleModel",
          "model_module_version": "1.5.0",
          "state": {
            "_model_module": "@jupyter-widgets/controls",
            "_model_module_version": "1.5.0",
            "_model_name": "DescriptionStyleModel",
            "_view_count": null,
            "_view_module": "@jupyter-widgets/base",
            "_view_module_version": "1.2.0",
            "_view_name": "StyleView",
            "description_width": ""
          }
        },
        "ef9648b4d4444b16b01baecd1fcd5bd0": {
          "model_module": "@jupyter-widgets/controls",
          "model_name": "HBoxModel",
          "model_module_version": "1.5.0",
          "state": {
            "_dom_classes": [],
            "_model_module": "@jupyter-widgets/controls",
            "_model_module_version": "1.5.0",
            "_model_name": "HBoxModel",
            "_view_count": null,
            "_view_module": "@jupyter-widgets/controls",
            "_view_module_version": "1.5.0",
            "_view_name": "HBoxView",
            "box_style": "",
            "children": [
              "IPY_MODEL_3cac61b1d0a9404ca91170aa33d2ad95",
              "IPY_MODEL_0b07b6faea70429da51c40370d6f414f",
              "IPY_MODEL_de4619be42fa43c190a617d6bbab9e05"
            ],
            "layout": "IPY_MODEL_5ac41ec633a74cc0b02e022f1455c9c6"
          }
        },
        "3cac61b1d0a9404ca91170aa33d2ad95": {
          "model_module": "@jupyter-widgets/controls",
          "model_name": "HTMLModel",
          "model_module_version": "1.5.0",
          "state": {
            "_dom_classes": [],
            "_model_module": "@jupyter-widgets/controls",
            "_model_module_version": "1.5.0",
            "_model_name": "HTMLModel",
            "_view_count": null,
            "_view_module": "@jupyter-widgets/controls",
            "_view_module_version": "1.5.0",
            "_view_name": "HTMLView",
            "description": "",
            "description_tooltip": null,
            "layout": "IPY_MODEL_6ec6f7e3d85044c682f706d6be6603cf",
            "placeholder": "​",
            "style": "IPY_MODEL_f515f923c9144ef584eec64102529060",
            "value": "config.json: 100%"
          }
        },
        "0b07b6faea70429da51c40370d6f414f": {
          "model_module": "@jupyter-widgets/controls",
          "model_name": "FloatProgressModel",
          "model_module_version": "1.5.0",
          "state": {
            "_dom_classes": [],
            "_model_module": "@jupyter-widgets/controls",
            "_model_module_version": "1.5.0",
            "_model_name": "FloatProgressModel",
            "_view_count": null,
            "_view_module": "@jupyter-widgets/controls",
            "_view_module_version": "1.5.0",
            "_view_name": "ProgressView",
            "bar_style": "success",
            "description": "",
            "description_tooltip": null,
            "layout": "IPY_MODEL_e00731d2b46a42679e67663f4dd16d65",
            "max": 385,
            "min": 0,
            "orientation": "horizontal",
            "style": "IPY_MODEL_fdd25cbcd477437f8f1d4b1d54a3312b",
            "value": 385
          }
        },
        "de4619be42fa43c190a617d6bbab9e05": {
          "model_module": "@jupyter-widgets/controls",
          "model_name": "HTMLModel",
          "model_module_version": "1.5.0",
          "state": {
            "_dom_classes": [],
            "_model_module": "@jupyter-widgets/controls",
            "_model_module_version": "1.5.0",
            "_model_name": "HTMLModel",
            "_view_count": null,
            "_view_module": "@jupyter-widgets/controls",
            "_view_module_version": "1.5.0",
            "_view_name": "HTMLView",
            "description": "",
            "description_tooltip": null,
            "layout": "IPY_MODEL_c866215b02374dfbbec53337b0806f82",
            "placeholder": "​",
            "style": "IPY_MODEL_853aaf052773435a8a26c6cd3387c1b6",
            "value": " 385/385 [00:00&lt;00:00, 15.9kB/s]"
          }
        },
        "5ac41ec633a74cc0b02e022f1455c9c6": {
          "model_module": "@jupyter-widgets/base",
          "model_name": "LayoutModel",
          "model_module_version": "1.2.0",
          "state": {
            "_model_module": "@jupyter-widgets/base",
            "_model_module_version": "1.2.0",
            "_model_name": "LayoutModel",
            "_view_count": null,
            "_view_module": "@jupyter-widgets/base",
            "_view_module_version": "1.2.0",
            "_view_name": "LayoutView",
            "align_content": null,
            "align_items": null,
            "align_self": null,
            "border": null,
            "bottom": null,
            "display": null,
            "flex": null,
            "flex_flow": null,
            "grid_area": null,
            "grid_auto_columns": null,
            "grid_auto_flow": null,
            "grid_auto_rows": null,
            "grid_column": null,
            "grid_gap": null,
            "grid_row": null,
            "grid_template_areas": null,
            "grid_template_columns": null,
            "grid_template_rows": null,
            "height": null,
            "justify_content": null,
            "justify_items": null,
            "left": null,
            "margin": null,
            "max_height": null,
            "max_width": null,
            "min_height": null,
            "min_width": null,
            "object_fit": null,
            "object_position": null,
            "order": null,
            "overflow": null,
            "overflow_x": null,
            "overflow_y": null,
            "padding": null,
            "right": null,
            "top": null,
            "visibility": null,
            "width": null
          }
        },
        "6ec6f7e3d85044c682f706d6be6603cf": {
          "model_module": "@jupyter-widgets/base",
          "model_name": "LayoutModel",
          "model_module_version": "1.2.0",
          "state": {
            "_model_module": "@jupyter-widgets/base",
            "_model_module_version": "1.2.0",
            "_model_name": "LayoutModel",
            "_view_count": null,
            "_view_module": "@jupyter-widgets/base",
            "_view_module_version": "1.2.0",
            "_view_name": "LayoutView",
            "align_content": null,
            "align_items": null,
            "align_self": null,
            "border": null,
            "bottom": null,
            "display": null,
            "flex": null,
            "flex_flow": null,
            "grid_area": null,
            "grid_auto_columns": null,
            "grid_auto_flow": null,
            "grid_auto_rows": null,
            "grid_column": null,
            "grid_gap": null,
            "grid_row": null,
            "grid_template_areas": null,
            "grid_template_columns": null,
            "grid_template_rows": null,
            "height": null,
            "justify_content": null,
            "justify_items": null,
            "left": null,
            "margin": null,
            "max_height": null,
            "max_width": null,
            "min_height": null,
            "min_width": null,
            "object_fit": null,
            "object_position": null,
            "order": null,
            "overflow": null,
            "overflow_x": null,
            "overflow_y": null,
            "padding": null,
            "right": null,
            "top": null,
            "visibility": null,
            "width": null
          }
        },
        "f515f923c9144ef584eec64102529060": {
          "model_module": "@jupyter-widgets/controls",
          "model_name": "DescriptionStyleModel",
          "model_module_version": "1.5.0",
          "state": {
            "_model_module": "@jupyter-widgets/controls",
            "_model_module_version": "1.5.0",
            "_model_name": "DescriptionStyleModel",
            "_view_count": null,
            "_view_module": "@jupyter-widgets/base",
            "_view_module_version": "1.2.0",
            "_view_name": "StyleView",
            "description_width": ""
          }
        },
        "e00731d2b46a42679e67663f4dd16d65": {
          "model_module": "@jupyter-widgets/base",
          "model_name": "LayoutModel",
          "model_module_version": "1.2.0",
          "state": {
            "_model_module": "@jupyter-widgets/base",
            "_model_module_version": "1.2.0",
            "_model_name": "LayoutModel",
            "_view_count": null,
            "_view_module": "@jupyter-widgets/base",
            "_view_module_version": "1.2.0",
            "_view_name": "LayoutView",
            "align_content": null,
            "align_items": null,
            "align_self": null,
            "border": null,
            "bottom": null,
            "display": null,
            "flex": null,
            "flex_flow": null,
            "grid_area": null,
            "grid_auto_columns": null,
            "grid_auto_flow": null,
            "grid_auto_rows": null,
            "grid_column": null,
            "grid_gap": null,
            "grid_row": null,
            "grid_template_areas": null,
            "grid_template_columns": null,
            "grid_template_rows": null,
            "height": null,
            "justify_content": null,
            "justify_items": null,
            "left": null,
            "margin": null,
            "max_height": null,
            "max_width": null,
            "min_height": null,
            "min_width": null,
            "object_fit": null,
            "object_position": null,
            "order": null,
            "overflow": null,
            "overflow_x": null,
            "overflow_y": null,
            "padding": null,
            "right": null,
            "top": null,
            "visibility": null,
            "width": null
          }
        },
        "fdd25cbcd477437f8f1d4b1d54a3312b": {
          "model_module": "@jupyter-widgets/controls",
          "model_name": "ProgressStyleModel",
          "model_module_version": "1.5.0",
          "state": {
            "_model_module": "@jupyter-widgets/controls",
            "_model_module_version": "1.5.0",
            "_model_name": "ProgressStyleModel",
            "_view_count": null,
            "_view_module": "@jupyter-widgets/base",
            "_view_module_version": "1.2.0",
            "_view_name": "StyleView",
            "bar_color": null,
            "description_width": ""
          }
        },
        "c866215b02374dfbbec53337b0806f82": {
          "model_module": "@jupyter-widgets/base",
          "model_name": "LayoutModel",
          "model_module_version": "1.2.0",
          "state": {
            "_model_module": "@jupyter-widgets/base",
            "_model_module_version": "1.2.0",
            "_model_name": "LayoutModel",
            "_view_count": null,
            "_view_module": "@jupyter-widgets/base",
            "_view_module_version": "1.2.0",
            "_view_name": "LayoutView",
            "align_content": null,
            "align_items": null,
            "align_self": null,
            "border": null,
            "bottom": null,
            "display": null,
            "flex": null,
            "flex_flow": null,
            "grid_area": null,
            "grid_auto_columns": null,
            "grid_auto_flow": null,
            "grid_auto_rows": null,
            "grid_column": null,
            "grid_gap": null,
            "grid_row": null,
            "grid_template_areas": null,
            "grid_template_columns": null,
            "grid_template_rows": null,
            "height": null,
            "justify_content": null,
            "justify_items": null,
            "left": null,
            "margin": null,
            "max_height": null,
            "max_width": null,
            "min_height": null,
            "min_width": null,
            "object_fit": null,
            "object_position": null,
            "order": null,
            "overflow": null,
            "overflow_x": null,
            "overflow_y": null,
            "padding": null,
            "right": null,
            "top": null,
            "visibility": null,
            "width": null
          }
        },
        "853aaf052773435a8a26c6cd3387c1b6": {
          "model_module": "@jupyter-widgets/controls",
          "model_name": "DescriptionStyleModel",
          "model_module_version": "1.5.0",
          "state": {
            "_model_module": "@jupyter-widgets/controls",
            "_model_module_version": "1.5.0",
            "_model_name": "DescriptionStyleModel",
            "_view_count": null,
            "_view_module": "@jupyter-widgets/base",
            "_view_module_version": "1.2.0",
            "_view_name": "StyleView",
            "description_width": ""
          }
        },
        "a0f5dd49750d4525894399989d365637": {
          "model_module": "@jupyter-widgets/controls",
          "model_name": "HBoxModel",
          "model_module_version": "1.5.0",
          "state": {
            "_dom_classes": [],
            "_model_module": "@jupyter-widgets/controls",
            "_model_module_version": "1.5.0",
            "_model_name": "HBoxModel",
            "_view_count": null,
            "_view_module": "@jupyter-widgets/controls",
            "_view_module_version": "1.5.0",
            "_view_name": "HBoxView",
            "box_style": "",
            "children": [
              "IPY_MODEL_5b397432c1554c25860822324a83d764",
              "IPY_MODEL_99a097a8ffea488a9aaa77843205a4ed",
              "IPY_MODEL_cf53936eeafc4fe687f87528b6f3b768"
            ],
            "layout": "IPY_MODEL_a07cecb8f0ed407a83b82bab6f637394"
          }
        },
        "5b397432c1554c25860822324a83d764": {
          "model_module": "@jupyter-widgets/controls",
          "model_name": "HTMLModel",
          "model_module_version": "1.5.0",
          "state": {
            "_dom_classes": [],
            "_model_module": "@jupyter-widgets/controls",
            "_model_module_version": "1.5.0",
            "_model_name": "HTMLModel",
            "_view_count": null,
            "_view_module": "@jupyter-widgets/controls",
            "_view_module_version": "1.5.0",
            "_view_name": "HTMLView",
            "description": "",
            "description_tooltip": null,
            "layout": "IPY_MODEL_349c9cc46dc443a485bbcaacf22212be",
            "placeholder": "​",
            "style": "IPY_MODEL_128eae598b154d00995f243f13f951f1",
            "value": "vocab.txt: 100%"
          }
        },
        "99a097a8ffea488a9aaa77843205a4ed": {
          "model_module": "@jupyter-widgets/controls",
          "model_name": "FloatProgressModel",
          "model_module_version": "1.5.0",
          "state": {
            "_dom_classes": [],
            "_model_module": "@jupyter-widgets/controls",
            "_model_module_version": "1.5.0",
            "_model_name": "FloatProgressModel",
            "_view_count": null,
            "_view_module": "@jupyter-widgets/controls",
            "_view_module_version": "1.5.0",
            "_view_name": "ProgressView",
            "bar_style": "success",
            "description": "",
            "description_tooltip": null,
            "layout": "IPY_MODEL_cb7310d75d154ebb93389a89f6fe1250",
            "max": 227845,
            "min": 0,
            "orientation": "horizontal",
            "style": "IPY_MODEL_5c6964388b954909ab104e19a96fa3a0",
            "value": 227845
          }
        },
        "cf53936eeafc4fe687f87528b6f3b768": {
          "model_module": "@jupyter-widgets/controls",
          "model_name": "HTMLModel",
          "model_module_version": "1.5.0",
          "state": {
            "_dom_classes": [],
            "_model_module": "@jupyter-widgets/controls",
            "_model_module_version": "1.5.0",
            "_model_name": "HTMLModel",
            "_view_count": null,
            "_view_module": "@jupyter-widgets/controls",
            "_view_module_version": "1.5.0",
            "_view_name": "HTMLView",
            "description": "",
            "description_tooltip": null,
            "layout": "IPY_MODEL_5f54fc01c69d443094ede47966c96b21",
            "placeholder": "​",
            "style": "IPY_MODEL_5033f0e6e8504eb1a82dc12c41bfa205",
            "value": " 228k/228k [00:00&lt;00:00, 3.23MB/s]"
          }
        },
        "a07cecb8f0ed407a83b82bab6f637394": {
          "model_module": "@jupyter-widgets/base",
          "model_name": "LayoutModel",
          "model_module_version": "1.2.0",
          "state": {
            "_model_module": "@jupyter-widgets/base",
            "_model_module_version": "1.2.0",
            "_model_name": "LayoutModel",
            "_view_count": null,
            "_view_module": "@jupyter-widgets/base",
            "_view_module_version": "1.2.0",
            "_view_name": "LayoutView",
            "align_content": null,
            "align_items": null,
            "align_self": null,
            "border": null,
            "bottom": null,
            "display": null,
            "flex": null,
            "flex_flow": null,
            "grid_area": null,
            "grid_auto_columns": null,
            "grid_auto_flow": null,
            "grid_auto_rows": null,
            "grid_column": null,
            "grid_gap": null,
            "grid_row": null,
            "grid_template_areas": null,
            "grid_template_columns": null,
            "grid_template_rows": null,
            "height": null,
            "justify_content": null,
            "justify_items": null,
            "left": null,
            "margin": null,
            "max_height": null,
            "max_width": null,
            "min_height": null,
            "min_width": null,
            "object_fit": null,
            "object_position": null,
            "order": null,
            "overflow": null,
            "overflow_x": null,
            "overflow_y": null,
            "padding": null,
            "right": null,
            "top": null,
            "visibility": null,
            "width": null
          }
        },
        "349c9cc46dc443a485bbcaacf22212be": {
          "model_module": "@jupyter-widgets/base",
          "model_name": "LayoutModel",
          "model_module_version": "1.2.0",
          "state": {
            "_model_module": "@jupyter-widgets/base",
            "_model_module_version": "1.2.0",
            "_model_name": "LayoutModel",
            "_view_count": null,
            "_view_module": "@jupyter-widgets/base",
            "_view_module_version": "1.2.0",
            "_view_name": "LayoutView",
            "align_content": null,
            "align_items": null,
            "align_self": null,
            "border": null,
            "bottom": null,
            "display": null,
            "flex": null,
            "flex_flow": null,
            "grid_area": null,
            "grid_auto_columns": null,
            "grid_auto_flow": null,
            "grid_auto_rows": null,
            "grid_column": null,
            "grid_gap": null,
            "grid_row": null,
            "grid_template_areas": null,
            "grid_template_columns": null,
            "grid_template_rows": null,
            "height": null,
            "justify_content": null,
            "justify_items": null,
            "left": null,
            "margin": null,
            "max_height": null,
            "max_width": null,
            "min_height": null,
            "min_width": null,
            "object_fit": null,
            "object_position": null,
            "order": null,
            "overflow": null,
            "overflow_x": null,
            "overflow_y": null,
            "padding": null,
            "right": null,
            "top": null,
            "visibility": null,
            "width": null
          }
        },
        "128eae598b154d00995f243f13f951f1": {
          "model_module": "@jupyter-widgets/controls",
          "model_name": "DescriptionStyleModel",
          "model_module_version": "1.5.0",
          "state": {
            "_model_module": "@jupyter-widgets/controls",
            "_model_module_version": "1.5.0",
            "_model_name": "DescriptionStyleModel",
            "_view_count": null,
            "_view_module": "@jupyter-widgets/base",
            "_view_module_version": "1.2.0",
            "_view_name": "StyleView",
            "description_width": ""
          }
        },
        "cb7310d75d154ebb93389a89f6fe1250": {
          "model_module": "@jupyter-widgets/base",
          "model_name": "LayoutModel",
          "model_module_version": "1.2.0",
          "state": {
            "_model_module": "@jupyter-widgets/base",
            "_model_module_version": "1.2.0",
            "_model_name": "LayoutModel",
            "_view_count": null,
            "_view_module": "@jupyter-widgets/base",
            "_view_module_version": "1.2.0",
            "_view_name": "LayoutView",
            "align_content": null,
            "align_items": null,
            "align_self": null,
            "border": null,
            "bottom": null,
            "display": null,
            "flex": null,
            "flex_flow": null,
            "grid_area": null,
            "grid_auto_columns": null,
            "grid_auto_flow": null,
            "grid_auto_rows": null,
            "grid_column": null,
            "grid_gap": null,
            "grid_row": null,
            "grid_template_areas": null,
            "grid_template_columns": null,
            "grid_template_rows": null,
            "height": null,
            "justify_content": null,
            "justify_items": null,
            "left": null,
            "margin": null,
            "max_height": null,
            "max_width": null,
            "min_height": null,
            "min_width": null,
            "object_fit": null,
            "object_position": null,
            "order": null,
            "overflow": null,
            "overflow_x": null,
            "overflow_y": null,
            "padding": null,
            "right": null,
            "top": null,
            "visibility": null,
            "width": null
          }
        },
        "5c6964388b954909ab104e19a96fa3a0": {
          "model_module": "@jupyter-widgets/controls",
          "model_name": "ProgressStyleModel",
          "model_module_version": "1.5.0",
          "state": {
            "_model_module": "@jupyter-widgets/controls",
            "_model_module_version": "1.5.0",
            "_model_name": "ProgressStyleModel",
            "_view_count": null,
            "_view_module": "@jupyter-widgets/base",
            "_view_module_version": "1.2.0",
            "_view_name": "StyleView",
            "bar_color": null,
            "description_width": ""
          }
        },
        "5f54fc01c69d443094ede47966c96b21": {
          "model_module": "@jupyter-widgets/base",
          "model_name": "LayoutModel",
          "model_module_version": "1.2.0",
          "state": {
            "_model_module": "@jupyter-widgets/base",
            "_model_module_version": "1.2.0",
            "_model_name": "LayoutModel",
            "_view_count": null,
            "_view_module": "@jupyter-widgets/base",
            "_view_module_version": "1.2.0",
            "_view_name": "LayoutView",
            "align_content": null,
            "align_items": null,
            "align_self": null,
            "border": null,
            "bottom": null,
            "display": null,
            "flex": null,
            "flex_flow": null,
            "grid_area": null,
            "grid_auto_columns": null,
            "grid_auto_flow": null,
            "grid_auto_rows": null,
            "grid_column": null,
            "grid_gap": null,
            "grid_row": null,
            "grid_template_areas": null,
            "grid_template_columns": null,
            "grid_template_rows": null,
            "height": null,
            "justify_content": null,
            "justify_items": null,
            "left": null,
            "margin": null,
            "max_height": null,
            "max_width": null,
            "min_height": null,
            "min_width": null,
            "object_fit": null,
            "object_position": null,
            "order": null,
            "overflow": null,
            "overflow_x": null,
            "overflow_y": null,
            "padding": null,
            "right": null,
            "top": null,
            "visibility": null,
            "width": null
          }
        },
        "5033f0e6e8504eb1a82dc12c41bfa205": {
          "model_module": "@jupyter-widgets/controls",
          "model_name": "DescriptionStyleModel",
          "model_module_version": "1.5.0",
          "state": {
            "_model_module": "@jupyter-widgets/controls",
            "_model_module_version": "1.5.0",
            "_model_name": "DescriptionStyleModel",
            "_view_count": null,
            "_view_module": "@jupyter-widgets/base",
            "_view_module_version": "1.2.0",
            "_view_name": "StyleView",
            "description_width": ""
          }
        },
        "bc86ae68ba654224aa9b91181f4f8e17": {
          "model_module": "@jupyter-widgets/controls",
          "model_name": "HBoxModel",
          "model_module_version": "1.5.0",
          "state": {
            "_dom_classes": [],
            "_model_module": "@jupyter-widgets/controls",
            "_model_module_version": "1.5.0",
            "_model_name": "HBoxModel",
            "_view_count": null,
            "_view_module": "@jupyter-widgets/controls",
            "_view_module_version": "1.5.0",
            "_view_name": "HBoxView",
            "box_style": "",
            "children": [
              "IPY_MODEL_b544daecb2a8416581c50701c740bf09",
              "IPY_MODEL_9dfab003c0ee4ec9b9ac592e995b5512",
              "IPY_MODEL_de822f9d1ec34796b35673c1445b6d1d"
            ],
            "layout": "IPY_MODEL_d6742e380caa4a5fb660b5e597aa57e3"
          }
        },
        "b544daecb2a8416581c50701c740bf09": {
          "model_module": "@jupyter-widgets/controls",
          "model_name": "HTMLModel",
          "model_module_version": "1.5.0",
          "state": {
            "_dom_classes": [],
            "_model_module": "@jupyter-widgets/controls",
            "_model_module_version": "1.5.0",
            "_model_name": "HTMLModel",
            "_view_count": null,
            "_view_module": "@jupyter-widgets/controls",
            "_view_module_version": "1.5.0",
            "_view_name": "HTMLView",
            "description": "",
            "description_tooltip": null,
            "layout": "IPY_MODEL_1f51ce4ef8b74009b86065ddbf41034a",
            "placeholder": "​",
            "style": "IPY_MODEL_83228fc3af7544db80fe4405ea4ed10b",
            "value": "config.json: 100%"
          }
        },
        "9dfab003c0ee4ec9b9ac592e995b5512": {
          "model_module": "@jupyter-widgets/controls",
          "model_name": "FloatProgressModel",
          "model_module_version": "1.5.0",
          "state": {
            "_dom_classes": [],
            "_model_module": "@jupyter-widgets/controls",
            "_model_module_version": "1.5.0",
            "_model_name": "FloatProgressModel",
            "_view_count": null,
            "_view_module": "@jupyter-widgets/controls",
            "_view_module_version": "1.5.0",
            "_view_name": "ProgressView",
            "bar_style": "success",
            "description": "",
            "description_tooltip": null,
            "layout": "IPY_MODEL_656b6a4cbb4c4f258eb204167ac030a4",
            "max": 385,
            "min": 0,
            "orientation": "horizontal",
            "style": "IPY_MODEL_5683f4393aa848debc24c10068844705",
            "value": 385
          }
        },
        "de822f9d1ec34796b35673c1445b6d1d": {
          "model_module": "@jupyter-widgets/controls",
          "model_name": "HTMLModel",
          "model_module_version": "1.5.0",
          "state": {
            "_dom_classes": [],
            "_model_module": "@jupyter-widgets/controls",
            "_model_module_version": "1.5.0",
            "_model_name": "HTMLModel",
            "_view_count": null,
            "_view_module": "@jupyter-widgets/controls",
            "_view_module_version": "1.5.0",
            "_view_name": "HTMLView",
            "description": "",
            "description_tooltip": null,
            "layout": "IPY_MODEL_24440bfa7b9f470e9a88acdc48e2e456",
            "placeholder": "​",
            "style": "IPY_MODEL_8ac6c8d001f34084a51eec292022d2ce",
            "value": " 385/385 [00:00&lt;00:00, 24.9kB/s]"
          }
        },
        "d6742e380caa4a5fb660b5e597aa57e3": {
          "model_module": "@jupyter-widgets/base",
          "model_name": "LayoutModel",
          "model_module_version": "1.2.0",
          "state": {
            "_model_module": "@jupyter-widgets/base",
            "_model_module_version": "1.2.0",
            "_model_name": "LayoutModel",
            "_view_count": null,
            "_view_module": "@jupyter-widgets/base",
            "_view_module_version": "1.2.0",
            "_view_name": "LayoutView",
            "align_content": null,
            "align_items": null,
            "align_self": null,
            "border": null,
            "bottom": null,
            "display": null,
            "flex": null,
            "flex_flow": null,
            "grid_area": null,
            "grid_auto_columns": null,
            "grid_auto_flow": null,
            "grid_auto_rows": null,
            "grid_column": null,
            "grid_gap": null,
            "grid_row": null,
            "grid_template_areas": null,
            "grid_template_columns": null,
            "grid_template_rows": null,
            "height": null,
            "justify_content": null,
            "justify_items": null,
            "left": null,
            "margin": null,
            "max_height": null,
            "max_width": null,
            "min_height": null,
            "min_width": null,
            "object_fit": null,
            "object_position": null,
            "order": null,
            "overflow": null,
            "overflow_x": null,
            "overflow_y": null,
            "padding": null,
            "right": null,
            "top": null,
            "visibility": null,
            "width": null
          }
        },
        "1f51ce4ef8b74009b86065ddbf41034a": {
          "model_module": "@jupyter-widgets/base",
          "model_name": "LayoutModel",
          "model_module_version": "1.2.0",
          "state": {
            "_model_module": "@jupyter-widgets/base",
            "_model_module_version": "1.2.0",
            "_model_name": "LayoutModel",
            "_view_count": null,
            "_view_module": "@jupyter-widgets/base",
            "_view_module_version": "1.2.0",
            "_view_name": "LayoutView",
            "align_content": null,
            "align_items": null,
            "align_self": null,
            "border": null,
            "bottom": null,
            "display": null,
            "flex": null,
            "flex_flow": null,
            "grid_area": null,
            "grid_auto_columns": null,
            "grid_auto_flow": null,
            "grid_auto_rows": null,
            "grid_column": null,
            "grid_gap": null,
            "grid_row": null,
            "grid_template_areas": null,
            "grid_template_columns": null,
            "grid_template_rows": null,
            "height": null,
            "justify_content": null,
            "justify_items": null,
            "left": null,
            "margin": null,
            "max_height": null,
            "max_width": null,
            "min_height": null,
            "min_width": null,
            "object_fit": null,
            "object_position": null,
            "order": null,
            "overflow": null,
            "overflow_x": null,
            "overflow_y": null,
            "padding": null,
            "right": null,
            "top": null,
            "visibility": null,
            "width": null
          }
        },
        "83228fc3af7544db80fe4405ea4ed10b": {
          "model_module": "@jupyter-widgets/controls",
          "model_name": "DescriptionStyleModel",
          "model_module_version": "1.5.0",
          "state": {
            "_model_module": "@jupyter-widgets/controls",
            "_model_module_version": "1.5.0",
            "_model_name": "DescriptionStyleModel",
            "_view_count": null,
            "_view_module": "@jupyter-widgets/base",
            "_view_module_version": "1.2.0",
            "_view_name": "StyleView",
            "description_width": ""
          }
        },
        "656b6a4cbb4c4f258eb204167ac030a4": {
          "model_module": "@jupyter-widgets/base",
          "model_name": "LayoutModel",
          "model_module_version": "1.2.0",
          "state": {
            "_model_module": "@jupyter-widgets/base",
            "_model_module_version": "1.2.0",
            "_model_name": "LayoutModel",
            "_view_count": null,
            "_view_module": "@jupyter-widgets/base",
            "_view_module_version": "1.2.0",
            "_view_name": "LayoutView",
            "align_content": null,
            "align_items": null,
            "align_self": null,
            "border": null,
            "bottom": null,
            "display": null,
            "flex": null,
            "flex_flow": null,
            "grid_area": null,
            "grid_auto_columns": null,
            "grid_auto_flow": null,
            "grid_auto_rows": null,
            "grid_column": null,
            "grid_gap": null,
            "grid_row": null,
            "grid_template_areas": null,
            "grid_template_columns": null,
            "grid_template_rows": null,
            "height": null,
            "justify_content": null,
            "justify_items": null,
            "left": null,
            "margin": null,
            "max_height": null,
            "max_width": null,
            "min_height": null,
            "min_width": null,
            "object_fit": null,
            "object_position": null,
            "order": null,
            "overflow": null,
            "overflow_x": null,
            "overflow_y": null,
            "padding": null,
            "right": null,
            "top": null,
            "visibility": null,
            "width": null
          }
        },
        "5683f4393aa848debc24c10068844705": {
          "model_module": "@jupyter-widgets/controls",
          "model_name": "ProgressStyleModel",
          "model_module_version": "1.5.0",
          "state": {
            "_model_module": "@jupyter-widgets/controls",
            "_model_module_version": "1.5.0",
            "_model_name": "ProgressStyleModel",
            "_view_count": null,
            "_view_module": "@jupyter-widgets/base",
            "_view_module_version": "1.2.0",
            "_view_name": "StyleView",
            "bar_color": null,
            "description_width": ""
          }
        },
        "24440bfa7b9f470e9a88acdc48e2e456": {
          "model_module": "@jupyter-widgets/base",
          "model_name": "LayoutModel",
          "model_module_version": "1.2.0",
          "state": {
            "_model_module": "@jupyter-widgets/base",
            "_model_module_version": "1.2.0",
            "_model_name": "LayoutModel",
            "_view_count": null,
            "_view_module": "@jupyter-widgets/base",
            "_view_module_version": "1.2.0",
            "_view_name": "LayoutView",
            "align_content": null,
            "align_items": null,
            "align_self": null,
            "border": null,
            "bottom": null,
            "display": null,
            "flex": null,
            "flex_flow": null,
            "grid_area": null,
            "grid_auto_columns": null,
            "grid_auto_flow": null,
            "grid_auto_rows": null,
            "grid_column": null,
            "grid_gap": null,
            "grid_row": null,
            "grid_template_areas": null,
            "grid_template_columns": null,
            "grid_template_rows": null,
            "height": null,
            "justify_content": null,
            "justify_items": null,
            "left": null,
            "margin": null,
            "max_height": null,
            "max_width": null,
            "min_height": null,
            "min_width": null,
            "object_fit": null,
            "object_position": null,
            "order": null,
            "overflow": null,
            "overflow_x": null,
            "overflow_y": null,
            "padding": null,
            "right": null,
            "top": null,
            "visibility": null,
            "width": null
          }
        },
        "8ac6c8d001f34084a51eec292022d2ce": {
          "model_module": "@jupyter-widgets/controls",
          "model_name": "DescriptionStyleModel",
          "model_module_version": "1.5.0",
          "state": {
            "_model_module": "@jupyter-widgets/controls",
            "_model_module_version": "1.5.0",
            "_model_name": "DescriptionStyleModel",
            "_view_count": null,
            "_view_module": "@jupyter-widgets/base",
            "_view_module_version": "1.2.0",
            "_view_name": "StyleView",
            "description_width": ""
          }
        },
        "bc444e8f7f1c4582877afc9f027297fb": {
          "model_module": "@jupyter-widgets/controls",
          "model_name": "HBoxModel",
          "model_module_version": "1.5.0",
          "state": {
            "_dom_classes": [],
            "_model_module": "@jupyter-widgets/controls",
            "_model_module_version": "1.5.0",
            "_model_name": "HBoxModel",
            "_view_count": null,
            "_view_module": "@jupyter-widgets/controls",
            "_view_module_version": "1.5.0",
            "_view_name": "HBoxView",
            "box_style": "",
            "children": [
              "IPY_MODEL_223f8a036d324473b50c19517782c833",
              "IPY_MODEL_acfa0b8257154b85b6e2a5607b8fbd5b",
              "IPY_MODEL_7483bc55ef69427a8c2fdb9fb49058df"
            ],
            "layout": "IPY_MODEL_66e44572a2044c94a14aeee3c1384a4d"
          }
        },
        "223f8a036d324473b50c19517782c833": {
          "model_module": "@jupyter-widgets/controls",
          "model_name": "HTMLModel",
          "model_module_version": "1.5.0",
          "state": {
            "_dom_classes": [],
            "_model_module": "@jupyter-widgets/controls",
            "_model_module_version": "1.5.0",
            "_model_name": "HTMLModel",
            "_view_count": null,
            "_view_module": "@jupyter-widgets/controls",
            "_view_module_version": "1.5.0",
            "_view_name": "HTMLView",
            "description": "",
            "description_tooltip": null,
            "layout": "IPY_MODEL_67eb4b855bea43f1b9bbd7738125792f",
            "placeholder": "​",
            "style": "IPY_MODEL_f2abf8f17f734d25b125644e55aae201",
            "value": "vocab.txt: 100%"
          }
        },
        "acfa0b8257154b85b6e2a5607b8fbd5b": {
          "model_module": "@jupyter-widgets/controls",
          "model_name": "FloatProgressModel",
          "model_module_version": "1.5.0",
          "state": {
            "_dom_classes": [],
            "_model_module": "@jupyter-widgets/controls",
            "_model_module_version": "1.5.0",
            "_model_name": "FloatProgressModel",
            "_view_count": null,
            "_view_module": "@jupyter-widgets/controls",
            "_view_module_version": "1.5.0",
            "_view_name": "ProgressView",
            "bar_style": "success",
            "description": "",
            "description_tooltip": null,
            "layout": "IPY_MODEL_97773fc9eb894032a4e22e125581b117",
            "max": 227845,
            "min": 0,
            "orientation": "horizontal",
            "style": "IPY_MODEL_5bc5520f70e14738a301e61ecfe2e322",
            "value": 227845
          }
        },
        "7483bc55ef69427a8c2fdb9fb49058df": {
          "model_module": "@jupyter-widgets/controls",
          "model_name": "HTMLModel",
          "model_module_version": "1.5.0",
          "state": {
            "_dom_classes": [],
            "_model_module": "@jupyter-widgets/controls",
            "_model_module_version": "1.5.0",
            "_model_name": "HTMLModel",
            "_view_count": null,
            "_view_module": "@jupyter-widgets/controls",
            "_view_module_version": "1.5.0",
            "_view_name": "HTMLView",
            "description": "",
            "description_tooltip": null,
            "layout": "IPY_MODEL_2a8aba84ad444fc1ad9545ebb2c7ebab",
            "placeholder": "​",
            "style": "IPY_MODEL_c041a680b6154645b258cc393fe3675b",
            "value": " 228k/228k [00:00&lt;00:00, 2.03MB/s]"
          }
        },
        "66e44572a2044c94a14aeee3c1384a4d": {
          "model_module": "@jupyter-widgets/base",
          "model_name": "LayoutModel",
          "model_module_version": "1.2.0",
          "state": {
            "_model_module": "@jupyter-widgets/base",
            "_model_module_version": "1.2.0",
            "_model_name": "LayoutModel",
            "_view_count": null,
            "_view_module": "@jupyter-widgets/base",
            "_view_module_version": "1.2.0",
            "_view_name": "LayoutView",
            "align_content": null,
            "align_items": null,
            "align_self": null,
            "border": null,
            "bottom": null,
            "display": null,
            "flex": null,
            "flex_flow": null,
            "grid_area": null,
            "grid_auto_columns": null,
            "grid_auto_flow": null,
            "grid_auto_rows": null,
            "grid_column": null,
            "grid_gap": null,
            "grid_row": null,
            "grid_template_areas": null,
            "grid_template_columns": null,
            "grid_template_rows": null,
            "height": null,
            "justify_content": null,
            "justify_items": null,
            "left": null,
            "margin": null,
            "max_height": null,
            "max_width": null,
            "min_height": null,
            "min_width": null,
            "object_fit": null,
            "object_position": null,
            "order": null,
            "overflow": null,
            "overflow_x": null,
            "overflow_y": null,
            "padding": null,
            "right": null,
            "top": null,
            "visibility": null,
            "width": null
          }
        },
        "67eb4b855bea43f1b9bbd7738125792f": {
          "model_module": "@jupyter-widgets/base",
          "model_name": "LayoutModel",
          "model_module_version": "1.2.0",
          "state": {
            "_model_module": "@jupyter-widgets/base",
            "_model_module_version": "1.2.0",
            "_model_name": "LayoutModel",
            "_view_count": null,
            "_view_module": "@jupyter-widgets/base",
            "_view_module_version": "1.2.0",
            "_view_name": "LayoutView",
            "align_content": null,
            "align_items": null,
            "align_self": null,
            "border": null,
            "bottom": null,
            "display": null,
            "flex": null,
            "flex_flow": null,
            "grid_area": null,
            "grid_auto_columns": null,
            "grid_auto_flow": null,
            "grid_auto_rows": null,
            "grid_column": null,
            "grid_gap": null,
            "grid_row": null,
            "grid_template_areas": null,
            "grid_template_columns": null,
            "grid_template_rows": null,
            "height": null,
            "justify_content": null,
            "justify_items": null,
            "left": null,
            "margin": null,
            "max_height": null,
            "max_width": null,
            "min_height": null,
            "min_width": null,
            "object_fit": null,
            "object_position": null,
            "order": null,
            "overflow": null,
            "overflow_x": null,
            "overflow_y": null,
            "padding": null,
            "right": null,
            "top": null,
            "visibility": null,
            "width": null
          }
        },
        "f2abf8f17f734d25b125644e55aae201": {
          "model_module": "@jupyter-widgets/controls",
          "model_name": "DescriptionStyleModel",
          "model_module_version": "1.5.0",
          "state": {
            "_model_module": "@jupyter-widgets/controls",
            "_model_module_version": "1.5.0",
            "_model_name": "DescriptionStyleModel",
            "_view_count": null,
            "_view_module": "@jupyter-widgets/base",
            "_view_module_version": "1.2.0",
            "_view_name": "StyleView",
            "description_width": ""
          }
        },
        "97773fc9eb894032a4e22e125581b117": {
          "model_module": "@jupyter-widgets/base",
          "model_name": "LayoutModel",
          "model_module_version": "1.2.0",
          "state": {
            "_model_module": "@jupyter-widgets/base",
            "_model_module_version": "1.2.0",
            "_model_name": "LayoutModel",
            "_view_count": null,
            "_view_module": "@jupyter-widgets/base",
            "_view_module_version": "1.2.0",
            "_view_name": "LayoutView",
            "align_content": null,
            "align_items": null,
            "align_self": null,
            "border": null,
            "bottom": null,
            "display": null,
            "flex": null,
            "flex_flow": null,
            "grid_area": null,
            "grid_auto_columns": null,
            "grid_auto_flow": null,
            "grid_auto_rows": null,
            "grid_column": null,
            "grid_gap": null,
            "grid_row": null,
            "grid_template_areas": null,
            "grid_template_columns": null,
            "grid_template_rows": null,
            "height": null,
            "justify_content": null,
            "justify_items": null,
            "left": null,
            "margin": null,
            "max_height": null,
            "max_width": null,
            "min_height": null,
            "min_width": null,
            "object_fit": null,
            "object_position": null,
            "order": null,
            "overflow": null,
            "overflow_x": null,
            "overflow_y": null,
            "padding": null,
            "right": null,
            "top": null,
            "visibility": null,
            "width": null
          }
        },
        "5bc5520f70e14738a301e61ecfe2e322": {
          "model_module": "@jupyter-widgets/controls",
          "model_name": "ProgressStyleModel",
          "model_module_version": "1.5.0",
          "state": {
            "_model_module": "@jupyter-widgets/controls",
            "_model_module_version": "1.5.0",
            "_model_name": "ProgressStyleModel",
            "_view_count": null,
            "_view_module": "@jupyter-widgets/base",
            "_view_module_version": "1.2.0",
            "_view_name": "StyleView",
            "bar_color": null,
            "description_width": ""
          }
        },
        "2a8aba84ad444fc1ad9545ebb2c7ebab": {
          "model_module": "@jupyter-widgets/base",
          "model_name": "LayoutModel",
          "model_module_version": "1.2.0",
          "state": {
            "_model_module": "@jupyter-widgets/base",
            "_model_module_version": "1.2.0",
            "_model_name": "LayoutModel",
            "_view_count": null,
            "_view_module": "@jupyter-widgets/base",
            "_view_module_version": "1.2.0",
            "_view_name": "LayoutView",
            "align_content": null,
            "align_items": null,
            "align_self": null,
            "border": null,
            "bottom": null,
            "display": null,
            "flex": null,
            "flex_flow": null,
            "grid_area": null,
            "grid_auto_columns": null,
            "grid_auto_flow": null,
            "grid_auto_rows": null,
            "grid_column": null,
            "grid_gap": null,
            "grid_row": null,
            "grid_template_areas": null,
            "grid_template_columns": null,
            "grid_template_rows": null,
            "height": null,
            "justify_content": null,
            "justify_items": null,
            "left": null,
            "margin": null,
            "max_height": null,
            "max_width": null,
            "min_height": null,
            "min_width": null,
            "object_fit": null,
            "object_position": null,
            "order": null,
            "overflow": null,
            "overflow_x": null,
            "overflow_y": null,
            "padding": null,
            "right": null,
            "top": null,
            "visibility": null,
            "width": null
          }
        },
        "c041a680b6154645b258cc393fe3675b": {
          "model_module": "@jupyter-widgets/controls",
          "model_name": "DescriptionStyleModel",
          "model_module_version": "1.5.0",
          "state": {
            "_model_module": "@jupyter-widgets/controls",
            "_model_module_version": "1.5.0",
            "_model_name": "DescriptionStyleModel",
            "_view_count": null,
            "_view_module": "@jupyter-widgets/base",
            "_view_module_version": "1.2.0",
            "_view_name": "StyleView",
            "description_width": ""
          }
        }
      }
    }
  },
  "nbformat": 4,
  "nbformat_minor": 0
}