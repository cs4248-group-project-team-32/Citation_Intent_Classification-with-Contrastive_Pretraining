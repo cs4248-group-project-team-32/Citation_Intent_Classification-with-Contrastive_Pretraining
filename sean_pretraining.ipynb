{
 "cells": [
  {
   "cell_type": "code",
   "execution_count": 2,
   "metadata": {},
   "outputs": [],
   "source": [
    "import pandas as pd\n",
    "import json\n",
    "\n",
    "data_path_aclarc = \"./acl-arc/scaffolds/sections-scaffold-train.jsonl\"\n",
    "data_path_scicite = \"./scicite/scaffolds/sections-scaffold-train.jsonl\"\n",
    "with open(data_path_aclarc, encoding='utf-8') as data_file:\n",
    "    data = [json.loads(line) for line in data_file]\n",
    "    df = pd.DataFrame(data).drop_duplicates()\n"
   ]
  },
  {
   "cell_type": "markdown",
   "metadata": {},
   "source": [
    "#### Positive Sampling"
   ]
  },
  {
   "cell_type": "code",
   "execution_count": 3,
   "metadata": {},
   "outputs": [],
   "source": [
    "sort_cols_section_paper = ['section_name', 'cited_paper_id']\n",
    "sort_cols_section = ['section_name']\n",
    "sort_cols = sort_cols_section_paper\n",
    "final_cols = ['text', 'text_pos', 'section_name', 'citing_paper_id', 'cited_paper_id']\n",
    "\n",
    "def split_and_concatenate(group):\n",
    "    # Calculate the split index\n",
    "    split_index = len(group) // 2\n",
    "    \n",
    "    # Split the group into two halves\n",
    "    first_half = group.iloc[:split_index].reset_index(drop=True)['text']\n",
    "    second_half = group.iloc[split_index:].reset_index(drop=True)\n",
    "    second_half.rename(columns={'text': 'text_pos'}, inplace=True)\n",
    "\n",
    "    # Concatenate the halves horizontally\n",
    "    concatenated = pd.concat([first_half, second_half], axis=1)\n",
    "    return concatenated\n",
    "\n",
    "# Gets samples using concatenation\n",
    "def get_pos_samples_concat(df):\n",
    "    df_concat = df.copy(deep=True)\n",
    "\n",
    "    # Dummy columns for groupby, to keep original columns\n",
    "    include_groups = [i + '_drop' for i in sort_cols]\n",
    "    df_concat[include_groups] = df_concat[sort_cols]\n",
    "    \n",
    "    result = df_concat.groupby(include_groups).apply(split_and_concatenate, include_groups=False).reset_index(drop=True)\n",
    "    return result\n"
   ]
  },
  {
   "cell_type": "code",
   "execution_count": 4,
   "metadata": {},
   "outputs": [],
   "source": [
    "# Gets samples using Right Outer join\n",
    "def get_pos_samples_rj(df):\n",
    "    df_sorted = df.sort_values(sort_cols).reset_index(drop=True)\n",
    "    df_sorted['WithinGroupID'] = df_sorted.groupby(sort_cols).cumcount()\n",
    "\n",
    "    # Calculate the size of each group and the split point\n",
    "    df_sorted['group_sizes'] = df_sorted.groupby(sort_cols)['WithinGroupID'].transform('max') + 1\n",
    "    df_sorted['cutoff'] = (df_sorted['group_sizes'] / 2).round().astype(int)\n",
    "\n",
    "\n",
    "    # Split groups into half\n",
    "    first_half = df_sorted[df_sorted['WithinGroupID'] < df_sorted['cutoff']]\n",
    "    second_half = df_sorted[df_sorted['WithinGroupID'] >=  df_sorted['cutoff']].reset_index(drop=True)\n",
    "\n",
    "    # Right Join on second half\n",
    "    second_half = second_half.set_axis([i + '_pos' for i in second_half.columns], axis=1)\n",
    "    result = first_half.merge(second_half, how='right', left_on=sort_cols, right_on=[i + '_pos' for i in sort_cols])\n",
    "\n",
    "    selected_cols = ['text', 'text_pos', 'section_name_pos', 'citing_paper_id_pos', 'cited_paper_id_pos']\n",
    "    result = result[selected_cols]\n",
    "    \n",
    "    return result.set_axis(final_cols, axis=1)"
   ]
  },
  {
   "cell_type": "code",
   "execution_count": 7,
   "metadata": {},
   "outputs": [],
   "source": [
    "concat = get_pos_samples_concat(df)\n",
    "rj = get_pos_samples_rj(df)"
   ]
  },
  {
   "cell_type": "code",
   "execution_count": 41,
   "metadata": {},
   "outputs": [],
   "source": [
    "# Replace NA with text_pos (dropout in roberta will treat this as unsupervised learning)\n",
    "def handle_na(df):\n",
    "    df.loc[pd.isna(df['text']), 'text'] = df.loc[pd.isna(df['text'])]['text_pos']\n",
    "\n",
    "handle_na(concat)\n",
    "handle_na(rj)\n",
    "\n",
    "concat[['text', 'text_pos']].to_csv('data_file.csv', index=False)"
   ]
  },
  {
   "cell_type": "markdown",
   "metadata": {},
   "source": [
    "#### Hard Negative"
   ]
  },
  {
   "cell_type": "code",
   "execution_count": 4,
   "metadata": {},
   "outputs": [],
   "source": []
  },
  {
   "cell_type": "markdown",
   "metadata": {},
   "source": [
    "#### Tokenise data"
   ]
  },
  {
   "cell_type": "code",
   "execution_count": 3,
   "metadata": {},
   "outputs": [
    {
     "name": "stderr",
     "output_type": "stream",
     "text": [
      "Map: 100%|██████████| 34280/34280 [00:07<00:00, 4537.44 examples/s]\n"
     ]
    }
   ],
   "source": [
    "from transformers import AutoTokenizer\n",
    "from datasets import load_dataset\n",
    "\n",
    "dataset = load_dataset(\"csv\", data_files=\"data_file.csv\")\n",
    "\n",
    "tokenizer = AutoTokenizer.from_pretrained(\"roberta-base\")\n",
    "column_names = dataset['train'].column_names\n",
    "\n",
    "# Testing\n",
    "def tokenize(examples, max_length=256):\n",
    "    id_masks_all_cols = []\n",
    "    col_name = column_names[0]\n",
    "    length = len(examples[col_name])\n",
    "\n",
    "    # Tokenize examples for each column\n",
    "    for k in column_names:\n",
    "        id_mask = tokenizer(examples[k], truncation=True, padding='max_length', max_length=max_length)\n",
    "        id_masks_all_cols.append(id_mask)\n",
    "\n",
    "    zipped_id_mask = {}\n",
    "    id_mask_col = id_masks_all_cols[0]\n",
    "\n",
    "    # Zips all columns together for each feature, input_id/attention_mask\n",
    "    for feature in id_mask_col:\n",
    "        zipped_id_mask[feature] = [[id_mask[feature][i] for id_mask in id_masks_all_cols] for i in range(length)]\n",
    "\n",
    "    return zipped_id_mask\n",
    "\n",
    "# Shape = [#features, #sentences, #samples(anchor, pos, neg)]\n",
    "tokenized = dataset['train'].map(tokenize, batched=True, remove_columns=column_names)"
   ]
  },
  {
   "cell_type": "markdown",
   "metadata": {},
   "source": [
    "#### Create batch of examples"
   ]
  },
  {
   "cell_type": "code",
   "execution_count": 4,
   "metadata": {},
   "outputs": [],
   "source": [
    "from torch.utils.data import DataLoader\n",
    "\n",
    "tokenized.set_format(\"torch\")\n",
    "\n",
    "train_size = int(0.8 * len(tokenized))\n",
    "test_size = len(tokenized) - train_size\n",
    "\n",
    "small_train_dataset = tokenized.shuffle(seed=42).select(range(train_size))\n",
    "test_dataset = tokenized.shuffle(seed=42).select(range(train_size, train_size+test_size))\n",
    "\n",
    "train_dataloader = DataLoader(small_train_dataset, shuffle=True, batch_size=32)\n",
    "test_dataloader = DataLoader(test_dataset, shuffle=True, batch_size=32)"
   ]
  },
  {
   "cell_type": "code",
   "execution_count": 19,
   "metadata": {},
   "outputs": [
    {
     "data": {
      "text/plain": [
       "215"
      ]
     },
     "execution_count": 19,
     "metadata": {},
     "output_type": "execute_result"
    }
   ],
   "source": [
    "len(test_dataloader)"
   ]
  },
  {
   "cell_type": "markdown",
   "metadata": {},
   "source": [
    "#### NT-Xent Loss "
   ]
  },
  {
   "cell_type": "code",
   "execution_count": 5,
   "metadata": {},
   "outputs": [],
   "source": [
    "import torch\n",
    "import torch.nn as nn\n",
    "\n",
    "def contrastive_loss(embeddings, temperature=0.1, train=True):\n",
    "    sents_per_vector = embeddings.size(1)\n",
    "\n",
    "    if sents_per_vector < 2 or sents_per_vector > 3:\n",
    "        raise Exception(\"Unexpected number of sentences per sample received. Expected: 2/3\") \n",
    "    \n",
    "    cos_sim = nn.CosineSimilarity(dim=-1)\n",
    "\n",
    "    # Reshape to 3D for broadcast computation\n",
    "    anchor = embeddings[:, 0].unsqueeze(1)\n",
    "    positive = embeddings[:, 1].unsqueeze(0)\n",
    "    \n",
    "    # Pairwise cosine similarity, shape = [batch_size, batch_size]\n",
    "    pairwise_sim = cos_sim(anchor, positive)\n",
    "\n",
    "    # index of positive sample for corresponding anchors (matrix diagonal)\n",
    "    target = torch.arange(pairwise_sim.size(0))\n",
    "\n",
    "    # Horizontally concatenate hard_neg similarities (if any)\n",
    "    if sents_per_vector == 3:\n",
    "        hard_neg = embeddings[:, 2].unsqueeze(0)\n",
    "        hard_neg_sim = cos_sim(anchor, hard_neg)\n",
    "        pairwise_sim = torch.cat([pairwise_sim, hard_neg_sim], 1)\n",
    "    \n",
    "    pairwise_sim /= temperature\n",
    "\n",
    "    if train:\n",
    "        loss = nn.CrossEntropyLoss()\n",
    "        output = loss(pairwise_sim, target)\n",
    "\n",
    "        return output\n",
    "    else:\n",
    "        predicted = torch.argmax(pairwise_sim, dim=1)\n",
    "        return predicted, target"
   ]
  },
  {
   "cell_type": "code",
   "execution_count": 6,
   "metadata": {},
   "outputs": [],
   "source": [
    "from torch.optim import AdamW\n",
    "from transformers import RobertaModel\n",
    "\n",
    "def encoder(batch, model):\n",
    "    input_ids = batch['input_ids']\n",
    "    attention_mask = batch['attention_mask']\n",
    "    batch_size, sents_per_vector, tensor_size = input_ids.shape\n",
    "\n",
    "    # Flatten to encode all at once\n",
    "    input_ids = torch.reshape(input_ids, (-1, tensor_size))\n",
    "    attention_mask = torch.reshape(attention_mask, (-1, tensor_size))\n",
    "\n",
    "    # Use [CLS] token representation\n",
    "    # data augmentation handled by roberta, dropout implemented under the hood\n",
    "    outputs = model(input_ids=input_ids, attention_mask=attention_mask)\n",
    "    embeddings = outputs.last_hidden_state[:, 0]\n",
    "\n",
    "    # Add dropout layer for better performance?\n",
    "\n",
    "    # Reshape back to nested tensors\n",
    "    embeddings = torch.reshape(embeddings, (batch_size, sents_per_vector, -1))\n",
    "    return embeddings"
   ]
  },
  {
   "cell_type": "code",
   "execution_count": null,
   "metadata": {},
   "outputs": [],
   "source": [
    "model = RobertaModel.from_pretrained('roberta-base')\n",
    "model.train()\n",
    "\n",
    "optimizer = AdamW(model.parameters(), lr=5e-5)\n",
    "epochs = 2\n",
    "\n",
    "for epoch in range(epochs):\n",
    "    total_loss = 0\n",
    "    # Shape = [#features, #batch_size, #tensor_length]\n",
    "    for i, batch in enumerate(train_dataloader):\n",
    "        optimizer.zero_grad()\n",
    "\n",
    "        embeddings = encoder(batch, model)\n",
    "        loss = contrastive_loss(embeddings)\n",
    "        loss.backward()\n",
    "        optimizer.step()\n",
    "        \n",
    "        total_loss += loss.item()\n",
    "\n",
    "        if i % 4 == 0:\n",
    "            print(f\"Batch: {i+1}/{len(train_dataloader)}, Loss: {total_loss/(i+1)}\")\n",
    "    print(f\"Epoch {epoch+1}, Loss: {total_loss/len(train_dataloader)}\")\n",
    "\n",
    "save_directory = './pretrained'  # Specify your save directory\n",
    "tokenizer.save_pretrained(save_directory)\n",
    "model.save_pretrained(save_directory)"
   ]
  },
  {
   "cell_type": "code",
   "execution_count": 11,
   "metadata": {},
   "outputs": [],
   "source": [
    "from datasets import load_metric\n",
    "\n",
    "def evaluate(data_loader, model):\n",
    "    y_pred, y_test = [], []\n",
    "    model.eval()\n",
    "\n",
    "    f1_metric = load_metric('f1')\n",
    "\n",
    "    for i, batch in enumerate(data_loader):\n",
    "        with torch.no_grad():\n",
    "            outputs = encoder(batch, model)\n",
    "            \n",
    "        y_pred_batch, y_batch = contrastive_loss(outputs, train=False)\n",
    "        y_test += list(y_batch.detach().numpy())\n",
    "        y_pred += list(y_pred_batch.detach().numpy())\n",
    "\n",
    "        print(y_pred_batch, y_batch)\n",
    "\n",
    "        f1_metric.add_batch(predictions=y_pred_batch, references=y_batch)\n",
    "        if i == 5:\n",
    "            break\n",
    "    \n",
    "    return f1_metric.compute(average='macro')"
   ]
  },
  {
   "cell_type": "code",
   "execution_count": 12,
   "metadata": {},
   "outputs": [
    {
     "name": "stderr",
     "output_type": "stream",
     "text": [
      "Some weights of RobertaModel were not initialized from the model checkpoint at roberta-base and are newly initialized: ['roberta.pooler.dense.bias', 'roberta.pooler.dense.weight']\n",
      "You should probably TRAIN this model on a down-stream task to be able to use it for predictions and inference.\n",
      "c:\\Users\\sean2\\AppData\\Local\\Programs\\Python\\Python310\\lib\\site-packages\\datasets\\load.py:756: FutureWarning: The repository for f1 contains custom code which must be executed to correctly load the metric. You can inspect the repository content at https://raw.githubusercontent.com/huggingface/datasets/2.18.0/metrics/f1/f1.py\n",
      "You can avoid this message in future by passing the argument `trust_remote_code=True`.\n",
      "Passing `trust_remote_code=True` will be mandatory to load this metric from the next major release of `datasets`.\n",
      "  warnings.warn(\n"
     ]
    },
    {
     "name": "stdout",
     "output_type": "stream",
     "text": [
      "tensor([ 0,  1,  2,  8, 15,  5,  6,  7, 24,  6, 10, 11,  7, 13, 23, 15, 23, 17,\n",
      "        10, 19, 20, 21,  3, 20, 24, 25,  6, 27, 15, 29,  8, 31]) tensor([ 0,  1,  2,  3,  4,  5,  6,  7,  8,  9, 10, 11, 12, 13, 14, 15, 16, 17,\n",
      "        18, 19, 20, 21, 22, 23, 24, 25, 26, 27, 28, 29, 30, 31])\n",
      "tensor([ 0,  1,  2,  3,  4, 18, 16,  7, 15,  9, 10, 11, 12,  3, 14, 15, 16, 17,\n",
      "        18, 19,  4,  4, 22, 23, 24, 25, 26,  6, 28, 29, 16, 18]) tensor([ 0,  1,  2,  3,  4,  5,  6,  7,  8,  9, 10, 11, 12, 13, 14, 15, 16, 17,\n",
      "        18, 19, 20, 21, 22, 23, 24, 25, 26, 27, 28, 29, 30, 31])\n",
      "tensor([ 0, 12,  2,  0,  4,  5,  6,  7,  5, 30, 20, 11, 12, 13, 12, 15, 16, 17,\n",
      "        18, 17, 28, 21, 22, 23, 24, 25, 26, 27, 28, 18, 30, 31]) tensor([ 0,  1,  2,  3,  4,  5,  6,  7,  8,  9, 10, 11, 12, 13, 14, 15, 16, 17,\n",
      "        18, 19, 20, 21, 22, 23, 24, 25, 26, 27, 28, 29, 30, 31])\n",
      "tensor([ 0,  1, 18, 13,  4,  5,  6,  7,  8, 28, 10, 18, 12, 13, 14, 15,  5, 17,\n",
      "        18, 19, 30, 21, 22, 23, 24, 25, 26, 27, 28, 29, 30, 31]) tensor([ 0,  1,  2,  3,  4,  5,  6,  7,  8,  9, 10, 11, 12, 13, 14, 15, 16, 17,\n",
      "        18, 19, 20, 21, 22, 23, 24, 25, 26, 27, 28, 29, 30, 31])\n",
      "tensor([16,  1, 24,  3, 24,  5, 24,  4, 24,  9, 24, 11, 12, 13, 14,  4, 16, 17,\n",
      "        18, 19, 11, 21, 17, 23, 24, 25, 26, 27, 28, 24, 30, 31]) tensor([ 0,  1,  2,  3,  4,  5,  6,  7,  8,  9, 10, 11, 12, 13, 14, 15, 16, 17,\n",
      "        18, 19, 20, 21, 22, 23, 24, 25, 26, 27, 28, 29, 30, 31])\n",
      "tensor([ 0,  1,  2, 23,  4,  5,  6, 30,  1,  9, 10, 11, 12, 13, 14,  4, 16, 17,\n",
      "         1, 19, 20,  1, 22, 23, 24, 25, 26, 27, 28, 29, 30, 21]) tensor([ 0,  1,  2,  3,  4,  5,  6,  7,  8,  9, 10, 11, 12, 13, 14, 15, 16, 17,\n",
      "        18, 19, 20, 21, 22, 23, 24, 25, 26, 27, 28, 29, 30, 31])\n",
      "f1 for roberta-base: {'f1': 0.7140990770924982}\n"
     ]
    },
    {
     "name": "stderr",
     "output_type": "stream",
     "text": [
      "c:\\Users\\sean2\\AppData\\Local\\Programs\\Python\\Python310\\lib\\site-packages\\datasets\\load.py:756: FutureWarning: The repository for f1 contains custom code which must be executed to correctly load the metric. You can inspect the repository content at https://raw.githubusercontent.com/huggingface/datasets/2.18.0/metrics/f1/f1.py\n",
      "You can avoid this message in future by passing the argument `trust_remote_code=True`.\n",
      "Passing `trust_remote_code=True` will be mandatory to load this metric from the next major release of `datasets`.\n",
      "  warnings.warn(\n"
     ]
    },
    {
     "name": "stdout",
     "output_type": "stream",
     "text": [
      "tensor([ 0,  1,  2, 20,  4,  5,  6,  7,  7,  9, 10, 11, 12,  9,  0, 15,  4, 17,\n",
      "        18, 18, 20,  8, 22, 23, 24, 25, 26, 27, 28, 29, 30, 31]) tensor([ 0,  1,  2,  3,  4,  5,  6,  7,  8,  9, 10, 11, 12, 13, 14, 15, 16, 17,\n",
      "        18, 19, 20, 21, 22, 23, 24, 25, 26, 27, 28, 29, 30, 31])\n",
      "tensor([ 0,  1,  2,  3, 27,  5,  6,  7,  8,  9, 10, 11, 12, 13, 14, 15, 16, 17,\n",
      "         8, 19, 20, 21, 22, 23, 24, 25,  3, 27,  3, 29, 30, 31]) tensor([ 0,  1,  2,  3,  4,  5,  6,  7,  8,  9, 10, 11, 12, 13, 14, 15, 16, 17,\n",
      "        18, 19, 20, 21, 22, 23, 24, 25, 26, 27, 28, 29, 30, 31])\n",
      "tensor([25,  1,  2,  3,  4,  5,  6,  7,  8,  9, 10, 11, 12, 13, 14, 21, 16, 17,\n",
      "        16, 19, 20, 21, 22, 17, 24, 25, 17, 27, 28, 29, 14, 16]) tensor([ 0,  1,  2,  3,  4,  5,  6,  7,  8,  9, 10, 11, 12, 13, 14, 15, 16, 17,\n",
      "        18, 19, 20, 21, 22, 23, 24, 25, 26, 27, 28, 29, 30, 31])\n",
      "tensor([ 0,  1,  2,  3,  4,  5,  6,  7,  8, 31,  8, 11, 12, 13, 14, 15,  0, 17,\n",
      "        18, 19, 20, 21, 22, 23, 24,  8, 26, 27, 28, 28, 30, 28]) tensor([ 0,  1,  2,  3,  4,  5,  6,  7,  8,  9, 10, 11, 12, 13, 14, 15, 16, 17,\n",
      "        18, 19, 20, 21, 22, 23, 24, 25, 26, 27, 28, 29, 30, 31])\n",
      "tensor([ 0,  1,  2, 22,  4,  5,  8,  7,  8,  9, 10, 11, 12, 13, 11, 15, 16, 17,\n",
      "        20, 17, 13, 21, 22, 23, 21, 25, 26, 25, 24, 15, 22, 31]) tensor([ 0,  1,  2,  3,  4,  5,  6,  7,  8,  9, 10, 11, 12, 13, 14, 15, 16, 17,\n",
      "        18, 19, 20, 21, 22, 23, 24, 25, 26, 27, 28, 29, 30, 31])\n",
      "tensor([ 0,  1, 12,  3, 17, 19,  6,  7,  8,  9, 31, 11, 12, 13, 19, 15, 19, 17,\n",
      "        19, 19, 20, 12, 22, 19, 24, 25, 26, 27, 28, 29, 30, 31]) tensor([ 0,  1,  2,  3,  4,  5,  6,  7,  8,  9, 10, 11, 12, 13, 14, 15, 16, 17,\n",
      "        18, 19, 20, 21, 22, 23, 24, 25, 26, 27, 28, 29, 30, 31])\n",
      "f1 for ./pretrained: {'f1': 0.7704450931013431}\n"
     ]
    }
   ],
   "source": [
    "model_names = ['roberta-base', './pretrained']\n",
    "\n",
    "for name in model_names:\n",
    "    model = RobertaModel.from_pretrained(name)\n",
    "    f1 = evaluate(test_dataloader, model)\n",
    "    print(f'f1 for {name}: {f1}')"
   ]
  },
  {
   "cell_type": "code",
   "execution_count": 28,
   "metadata": {},
   "outputs": [
    {
     "data": {
      "text/plain": [
       "{'f1': 0.653125}"
      ]
     },
     "execution_count": 28,
     "metadata": {},
     "output_type": "execute_result"
    }
   ],
   "source": [
    "f1"
   ]
  }
 ],
 "metadata": {
  "kernelspec": {
   "display_name": "Python 3",
   "language": "python",
   "name": "python3"
  },
  "language_info": {
   "codemirror_mode": {
    "name": "ipython",
    "version": 3
   },
   "file_extension": ".py",
   "mimetype": "text/x-python",
   "name": "python",
   "nbconvert_exporter": "python",
   "pygments_lexer": "ipython3",
   "version": "3.10.10"
  }
 },
 "nbformat": 4,
 "nbformat_minor": 2
}
